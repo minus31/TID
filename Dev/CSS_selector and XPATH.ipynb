{
 "cells": [
  {
   "cell_type": "markdown",
   "metadata": {},
   "source": [
    "+++\n",
    "title = \"CSS selector & XPATH\"\n",
    "id = \"Dev\"\n",
    "+++\n",
    "\n",
    "## CSS selector & XPATH\n",
    "\n",
    "\n",
    "#### **css select**\n",
    " - CSS 선택 문법을 이용하여 태그 검색\n",
    " - [CSS 선택 문법 참고](https://saucelabs.com/resources/articles/selenium-tips-css-selectors)\n",
    " - `#` : id \n",
    " - `.`: class\n",
    " - `>`: 하위 \n",
    " \n",
    " \n",
    "#### **XPATH** \n",
    "- `//` : 가장 상위 Element\n",
    "- `.` : 현재 Element\n",
    "- `*` : 조건에 맞는 앞부분의 하위 Element를 모두 살펴봄 ( css selector에서 한칸 띄기와 같음 )\n",
    "- `/` : 바로 아래 요소 ( css selector에서 > 와 같음 )\n",
    "- `element[조건]`\n",
    "    - p[2] : p element의 두번째 element : index가 0이 아닌 1부터 시작\n",
    "    - [@(attribute key)=\"(attribute value)\"]\n",
    "    - [@id=\"email\"] : 아이디 값이 email인 element\n",
    "    - [@class=\"pw\"] : 클래스 값이 pw인 element\n",
    "- `not`\n",
    "    - not(조건) : 조건이 아닌 요소를 찾음"
   ]
  },
  {
   "cell_type": "code",
   "execution_count": null,
   "metadata": {},
   "outputs": [],
   "source": [
    "import requests\n",
    "from bs4 import BeautifulSoup\n",
    "import re\n",
    "\n",
    "res = requests.get('http://v.media.daum.net/v/20170615203441266')\n",
    "soup = BeautifulSoup(res.content, 'html.parser')"
   ]
  },
  {
   "cell_type": "code",
   "execution_count": null,
   "metadata": {},
   "outputs": [],
   "source": [
    "# 태그 검색\n",
    "soup.find('title')"
   ]
  },
  {
   "cell_type": "code",
   "execution_count": null,
   "metadata": {},
   "outputs": [],
   "source": [
    "# select 함수는 리스트 형태로 전체 반환\n",
    "title = soup.select('title')[0]\n",
    "print (title)\n",
    "print (title.get_text())"
   ]
  },
  {
   "cell_type": "code",
   "execution_count": null,
   "metadata": {},
   "outputs": [],
   "source": [
    "# 띄어쓰기가 있다면 하위 태그를 검색\n",
    "title = soup.select('html head title')[0]\n",
    "print (title.get_text())\n"
   ]
  },
  {
   "cell_type": "code",
   "execution_count": null,
   "metadata": {},
   "outputs": [],
   "source": [
    "# 띄어쓰기가 있다면 하위 태그를 검색\n",
    "# 이때 바로 직계의 자식이 아니여도 관계없음\n",
    "title = soup.select('html title')[0]\n",
    "print (title.get_text())"
   ]
  },
  {
   "cell_type": "code",
   "execution_count": null,
   "metadata": {},
   "outputs": [],
   "source": [
    "# > 를 사용하는 경우 바로 아래의 자식만 검색\n",
    "# 바로 아래 자식이 아니기 때문에 에러 발생\n",
    "\n",
    "# title = soup.select('html > title')[0]"
   ]
  },
  {
   "cell_type": "code",
   "execution_count": null,
   "metadata": {},
   "outputs": [],
   "source": [
    "# 바로 아래 자식을 검색\n",
    "title = soup.select('head > title')[0]\n",
    "print (title.get_text())"
   ]
  },
  {
   "cell_type": "code",
   "execution_count": null,
   "metadata": {},
   "outputs": [],
   "source": [
    "# .은 태그의 클래스를 검색\n",
    "# class가 article_view인 태그 탐색\n",
    "body = soup.select('.article_view')[0]\n",
    "print(\"\\n\")\n",
    "print(\"< class가 article_view인 태그 탐색 >\")\n",
    "print(\"*\" * 50) \n",
    "print (type(body), len(body))\n",
    "for p in body.find_all('p'):\n",
    "    print (p.get_text()[:50])\n",
    "    "
   ]
  },
  {
   "cell_type": "code",
   "execution_count": null,
   "metadata": {},
   "outputs": [],
   "source": [
    "# div태그 중 class가 article_view인 태그 탐색\n",
    "body = soup.select('div.article_view')[0]\n",
    "print(\"\\n\")\n",
    "print(\"< div태그 중 class가 article_view인 태그 탐색 >\")\n",
    "print(\"*\" * 50) \n",
    "print (type(body), len(body))\n",
    "for p in body.find_all('p'):\n",
    "    print (p.get_text()[:50])"
   ]
  },
  {
   "cell_type": "code",
   "execution_count": null,
   "metadata": {},
   "outputs": [],
   "source": [
    "# div 태그 중 id가 harmonyContainer인 태그 탐색\n",
    "print(\"\\n\")\n",
    "print(\"< div 태그 중 id가 harmonyContainer인 태그 탐색 >\")\n",
    "print(\"*\" * 50) \n",
    "container = soup.select('#harmonyContainer')\n",
    "print (container[:50])"
   ]
  },
  {
   "cell_type": "code",
   "execution_count": null,
   "metadata": {},
   "outputs": [],
   "source": [
    "# div태그 중 id가 mArticle 인 태그의 하위 태그 중 아이디가 article_title인 태그\n",
    "print(\"\\n\")\n",
    "print(\"< div태그 중 id가 mArticle 인 태그의 하위 태그 중 아이디가 article_title인 태그 >\")\n",
    "print(\"*\" * 50) \n",
    "title = soup.select('div#mArticle  div#harmonyContainer')[0]\n",
    "print (title.get_text())\n"
   ]
  },
  {
   "cell_type": "code",
   "execution_count": null,
   "metadata": {},
   "outputs": [],
   "source": [
    "res = requests.get('http://media.daum.net/economic/')\n",
    "\n",
    "soup = BeautifulSoup(res.content, 'html.parser')\n",
    "\n",
    "# a태그이면서 href 속성을 갖는 경우 탐색, 리스트 타입으로 links 변수에 저장됨\n",
    "print(\"*\" * 70) \n",
    "links = soup.select('a[href]')\n",
    "\n",
    "for n, link in zip(range(len(links)), links): \n",
    "    # print (link) # <a class=\"link_services link_services2\" href=\"http://sports.media.daum.net/sports\">스포츠</a>\n",
    "    # print (link['href']) # http://sports.media.daum.net/sports\n",
    "    if re.search('http://\\w+', link['href']) and n % 100 == 0:  \n",
    "        # http:// 문자열 이후에 숫자 또는 문자[a-zA-Z0-9_]가 한 개 이상 있는 데이터와 매치됨 , 뒤의 조건문은 출력문을 줄이기 위함 \n",
    "        print (link['href'])"
   ]
  },
  {
   "cell_type": "markdown",
   "metadata": {},
   "source": [
    "#### Example"
   ]
  },
  {
   "cell_type": "code",
   "execution_count": 1,
   "metadata": {},
   "outputs": [],
   "source": [
    "html = \"\"\"<div class=\"production\" id=\"product_24182\">\n",
    "    <a target=\"_blank\" href=\"/productions/24182/selling\">\n",
    "        <div class=\"contents\">\n",
    "            <div class=\"name\">[단독특가] Mary Bath Mat(규조토 발매트)_3colors_(칫솔꽂이/비누받침/트레이 추가)</div>\n",
    "                    <div class=\"real_cost\">25,800원</div>\n",
    "                    <div class=\"discount\">\n",
    "                        63%\n",
    "                    </div>\n",
    "                    <div class=\"selling_cost\">9,800원</div>\n",
    "        </div>\n",
    "</a>\n",
    "        <div class=\"information_panel\">\n",
    "            <div class=\"scrappers\">9.42K명 스크랩</div>\n",
    "            <div class=\"viewers\">469K명 조회</div>\n",
    "        </div>\n",
    "</div>\n",
    "<div class=\"production\" id=\"product_34960\">\n",
    "    <a target=\"_blank\" href=\"/productions/34960/selling\">\n",
    "        <div class=\"image\"></div>\n",
    "        <div class=\"contents\">\n",
    "            <div class=\"name\">[기간한정] 액자테이블 베스트 25종 모음전</div>\n",
    "                    <div class=\"real_cost\">20,900원</div>\n",
    "                    <div class=\"discount\">\n",
    "                        29%\n",
    "                    </div>\n",
    "                    <div class=\"selling_cost\">14,900원</div>\n",
    "        </div>\n",
    "</a>\n",
    "\n",
    "        <div class=\"information_panel\">\n",
    "            <div class=\"scrappers\">2.37K명 스크랩</div>\n",
    "            <div class=\"viewers\">119K명 조회</div>\n",
    "        </div>\n",
    "</div>\n",
    "\"\"\""
   ]
  },
  {
   "cell_type": "code",
   "execution_count": null,
   "metadata": {},
   "outputs": [],
   "source": [
    "# beautifulsoup version\n",
    "from bs4 import BeautifulSoup\n",
    "soup = BeautifulSoup(html, 'html.parser')\n",
    "\n",
    "# CSS selector \n",
    "titles = soup.select(\".name\")\n",
    "for t in titles:\n",
    "    print(t.get_text())\n",
    "    \n",
    "r_prices = soup.select(\".production > a > div.contents > div.real_cost\")\n",
    "for r in r_prices:\n",
    "    print(r.get_text())\n",
    "    \n",
    "s_prices = soup.select(\".production > a > div.contents > div.selling_cost\")\n",
    "for s in s_prices:\n",
    "    print(s.get_text())\n",
    "    \n",
    "# XPATH with selenium\n",
    "from selenium import webdriver\n",
    "driver = webdriver.Chrome()\n",
    "driver.get(\"https://ohou.se/productions/feed?best=true&selling=true\")\n",
    "titles = driver.find_elements_by_xpath('//*[@class=\"production\"]/a/div/div[1]')\n",
    "for i, title in enumerate(titles):\n",
    "    if i == 5 or i == 6:\n",
    "        print(title.text)\n",
    "\n",
    "r_prices = driver.find_elements_by_xpath('//*[@class=\"production\"]/a/div/div[2]')\n",
    "for i, r in enumerate(r_prices):\n",
    "    if i == 5 or i == 6:\n",
    "        print(r.text)\n",
    "\n",
    "s_prices = driver.find_elements_by_xpath('//*[@class=\"production\"]/a/div/div[4]')\n",
    "for i, s in enumerate(s_prices):\n",
    "    if i == 5 or i == 6:\n",
    "        print(s.text)\n",
    "\n",
    "driver.close()"
   ]
  },
  {
   "cell_type": "code",
   "execution_count": 2,
   "metadata": {},
   "outputs": [
    {
     "data": {
      "text/html": [
       "<div>\n",
       "<style>\n",
       "    .dataframe thead tr:only-child th {\n",
       "        text-align: right;\n",
       "    }\n",
       "\n",
       "    .dataframe thead th {\n",
       "        text-align: left;\n",
       "    }\n",
       "\n",
       "    .dataframe tbody tr th {\n",
       "        vertical-align: top;\n",
       "    }\n",
       "</style>\n",
       "<table border=\"1\" class=\"dataframe\">\n",
       "  <thead>\n",
       "    <tr style=\"text-align: right;\">\n",
       "      <th></th>\n",
       "      <th>scrappers</th>\n",
       "      <th>titles</th>\n",
       "      <th>viewers</th>\n",
       "    </tr>\n",
       "  </thead>\n",
       "  <tbody>\n",
       "    <tr>\n",
       "      <th>1</th>\n",
       "      <td>1.06K명 스크랩</td>\n",
       "      <td>핸디형 터보 스팀다리미</td>\n",
       "      <td>126K명 조회</td>\n",
       "    </tr>\n",
       "    <tr>\n",
       "      <th>2</th>\n",
       "      <td>4.31K명 스크랩</td>\n",
       "      <td>하이브리드 라텍스 매트리스_S/SS/Q</td>\n",
       "      <td>714K명 조회</td>\n",
       "    </tr>\n",
       "    <tr>\n",
       "      <th>3</th>\n",
       "      <td>11.2K명 스크랩</td>\n",
       "      <td>[한정]보이드 11COLOR 호텔식 베딩 모음전</td>\n",
       "      <td>855K명 조회</td>\n",
       "    </tr>\n",
       "    <tr>\n",
       "      <th>4</th>\n",
       "      <td>8.31K명 스크랩</td>\n",
       "      <td>타이디Ⅱ 수납침대_2sizes</td>\n",
       "      <td>504K명 조회</td>\n",
       "    </tr>\n",
       "    <tr>\n",
       "      <th>5</th>\n",
       "      <td>4.33K명 스크랩</td>\n",
       "      <td>아이언 행거형 드레스룸/옷장 3colors</td>\n",
       "      <td>179K명 조회</td>\n",
       "    </tr>\n",
       "  </tbody>\n",
       "</table>\n",
       "</div>"
      ],
      "text/plain": [
       "    scrappers                      titles   viewers\n",
       "1  1.06K명 스크랩                핸디형 터보 스팀다리미  126K명 조회\n",
       "2  4.31K명 스크랩       하이브리드 라텍스 매트리스_S/SS/Q  714K명 조회\n",
       "3  11.2K명 스크랩  [한정]보이드 11COLOR 호텔식 베딩 모음전  855K명 조회\n",
       "4  8.31K명 스크랩            타이디Ⅱ 수납침대_2sizes  504K명 조회\n",
       "5  4.33K명 스크랩     아이언 행거형 드레스룸/옷장 3colors  179K명 조회"
      ]
     },
     "execution_count": 2,
     "metadata": {},
     "output_type": "execute_result"
    }
   ],
   "source": [
    "# XPATH with scrapy \n",
    "import requests\n",
    "from scrapy.http import TextResponse\n",
    "\n",
    "req = requests.get('https://ohou.se/productions/feed?best=true&selling=true')\n",
    "response = TextResponse(req.url, body=req.text, encoding='utf-8')\n",
    "\n",
    "titles = response.xpath('//*[@class=\"production\"]/a/div/div[1]/text()').extract()[:5]\n",
    "scrappers = response.xpath('//*[@class=\"production\"]/div/div[1]/text()').extract()[:5]\n",
    "viewers = response.xpath('//*[@class=\"production\"]/div/div[2]/text()').extract()[:5]\n",
    "ranking = range(1, len(titles)+1)\n",
    "\n",
    "# make a dataframe / \n",
    "today_house = pd.DataFrame({\"titles\" : titles, \"scrappers\" : scrappers, \"viewers\" : viewers }, index=ranking)\n",
    "today_house"
   ]
  },
  {
   "cell_type": "code",
   "execution_count": null,
   "metadata": {},
   "outputs": [],
   "source": []
  },
  {
   "cell_type": "code",
   "execution_count": null,
   "metadata": {},
   "outputs": [],
   "source": []
  },
  {
   "cell_type": "code",
   "execution_count": null,
   "metadata": {},
   "outputs": [],
   "source": []
  },
  {
   "cell_type": "code",
   "execution_count": null,
   "metadata": {},
   "outputs": [],
   "source": []
  },
  {
   "cell_type": "code",
   "execution_count": null,
   "metadata": {},
   "outputs": [],
   "source": []
  },
  {
   "cell_type": "code",
   "execution_count": null,
   "metadata": {},
   "outputs": [],
   "source": []
  },
  {
   "cell_type": "code",
   "execution_count": null,
   "metadata": {},
   "outputs": [],
   "source": []
  },
  {
   "cell_type": "code",
   "execution_count": null,
   "metadata": {},
   "outputs": [],
   "source": []
  },
  {
   "cell_type": "code",
   "execution_count": null,
   "metadata": {},
   "outputs": [],
   "source": []
  }
 ],
 "metadata": {
  "kernelspec": {
   "display_name": "Python 3",
   "language": "python",
   "name": "python3"
  },
  "language_info": {
   "codemirror_mode": {
    "name": "ipython",
    "version": 3
   },
   "file_extension": ".py",
   "mimetype": "text/x-python",
   "name": "python",
   "nbconvert_exporter": "python",
   "pygments_lexer": "ipython3",
   "version": "3.6.2"
  },
  "latex_envs": {
   "LaTeX_envs_menu_present": true,
   "autocomplete": true,
   "bibliofile": "biblio.bib",
   "cite_by": "apalike",
   "current_citInitial": 1,
   "eqLabelWithNumbers": true,
   "eqNumInitial": 1,
   "hotkeys": {
    "equation": "Ctrl-E",
    "itemize": "Ctrl-I"
   },
   "labels_anchors": false,
   "latex_user_defs": false,
   "report_style_numbering": false,
   "user_envs_cfg": false
  }
 },
 "nbformat": 4,
 "nbformat_minor": 2
}
