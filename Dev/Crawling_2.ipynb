{
 "cells": [
  {
   "cell_type": "markdown",
   "metadata": {},
   "source": [
    "+++\n",
    "title = \"Crawling with Selenium\"\n",
    "id = \"Dev\"\n",
    "+++\n",
    "\n",
    "# Crawling with Selenium \n",
    "[Selenium](http://www.seleniumhq.org/)\n",
    "-  가상의 브라우져를 열어서 작업하기 때문에, 웹상에서의 행동을 다양하게 할 수 있다. (원래는 웹을 테스트하기 위한 프레임 워크라고 한다.)\n",
    "- Driver는 Chrome 이나 PhantomJS를 쓰는데, 개인적인 경험 상, PhantomJS가 훨씬 빠른 것 같다. \n",
    "\n",
    "**<ex>**"
   ]
  },
  {
   "cell_type": "markdown",
   "metadata": {},
   "source": [
    "##### open browser\n",
    "- 크롬 브라우져로 브라우져 오픈"
   ]
  },
  {
   "cell_type": "code",
   "execution_count": 2,
   "metadata": {},
   "outputs": [],
   "source": [
    "driver =  webdriver.Chrome()"
   ]
  },
  {
   "cell_type": "markdown",
   "metadata": {},
   "source": [
    "##### move web page\n",
    "- url로 페이지 이동"
   ]
  },
  {
   "cell_type": "code",
   "execution_count": 13,
   "metadata": {},
   "outputs": [],
   "source": [
    "driver.get(\"http://www.naver.com\")"
   ]
  },
  {
   "cell_type": "markdown",
   "metadata": {},
   "source": [
    "##### set window size\n",
    "- 윈도우 사이즈 조절"
   ]
  },
  {
   "cell_type": "code",
   "execution_count": 14,
   "metadata": {},
   "outputs": [],
   "source": [
    "driver.set_window_size(800, 600)"
   ]
  },
  {
   "cell_type": "markdown",
   "metadata": {},
   "source": [
    "##### scroll move\n",
    "- 브라우져의 스크롤 위치 이동"
   ]
  },
  {
   "cell_type": "code",
   "execution_count": 15,
   "metadata": {},
   "outputs": [],
   "source": [
    "driver.execute_script(\"window.scrollTo(200, 300);\")"
   ]
  },
  {
   "cell_type": "markdown",
   "metadata": {},
   "source": [
    "##### save current window\n",
    "- 메인 윈도우의 위치를 저장"
   ]
  },
  {
   "cell_type": "code",
   "execution_count": 16,
   "metadata": {},
   "outputs": [
    {
     "data": {
      "text/plain": [
       "'CDwindow-(CF4BF8B2794C9A65BA9E78EF29401630)'"
      ]
     },
     "execution_count": 16,
     "metadata": {},
     "output_type": "execute_result"
    }
   ],
   "source": [
    "main_window = driver.current_window_handle\n",
    "main_window"
   ]
  },
  {
   "cell_type": "markdown",
   "metadata": {},
   "source": [
    "##### open new window tab\n",
    "- 자바스크립트를 이용하여 새로운 탭 오픈\n",
    "- 새로운 탭을 열었지만 포커스는 처음 오픈한 페이지에 있습니다."
   ]
  },
  {
   "cell_type": "code",
   "execution_count": 17,
   "metadata": {},
   "outputs": [],
   "source": [
    "driver.execute_script(\"window.open('https://www.google.com');\")"
   ]
  },
  {
   "cell_type": "code",
   "execution_count": 18,
   "metadata": {},
   "outputs": [],
   "source": [
    "driver.get('http://daum.net/')"
   ]
  },
  {
   "cell_type": "markdown",
   "metadata": {},
   "source": [
    "##### check windows"
   ]
  },
  {
   "cell_type": "code",
   "execution_count": 19,
   "metadata": {},
   "outputs": [
    {
     "data": {
      "text/plain": [
       "['CDwindow-(CF4BF8B2794C9A65BA9E78EF29401630)',\n",
       " 'CDwindow-(F3F5477789D94F938A4413E46AD9480)']"
      ]
     },
     "execution_count": 19,
     "metadata": {},
     "output_type": "execute_result"
    }
   ],
   "source": [
    "windows = driver.window_handles\n",
    "windows"
   ]
  },
  {
   "cell_type": "markdown",
   "metadata": {},
   "source": [
    "##### change focus\n",
    "- 새로 오픈한 페이지로 포커스를 변경"
   ]
  },
  {
   "cell_type": "code",
   "execution_count": 20,
   "metadata": {},
   "outputs": [],
   "source": [
    "driver.switch_to_window(windows[1])"
   ]
  },
  {
   "cell_type": "code",
   "execution_count": 21,
   "metadata": {},
   "outputs": [],
   "source": [
    "driver.get('http://facebook.com/')"
   ]
  },
  {
   "cell_type": "markdown",
   "metadata": {},
   "source": [
    "- 앞에서 저장해 놓은 main_window 변수를 이용하여 메인페이지로 다시 포커스 변경"
   ]
  },
  {
   "cell_type": "code",
   "execution_count": 22,
   "metadata": {},
   "outputs": [],
   "source": [
    "driver.switch_to_window(main_window)"
   ]
  },
  {
   "cell_type": "markdown",
   "metadata": {},
   "source": [
    "##### page reload"
   ]
  },
  {
   "cell_type": "code",
   "execution_count": 23,
   "metadata": {},
   "outputs": [],
   "source": [
    "driver.execute_script(\"location.reload();\")"
   ]
  },
  {
   "cell_type": "markdown",
   "metadata": {},
   "source": [
    "##### alert 다루기\n",
    "- alert과 cofirm"
   ]
  },
  {
   "cell_type": "code",
   "execution_count": 28,
   "metadata": {},
   "outputs": [],
   "source": [
    "# open alert\n",
    "#driver.execute_script(\"alert('selenium test');\")\n",
    "driver.execute_script(\"confirm('confirm?');\")"
   ]
  },
  {
   "cell_type": "code",
   "execution_count": null,
   "metadata": {},
   "outputs": [],
   "source": [
    "# focus alert\n",
    "alert = driver.switch_to_alert()"
   ]
  },
  {
   "cell_type": "code",
   "execution_count": null,
   "metadata": {},
   "outputs": [],
   "source": [
    "# get alert text\n",
    "alert.text"
   ]
  },
  {
   "cell_type": "code",
   "execution_count": 32,
   "metadata": {},
   "outputs": [],
   "source": [
    "driver.find_element_by_css_selector( \"#q\" ).send_keys( \"패스트캠퍼스\" )"
   ]
  },
  {
   "cell_type": "code",
   "execution_count": 33,
   "metadata": {},
   "outputs": [],
   "source": [
    "driver.find_element_by_css_selector(\".ico_pctop.btn_search\").click()\n",
    "# driver.find_element_by_css_selector(\"#daumBtnSearch\").click()"
   ]
  },
  {
   "cell_type": "code",
   "execution_count": null,
   "metadata": {},
   "outputs": [],
   "source": [
    "# close driver \n",
    "driver.close()\n",
    "\n",
    "## close all driver\n",
    "\n",
    "for window in driver.window_handles:\n",
    "    driver.switch_to_window(window)\n",
    "    driver.close()"
   ]
  },
  {
   "cell_type": "markdown",
   "metadata": {},
   "source": [
    "-----------------"
   ]
  },
  {
   "cell_type": "code",
   "execution_count": null,
   "metadata": {},
   "outputs": [],
   "source": [
    "from selenium import webdriver\n",
    "from selenium.webdriver.common.keys import Keys\n",
    "import time\n",
    "\n",
    "# 드라이버 생성\n",
    "# chromedriver 설치된 경로를 정확히 기재해야 함\n",
    "# driver = webdriver.Chrome('/usr/local/Cellar/chromedriver/chromedriver') # 맥 \n",
    "driver = webdriver.PhantomJS('/usr/local/Cellar/phantomjs/2.1.1/bin/phantomjs') # 맥\n",
    "\n",
    "\n",
    "# 크롤링할 사이트 호출\n",
    "driver.get(\"http://www.python.org\")\n",
    "\n",
    "# Selenium은 웹테스트를 위한 프레임워크로 다음과 같은 방식으로 웹테스트를 자동으로 진행함 (참고)\n",
    "assert \"Python\" in driver.title\n",
    "\n",
    "# <input id=\"id-search-field\" name=\"q\" 검색창 name으로 검색하기\n",
    "# 태그 name으로 특정한 태그를 찾을 수 있음\n",
    "elem = driver.find_element_by_name(\"q\")\n",
    "\n",
    "# input 텍스트 초기화 \n",
    "# elem.clear()\n",
    "\n",
    "# 키 이벤트 전송가능함\n",
    "# 태그가 input 태그이므로 입력창에 키이벤트가 전달되면, 입력값이 자동으로 작성됨\n",
    "elem.send_keys(\"pycon\")\n",
    "\n",
    "# 태그가 input 태그이므로 엔터 입력시 form action이 진행됨\n",
    "elem.send_keys(Keys.RETURN)\n",
    "\n",
    "# Selenium은 웹테스트를 위한 프레임워크로 다음과 같은 방식으로 웹테스트를 자동으로 진행함 (참고)\n",
    "assert \"No results found.\" not in driver.page_source\n",
    "\n",
    "# 명시적으로 일정시간을 기다릴 수 있음 (10초 기다림)\n",
    "time.sleep(10)\n",
    "\n",
    "# 스크린샷도 찍을 수 있습니다.\n",
    "driver.set_window_size(1400, 1000)\n",
    "elem.screenshot(\"pycon_event.png\")\n",
    "assert \"No results found.\" not in driver.page_source\n",
    "\n",
    "############################################\n",
    "title = driver.find_element_by_tag_name('h3')\n",
    "print (title.text)\n",
    "\n",
    "# 모든 태그 검색\n",
    "h3s = driver.find_elements_by_tag_name('h3')\n",
    "\n",
    "for h3 in h3s:\n",
    "    print (h3.text)\n",
    "    \n",
    "# or by css selector \n",
    "title = driver.find_element_by_css_selector(\"h3.tit_view\")\n",
    "\n",
    "# role attribute가 navigation인 div태그\n",
    "nav = driver.find_element_by_css_selector(\"div[role='navigation']\")\n",
    "\n",
    "\n",
    "############################################\n",
    "title_data = driver.find_element_by_css_selector('html head title')\n",
    "print(title_data.get_attribute('text'))\n",
    "\n",
    "title_data = driver.find_element_by_css_selector('html > title')\n",
    "# head 태그 안에 있는 title 정보는 get_attribute('text') 메서드로 추출할 수 있습니다. \n",
    "print(title_data.get_attribute('text'))\n",
    "\n",
    "contents = driver.find_element_by_css_selector(\"div#harmonyContainer\")\n",
    "# body 안에 있는 태그 요소는 .text 로 추출할 수 있습니다. (출력이 잘 안되면, 둘다 써보셔도 좋습니다.)\n",
    "print(contents.text)\n",
    "\n",
    "for p in contents.find_elements_by_tag_name('p'):\n",
    "    print (p.text)\n",
    "\n",
    "driver.quit()\n",
    "\n"
   ]
  },
  {
   "cell_type": "markdown",
   "metadata": {},
   "source": [
    "#### Can handle time for loading or cheating to avoid being blocked \n"
   ]
  },
  {
   "cell_type": "code",
   "execution_count": null,
   "metadata": {},
   "outputs": [],
   "source": [
    "from selenium import webdriver\n",
    "from selenium.webdriver.common.by import By\n",
    "from selenium.webdriver.support.ui import WebDriverWait\n",
    "from selenium.webdriver.support import expected_conditions as EC\n",
    "\n",
    "\n",
    "driver = webdriver.PhantomJS('/usr/local/Cellar/phantomjs/2.1.1/bin/phantomjs')\n",
    "driver.get('http://v.media.daum.net/v/20170202180355822')\n",
    "try:\n",
    "    # id가 cMain인 tag를 10초 내에 검색, 그렇지 않으면 timeoutexception 발생\n",
    "    element = WebDriverWait(driver, 10).until(\n",
    "        # By.ID 는 ID로 검색, By.CSS_SELECTOR 는 CSS Selector 로 검색\n",
    "        EC.presence_of_element_located((By.ID, \"cMain\"))\n",
    "    )\n",
    "    print(element.text)\n",
    "\n",
    "except TimeoutException:\n",
    "    print(\"해당 페이지에 cMain 을 ID 로 가진 태그가 존재하지 않거나, 해당 페이지가 10초 안에 열리지 않았습니다.\")\n",
    "    \n",
    "finally:\n",
    "    driver.quit()"
   ]
  },
  {
   "cell_type": "markdown",
   "metadata": {},
   "source": [
    "#### 웹사이트 자동 조작하는 방법\n",
    "\n",
    "  - element 클릭: element.click()\n",
    "  - element 더블 클릭: element.double_click()\n",
    "  - element 키보드 입력 전송: element.send_keys()\n",
    "  - element 로 마우스 이동: element.move_to_element()"
   ]
  },
  {
   "cell_type": "code",
   "execution_count": null,
   "metadata": {},
   "outputs": [],
   "source": [
    "from selenium import webdriver\n",
    "from selenium.webdriver.remote.webelement import WebElement\n",
    "from selenium.webdriver.common.keys import Keys\n",
    "from selenium.webdriver import ActionChains\n",
    "\n",
    "driver = webdriver.PhantomJS('/usr/local/Cellar/phantomjs/2.1.1/bin/phantomjs')\n",
    "driver.get(\"http://pythonscraping.com/pages/files/form.html\")\n",
    "\n",
    "firstnameField = driver.find_element_by_name(\"firstname\")\n",
    "lastnameField = driver.find_element_by_name(\"lastname\")\n",
    "submitButton = driver.find_element_by_id(\"submit\")\n",
    "\n",
    "firstnameField.send_keys(\"Doky\")\n",
    "lastnameField.send_keys(\"Kim\")\n",
    "submitButton.click()\n",
    "\n",
    "print(driver.find_element_by_tag_name(\"body\").text)\n",
    "\n",
    "driver.close()"
   ]
  },
  {
   "cell_type": "markdown",
   "metadata": {},
   "source": [
    "- ActionChains(): 행동 여러 개를 체인 으로 묶어서 저장하고 원하는 만큼 실행\n",
    "- perform() 메서드 실행시 전체 행동을 실행함"
   ]
  },
  {
   "cell_type": "code",
   "execution_count": null,
   "metadata": {},
   "outputs": [],
   "source": [
    "from selenium import webdriver\n",
    "from selenium.webdriver.remote.webelement import WebElement\n",
    "from selenium.webdriver.common.keys import Keys\n",
    "from selenium.webdriver import ActionChains\n",
    "\n",
    "driver = webdriver.PhantomJS('/usr/local/Cellar/phantomjs/2.1.1/bin/phantomjs')\n",
    "driver.get(\"http://pythonscraping.com/pages/files/form.html\")\n",
    "\n",
    "firstnameField = driver.find_element_by_name(\"firstname\")\n",
    "lastnameField = driver.find_element_by_name(\"lastname\")\n",
    "submitButton = driver.find_element_by_id(\"submit\")\n",
    "\n",
    "actions = ActionChains(driver).click(firstnameField).send_keys(\"Doky\").click(lastnameField).send_keys(\"Kim\").send_keys(Keys.RETURN)\n",
    "actions.perform()\n",
    "\n",
    "print(driver.find_element_by_tag_name(\"body\").text)\n",
    "\n",
    "driver.close()"
   ]
  },
  {
   "cell_type": "markdown",
   "metadata": {},
   "source": [
    "###### What I've done\n"
   ]
  },
  {
   "cell_type": "code",
   "execution_count": null,
   "metadata": {},
   "outputs": [],
   "source": [
    "from selenium import webdriver\n",
    "import requests, json\n",
    "\n",
    "url = \"http://stats.nba.com/stats/leaguedashteamstats?Conference=&DateFrom=&DateTo=&Division=&GameScope=&GameSegment=&LastNGames=0&LeagueID=00&Location=&MeasureType=Base&Month=0&OpponentTeamID=0&Outcome=&PORound=0&PaceAdjust=N&PerMode=PerGame&Period=0&PlayerExperience=&PlayerPosition=&PlusMinus=N&Rank=N&Season=2017-18&SeasonSegment=&SeasonType=Regular+Season&ShotClockRange=&StarterBench=&TeamID=0&VsConference=&VsDivision=\"\n",
    "driver = webdriver.Chrome()\n",
    "driver.get(url)\n",
    "\n",
    "response = driver.find_element_by_css_selector(\"pre\").text\n",
    "json_data = json.loads(response)\n",
    "\n",
    "driver.close()\n",
    "\n",
    "columns = json_data['resultSets'][0]['headers']\n",
    "len(columns)"
   ]
  },
  {
   "cell_type": "code",
   "execution_count": null,
   "metadata": {},
   "outputs": [],
   "source": [
    "datas = json_data['resultSets'][0]['rowSet']\n",
    "len(datas)"
   ]
  },
  {
   "cell_type": "code",
   "execution_count": null,
   "metadata": {},
   "outputs": [],
   "source": [
    "df = pd.DataFrame(datas, columns=columns)\n",
    "df.sort_values(\"PTS\", ascending=False).reset_index(drop=True)\n",
    "df.tail()"
   ]
  },
  {
   "cell_type": "code",
   "execution_count": null,
   "metadata": {},
   "outputs": [],
   "source": [
    "columns_filter = [\"TEAM_NAME\", \"GP\", \"W\", \"L\", \"W_PCT\", \"MIN\", \"FGM\"]\n",
    "columns_rename = {\"TEAM_NAME\":\"TEAM\", \"W_PCT\":\"WIN%\"}\n",
    "\n",
    "df_filter = df.filter(items=columns_filter)\n",
    "df_filter.tail()"
   ]
  },
  {
   "cell_type": "code",
   "execution_count": null,
   "metadata": {},
   "outputs": [],
   "source": [
    "df_rename = df_filter.rename(columns=columns_rename)\n",
    "df_rename.tail()"
   ]
  },
  {
   "cell_type": "code",
   "execution_count": null,
   "metadata": {},
   "outputs": [],
   "source": [
    "import requests\n",
    "from selenium import webdriver\n",
    "import json\n",
    "\n",
    "driver = webdriver.Chrome()\n",
    "\n",
    "driver.get(\"http://stats.nba.com/stats/leaguedashteamstats?Conference=&DateFrom=&DateTo=&Division=&GameScope=&GameSegment=&LastNGames=0&LeagueID=00&Location=&MeasureType=Base&Month=0&OpponentTeamID=0&Outcome=&PORound=0&PaceAdjust=N&PerMode=PerGame&Period=0&PlayerExperience=&PlayerPosition=&PlusMinus=N&Rank=N&Season=2017-18&SeasonSegment=&SeasonType=Regular+Season&ShotClockRange=&StarterBench=&TeamID=0&VsConference=&VsDivision=\")\n",
    "\n",
    "pre = driver.find_element_by_css_selector(\"pre\").text\n",
    "data = json.loads(pre)\n",
    "\n",
    "\n",
    "teams = data[\"resultSets\"][0][\"rowSet\"]\n",
    "print(len(teams))\n",
    "\n",
    "columns = data[\"resultSets\"][0][\"headers\"]\n",
    "print(len(columns))\n",
    "\n",
    "df = pd.DataFrame(columns=[columns] )\n",
    "\n",
    "for idx in range(len(teams)):\n",
    "    df.loc[len(df)] = teams[idx]\n",
    "    \n",
    "df = df.drop(\"TEAM_ID\", axis=1)\n",
    "df = df.drop(\"CFPARAMS\", axis=1)\n",
    "df= df.sort_values(by= \"PTS_RANK\").reset_index(drop = True)\n",
    "\n",
    "driver.close()\n",
    "\n",
    "df"
   ]
  },
  {
   "cell_type": "code",
   "execution_count": null,
   "metadata": {},
   "outputs": [],
   "source": [
    "### Selenium image screenshot\n",
    "\n",
    "# Install Pillow \n",
    "# - 이미지를 컨트롤 하기위한 python 패키지인 Pillow를 설치합니다.\n",
    "# - `pip3 install pillow`\n",
    "# - http://pillow.readthedocs.io/en/3.1.x/reference/Image.html\n",
    "\n",
    "import time\n",
    "from selenium import webdriver\n",
    "from PIL import Image as pil\n",
    "\n",
    "# pil??\n",
    "\n",
    "# 브라우져를 열고 youtube 페이지로 이동하여 브라우져 화면을 이미지로 저장합니다. \n",
    "driver =  webdriver.Chrome()\n",
    "driver.get(\"https://www.youtube.com/watch?v=tXOJIBPwSyo&t=200s\") # t=200s -> 200초부터 재생 가능 -> 이것을 이용해 영상이미지를 추출하는데 활용가능 \n",
    "time.sleep(1)\n",
    "driver.save_screenshot('screenshot.png')\n",
    "\n",
    "##### show image\n",
    "\n",
    "# 저장된 이미지파일의 사이즈와 이미지를 pillow를 이용하여 확인 합니다.\n",
    "pil_im = pil.open('screenshot.png')\n",
    "print(pil_im.size)\n",
    "pil_im\n",
    "\n",
    "##### change image size\n",
    "\n",
    "# pillow를 이용하여 512*512 사이즈로 이미지의 크기를 변환합니다.\n",
    "pil_im.thumbnail((512, 512))\n",
    "pil_im.save(\"screenshot_thumnail.png\")\n",
    "pil.open('screenshot_thumnail.png')\n",
    "\n",
    "##### select element image\n",
    "# - 이미지의 특정 영역을 자를수 있습니다.\n",
    "# - 모니터의 해상도에 따라서 위치를 계산하는 방법에 차이가 있을수 있습니다.\n",
    "\n",
    "# 특정 selector의 element의 위치와 사이즈 데이터를 확인합니다.\n",
    "element = driver.find_element_by_css_selector('#movie_player')\n",
    "location = element.location\n",
    "size = element.size\n",
    "location, size\n",
    "\n",
    "# 저장했던 원본이미지를 열어 top, bottom, right, left의 위치를 계산합니다.\n",
    "pil_im = pil.open('screenshot.png')\n",
    "left = location['x'] * 2\n",
    "top = location['y'] * 2\n",
    "right = left + size['width'] * 2\n",
    "bottom = top + size['height'] * 2\n",
    "area = (left, top, right, bottom)\n",
    "area\n",
    "# retina에서 해상도를 위해 모든 요소에 * 2를 한다. \n",
    "\n",
    "# pillow를 이용하여 계산된 위치로 이미지를 잘라줍니다.\n",
    "pil_im = pil_im.crop(area) \n",
    "\n",
    "# 자른 이미지를 저장하고 저장된 이미지를 보여줍니다.\n",
    "pil_im.save(\"screenshot_element.png\")\n",
    "driver.close()\n",
    "\n",
    "pil.open('screenshot_element.png')\n"
   ]
  },
  {
   "cell_type": "code",
   "execution_count": null,
   "metadata": {},
   "outputs": [],
   "source": [
    "import time\n",
    "from selenium import webdriver\n",
    "\n",
    "driver =  webdriver.Chrome()\n",
    "\n",
    "driver.get('https://cloud.google.com/vision/')\n",
    "\n",
    "# ------------------------------------------------------\n",
    "# - google vision api test 페이지에 이미지 업로드해서 결과 확인\n",
    "# - 파일 업로드 영역이 iframe으로 되어 있어 iframe으로 포커스 이동\n",
    "\n",
    "iframe = driver.find_element_by_css_selector(\"#vision_demo_section > iframe\")\n",
    "driver.switch_to_frame(iframe)\n",
    "\n",
    "# switch back default content\n",
    "driver.switch_to_default_content()\n",
    "\n",
    "path = !pwd\n",
    "\n",
    "file_path = path[0] + \"/screenshot_element.png\"\n",
    "driver.find_element_by_css_selector(\"\").send_keys(file_path)\n",
    "\n",
    "driver.find_element_by_css_selector(\"#webDetection\").click()\n",
    "print(driver.find_elements_by_css_selector('.vs-web .name')[0].text)\n",
    "driver.close()"
   ]
  },
  {
   "cell_type": "markdown",
   "metadata": {},
   "source": [
    " - Selenium으로 크롤링 할때는, 자주 element나 데이터가 불러왔는지 체크를 하는게 중요하다. 그냥 10초 기다리면 나오겠지하고 기다리기만 하면 혼난다.!\n",
    " "
   ]
  },
  {
   "cell_type": "code",
   "execution_count": null,
   "metadata": {},
   "outputs": [],
   "source": [
    "def check_element(driver, selector):\n",
    "    try:\n",
    "        driver.find_element_by_css_selector(selector)\n",
    "        return True\n",
    "    except:\n",
    "        return False\n",
    "    \n",
    "driver =  webdriver.Chrome()\n",
    "driver.get('https://cloud.google.com/vision/')\n",
    "\n",
    "iframe = driver.find_element_by_css_selector(\"#vision_demo_section iframe\")\n",
    "driver.switch_to_frame(iframe)\n",
    "file_path = path[0] + \"/screenshot_element.png\"\n",
    "driver.find_element_by_css_selector(\"#input\").send_keys(file_path)\n",
    "\n",
    "selector = '.vs-web .name'\n",
    "sec, limit_sec = 0, 10\n",
    "while True:\n",
    "    sec += 1\n",
    "    print(\"{}sec\".format(sec))\n",
    "    time.sleep(1)\n",
    "    \n",
    "    # element 확인\n",
    "    if check_element(driver, selector):\n",
    "        driver.find_element_by_css_selector(\"#webDetection\").click()\n",
    "        result = driver.find_elements_by_css_selector(selector)[0].text\n",
    "        print(result)\n",
    "        driver.close()\n",
    "        break;\n",
    "        \n",
    "    # limit_sec가 넘어가면 에러 처리\n",
    "    if sec + 1 > limit_sec:\n",
    "        print(\"error\")\n",
    "        driver.close()\n",
    "        break;"
   ]
  },
  {
   "cell_type": "code",
   "execution_count": null,
   "metadata": {},
   "outputs": [],
   "source": []
  },
  {
   "cell_type": "code",
   "execution_count": null,
   "metadata": {},
   "outputs": [],
   "source": [
    "# 댓글 크롤링 했던 것 \n",
    "\n",
    "from selenium import webdriver\n",
    "from selenium.webdriver.common.by import By\n",
    "from selenium.webdriver.support.ui import WebDriverWait\n",
    "from selenium.webdriver.support import expected_conditions as EC\n",
    "from selenium.common.exceptions import TimeoutException\n",
    "\n",
    "driver =  webdriver.PhantomJS('/usr/local/Cellar/phantomjs/2.1.1/bin/phantomjs')\n",
    "driver.get(\"http://v.media.daum.net/v/20170922175202762\")\n",
    "#print(driver.current_url)\n",
    "try:\n",
    "    elem = WebDriverWait(driver, 10).until(\n",
    "        EC.presence_of_element_located((By.ID, 'alex-area'))\n",
    "    )\n",
    "        \n",
    "finally:\n",
    "    while True:\n",
    "        try:\n",
    "            elem = WebDriverWait(driver, 5).until(\n",
    "               EC.presence_of_element_located((By.CSS_SELECTOR, '#alex-area > div > div > div > div.cmt_box > div.alex_more > a > span:nth-child(1)'))\n",
    "            )            \n",
    "            more_button = driver.find_element_by_css_selector('#alex-area > div > div > div > div.cmt_box > div.alex_more > a > span:nth-child(1)')\n",
    "            \n",
    "            action = webdriver.ActionChains(driver).move_to_element(more_button).click(more_button)\n",
    "            action.perform()\n",
    "        except:\n",
    "            break\n",
    "            \n",
    "replies = driver.find_elements_by_class_name('desc_txt')\n",
    "\n",
    "for i, reply in enumerate(replies):\n",
    "        \n",
    "    print('{}] {}'.format(i+1, reply.text),end='\\n\\n')\n",
    "           "
   ]
  },
  {
   "cell_type": "code",
   "execution_count": null,
   "metadata": {},
   "outputs": [],
   "source": [
    "# Facebook에 로그인 하는 것 \n",
    "from selenium import webdriver\n",
    "from selenium.webdriver.common.by import By\n",
    "from selenium.webdriver.support.ui import WebDriverWait\n",
    "from selenium.webdriver.support import expected_conditions as EC\n",
    "from selenium.common.exceptions import TimeoutException \n",
    "from selenium.webdriver.common.keys import Keys\n",
    "from selenium.webdriver import ActionChains\n",
    "from selenium.webdriver.remote.webelement import WebElement\n",
    "import webbrowser\n",
    "# email과 password를 입력 받는다. \n",
    "Email = input(\"Email or Mobile number, please\")\n",
    "Password = input('password, please')\n",
    "\n",
    "login_url = 'https://www.facebook.com/'\n",
    "#driver =  webdriver.PhantomJS('/usr/local/Cellar/phantomjs/2.1.1/bin/phantomjs')\n",
    "chromedriver = '/Users/MAC/Desktop/seleniumpratice/chromedriver' # 맥\n",
    "driver = webdriver.Chrome(chromedriver)\n",
    "driver.get(login_url)\n",
    "# driver가 url 안의 html을 가지게 된다.\n",
    "# 페이스북에서 로그인이 되어있다면, 로그인 form이 없으므로, try 문은 에러가 난다. 이때는\n",
    "# 이미 로그인 되어있다고 메세지를 출력한다. \n",
    "try:\n",
    "    element = WebDriverWait(driver, 5).until(\n",
    "        EC.presence_of_element_located((By.ID, \"login_form\"))\n",
    "    )\n",
    "    # actionchains를 이용해 email, password각각에 값을 넣어주고 엔터를 눌러준다.\n",
    "    email = driver.find_element_by_css_selector('#email')\n",
    "    password = driver.find_element_by_css_selector('#pass')\n",
    "    loginbutton = driver.find_element_by_xpath('//*[@id=\"u_0_9\"]')\n",
    "\n",
    "    action = webdriver.ActionChains(driver).click(email).send_keys(Email).click(password).send_keys(Password).send_keys(Keys.RETURN)\n",
    "\n",
    "    action.perform()\n",
    "    #혹시 입력한 email이나 password가 잘못되었으면, 로그인 창만 있는 페이지로 바뀐다.\n",
    "    # 이때 password나 email이 잘못되었다고 신호를 준다. \n",
    "    try: \n",
    "        driver.find_element_by_id('email')\n",
    "        print(\"you got wrong id or password\") \n",
    "    except: \n",
    "        webbrowser.open(login_url)\n",
    "\n",
    "except TimeoutException:\n",
    "    print('You already logged in!')\n",
    "    \n",
    "finally:\n",
    "    driver.quit()\n",
    "    \n"
   ]
  },
  {
   "cell_type": "markdown",
   "metadata": {},
   "source": [
    "##### Gmarket 베스트 셀러 데이터 스크래핑 \n",
    "- 전체 200개중 상위 10개 출력\n",
    "- pandas 데이터를 분석할수 있는 python 라이브러리\n",
    "    - pip3 install pandas\n",
    "    - 데이터 프레임 생성 : df = pd.DataFrame(columns=[\"A\",\"B\"])\n",
    "    - 데이터 추가 : df.loc[len(df)] = [{\"A\":1,\"B\":2}, {\"A\":3,\"B\":4}]"
   ]
  },
  {
   "cell_type": "code",
   "execution_count": 1,
   "metadata": {},
   "outputs": [],
   "source": [
    "from selenium import webdriver\n",
    "import pandas as pd"
   ]
  },
  {
   "cell_type": "code",
   "execution_count": 2,
   "metadata": {
    "scrolled": false
   },
   "outputs": [],
   "source": [
    "def get_gmarket_bestsellers(number=10):\n",
    "    \n",
    "    def to_int(price):\n",
    "        return int(price.replace(\",\",\"\").replace(\"원\",\"\"))\n",
    "    \n",
    "    driver =  webdriver.Chrome()\n",
    "    driver.get('http://corners.gmarket.co.kr/Bestsellers')\n",
    "\n",
    "    bestlist_selector = driver.find_elements_by_css_selector(\"#gBestWrap .best-list\")[1]\n",
    "    items = bestlist_selector.find_elements_by_css_selector(\"li\")[:number]\n",
    "    \n",
    "    df = pd.DataFrame(columns=[\"상품명\",\"원가\",\"판매가\",\"이미지\",\"상품링크\"])\n",
    "    \n",
    "    for item in items:\n",
    "\n",
    "        idx = item.find_element_by_css_selector(\"p\").text # 순번\n",
    "        img_link = item.find_element_by_css_selector(\"img\").get_attribute(\"src\") # 이미지 URL\n",
    "        item_link = item.find_element_by_css_selector(\".itemname\").get_attribute(\"href\") # 아이템 URL\n",
    "        content = item.find_element_by_css_selector(\".itemname\").text # 아이템 텍스트\n",
    "        o_price = item.find_element_by_css_selector(\".item_price .o-price\").text # 오리지날 가격\n",
    "        s_price = item.find_element_by_css_selector(\".item_price .s-price\").text.split(\" \")[0] # 판매 가격\n",
    "        o_price = o_price if o_price else s_price # 원가 데이터가 없는경우 판매가를 대입\n",
    "        \n",
    "        data = {\"상품명\": content,\n",
    "                \"원가\": to_int(o_price), \n",
    "                \"판매가\": to_int(s_price),\n",
    "                \"이미지\": img_link, \n",
    "                \"상품링크\": item_link, }\n",
    "        \n",
    "        # Pandas 데이터 입력\n",
    "        df.loc[len(df)] = data\n",
    "        \n",
    "    driver.close()\n",
    "    return df"
   ]
  },
  {
   "cell_type": "code",
   "execution_count": 3,
   "metadata": {},
   "outputs": [
    {
     "data": {
      "text/html": [
       "<div>\n",
       "<style scoped>\n",
       "    .dataframe tbody tr th:only-of-type {\n",
       "        vertical-align: middle;\n",
       "    }\n",
       "\n",
       "    .dataframe tbody tr th {\n",
       "        vertical-align: top;\n",
       "    }\n",
       "\n",
       "    .dataframe thead th {\n",
       "        text-align: right;\n",
       "    }\n",
       "</style>\n",
       "<table border=\"1\" class=\"dataframe\">\n",
       "  <thead>\n",
       "    <tr style=\"text-align: right;\">\n",
       "      <th></th>\n",
       "      <th>상품명</th>\n",
       "      <th>원가</th>\n",
       "      <th>판매가</th>\n",
       "      <th>이미지</th>\n",
       "      <th>상품링크</th>\n",
       "    </tr>\n",
       "  </thead>\n",
       "  <tbody>\n",
       "    <tr>\n",
       "      <th>195</th>\n",
       "      <td>[삼성전자][G]삼성 TDS신가열 RE-C21KB 21L 전자레인지</td>\n",
       "      <td>90400</td>\n",
       "      <td>85880</td>\n",
       "      <td>http://gdimg.gmarket.co.kr/836058599/still/300</td>\n",
       "      <td>http://item2.gmarket.co.kr/Item/DetailView/Ite...</td>\n",
       "    </tr>\n",
       "    <tr>\n",
       "      <th>196</th>\n",
       "      <td>[삼성전자]인증점P 17년신형 진공청소기 VC33M2110LP 당일출고</td>\n",
       "      <td>103000</td>\n",
       "      <td>87900</td>\n",
       "      <td>http://gdimg.gmarket.co.kr/916901271/still/300</td>\n",
       "      <td>http://item2.gmarket.co.kr/Item/DetailView/Ite...</td>\n",
       "    </tr>\n",
       "    <tr>\n",
       "      <th>197</th>\n",
       "      <td>비앤티박스 택배박스/착한가격/당일퀵배송/최고품질/</td>\n",
       "      <td>35000</td>\n",
       "      <td>31700</td>\n",
       "      <td>http://gdimg.gmarket.co.kr/293963256/still/300</td>\n",
       "      <td>http://item2.gmarket.co.kr/Item/DetailView/Ite...</td>\n",
       "    </tr>\n",
       "    <tr>\n",
       "      <th>198</th>\n",
       "      <td>MAANGE 프로페셔널 메이크업 브러쉬 22종 세트-2color</td>\n",
       "      <td>29900</td>\n",
       "      <td>12900</td>\n",
       "      <td>http://gdimg.gmarket.co.kr/1156619333/still/300</td>\n",
       "      <td>http://item2.gmarket.co.kr/Item/DetailView/Ite...</td>\n",
       "    </tr>\n",
       "    <tr>\n",
       "      <th>199</th>\n",
       "      <td>[소프시스]소프시스 철제5단서랍</td>\n",
       "      <td>36900</td>\n",
       "      <td>28900</td>\n",
       "      <td>http://gdimg.gmarket.co.kr/1207302715/still/300</td>\n",
       "      <td>http://item2.gmarket.co.kr/Item/DetailView/Ite...</td>\n",
       "    </tr>\n",
       "  </tbody>\n",
       "</table>\n",
       "</div>"
      ],
      "text/plain": [
       "                                         상품명      원가    판매가  \\\n",
       "195    [삼성전자][G]삼성 TDS신가열 RE-C21KB 21L 전자레인지   90400  85880   \n",
       "196  [삼성전자]인증점P 17년신형 진공청소기 VC33M2110LP 당일출고  103000  87900   \n",
       "197              비앤티박스 택배박스/착한가격/당일퀵배송/최고품질/   35000  31700   \n",
       "198      MAANGE 프로페셔널 메이크업 브러쉬 22종 세트-2color   29900  12900   \n",
       "199                        [소프시스]소프시스 철제5단서랍   36900  28900   \n",
       "\n",
       "                                                 이미지  \\\n",
       "195   http://gdimg.gmarket.co.kr/836058599/still/300   \n",
       "196   http://gdimg.gmarket.co.kr/916901271/still/300   \n",
       "197   http://gdimg.gmarket.co.kr/293963256/still/300   \n",
       "198  http://gdimg.gmarket.co.kr/1156619333/still/300   \n",
       "199  http://gdimg.gmarket.co.kr/1207302715/still/300   \n",
       "\n",
       "                                                  상품링크  \n",
       "195  http://item2.gmarket.co.kr/Item/DetailView/Ite...  \n",
       "196  http://item2.gmarket.co.kr/Item/DetailView/Ite...  \n",
       "197  http://item2.gmarket.co.kr/Item/DetailView/Ite...  \n",
       "198  http://item2.gmarket.co.kr/Item/DetailView/Ite...  \n",
       "199  http://item2.gmarket.co.kr/Item/DetailView/Ite...  "
      ]
     },
     "execution_count": 3,
     "metadata": {},
     "output_type": "execute_result"
    }
   ],
   "source": [
    "%%time\n",
    "result = get_gmarket_bestsellers(200)\n",
    "result.tail()"
   ]
  },
  {
   "cell_type": "code",
   "execution_count": 4,
   "metadata": {},
   "outputs": [
    {
     "data": {
      "text/html": [
       "<div>\n",
       "<style scoped>\n",
       "    .dataframe tbody tr th:only-of-type {\n",
       "        vertical-align: middle;\n",
       "    }\n",
       "\n",
       "    .dataframe tbody tr th {\n",
       "        vertical-align: top;\n",
       "    }\n",
       "\n",
       "    .dataframe thead th {\n",
       "        text-align: right;\n",
       "    }\n",
       "</style>\n",
       "<table border=\"1\" class=\"dataframe\">\n",
       "  <thead>\n",
       "    <tr style=\"text-align: right;\">\n",
       "      <th></th>\n",
       "      <th>rank</th>\n",
       "      <th>상품명</th>\n",
       "      <th>원가</th>\n",
       "      <th>판매가</th>\n",
       "      <th>이미지</th>\n",
       "      <th>상품링크</th>\n",
       "      <th>할인율</th>\n",
       "    </tr>\n",
       "  </thead>\n",
       "  <tbody>\n",
       "    <tr>\n",
       "      <th>0</th>\n",
       "      <td>124</td>\n",
       "      <td>[다샵]벽걸이 스탠드 에어컨커버 제습기/선풍기커버</td>\n",
       "      <td>26900</td>\n",
       "      <td>6500</td>\n",
       "      <td>http://gdimg.gmarket.co.kr/509405582/still/300</td>\n",
       "      <td>http://item2.gmarket.co.kr/Item/DetailView/Ite...</td>\n",
       "      <td>75.84</td>\n",
       "    </tr>\n",
       "    <tr>\n",
       "      <th>1</th>\n",
       "      <td>0</td>\n",
       "      <td>리바이스키즈 여름티셔츠/반팔/반바지/연휴특가</td>\n",
       "      <td>35000</td>\n",
       "      <td>10500</td>\n",
       "      <td>http://gdimg.gmarket.co.kr/1139276022/still/300</td>\n",
       "      <td>http://item2.gmarket.co.kr/Item/DetailView/Ite...</td>\n",
       "      <td>70.00</td>\n",
       "    </tr>\n",
       "    <tr>\n",
       "      <th>2</th>\n",
       "      <td>19</td>\n",
       "      <td>[슈가든]봄신상 여성 구두 힐 로퍼 단화 운동화 슬립온 종합</td>\n",
       "      <td>33000</td>\n",
       "      <td>9900</td>\n",
       "      <td>http://image.gmarket.co.kr/challenge/neo_image...</td>\n",
       "      <td>http://item2.gmarket.co.kr/Item/DetailView/Ite...</td>\n",
       "      <td>70.00</td>\n",
       "    </tr>\n",
       "    <tr>\n",
       "      <th>3</th>\n",
       "      <td>126</td>\n",
       "      <td>[또래친구]2018/상하복/운동복/체육복/기능성/주니어세트</td>\n",
       "      <td>53000</td>\n",
       "      <td>15900</td>\n",
       "      <td>http://gdimg.gmarket.co.kr/706563579/still/300</td>\n",
       "      <td>http://item2.gmarket.co.kr/Item/DetailView/Ite...</td>\n",
       "      <td>70.00</td>\n",
       "    </tr>\n",
       "    <tr>\n",
       "      <th>4</th>\n",
       "      <td>113</td>\n",
       "      <td>(키즈꼬모) 봄 상하복 6900 / 아동복 / 등원복</td>\n",
       "      <td>23000</td>\n",
       "      <td>6900</td>\n",
       "      <td>http://gdimg.gmarket.co.kr/1232338881/still/300</td>\n",
       "      <td>http://item2.gmarket.co.kr/Item/DetailView/Ite...</td>\n",
       "      <td>70.00</td>\n",
       "    </tr>\n",
       "  </tbody>\n",
       "</table>\n",
       "</div>"
      ],
      "text/plain": [
       "   rank                                상품명     원가    판매가  \\\n",
       "0   124        [다샵]벽걸이 스탠드 에어컨커버 제습기/선풍기커버  26900   6500   \n",
       "1     0           리바이스키즈 여름티셔츠/반팔/반바지/연휴특가  35000  10500   \n",
       "2    19  [슈가든]봄신상 여성 구두 힐 로퍼 단화 운동화 슬립온 종합  33000   9900   \n",
       "3   126   [또래친구]2018/상하복/운동복/체육복/기능성/주니어세트  53000  15900   \n",
       "4   113      (키즈꼬모) 봄 상하복 6900 / 아동복 / 등원복  23000   6900   \n",
       "\n",
       "                                                 이미지  \\\n",
       "0     http://gdimg.gmarket.co.kr/509405582/still/300   \n",
       "1    http://gdimg.gmarket.co.kr/1139276022/still/300   \n",
       "2  http://image.gmarket.co.kr/challenge/neo_image...   \n",
       "3     http://gdimg.gmarket.co.kr/706563579/still/300   \n",
       "4    http://gdimg.gmarket.co.kr/1232338881/still/300   \n",
       "\n",
       "                                                상품링크    할인율  \n",
       "0  http://item2.gmarket.co.kr/Item/DetailView/Ite...  75.84  \n",
       "1  http://item2.gmarket.co.kr/Item/DetailView/Ite...  70.00  \n",
       "2  http://item2.gmarket.co.kr/Item/DetailView/Ite...  70.00  \n",
       "3  http://item2.gmarket.co.kr/Item/DetailView/Ite...  70.00  \n",
       "4  http://item2.gmarket.co.kr/Item/DetailView/Ite...  70.00  "
      ]
     },
     "execution_count": 4,
     "metadata": {},
     "output_type": "execute_result"
    }
   ],
   "source": [
    "# Pandas로 할인율 계산\n",
    "result[\"할인율\"] = 100 - (result[\"판매가\"] / result[\"원가\"]) * 100\n",
    "result[\"할인율\"] = result[\"할인율\"].astype(dtype=\"float64\")\n",
    "result[\"할인율\"] = round(result[\"할인율\"], 2)\n",
    "result = result.sort_values(\"할인율\", ascending=False).reset_index().rename(columns={\"index\": \"rank\"})\n",
    "result.head()"
   ]
  },
  {
   "cell_type": "code",
   "execution_count": 5,
   "metadata": {},
   "outputs": [],
   "source": [
    "# utf-8로 인코딩한 csv 파일로 저장\n",
    "result.to_csv(\"gmarket.csv\", encoding=\"utf-8\")"
   ]
  },
  {
   "cell_type": "markdown",
   "metadata": {},
   "source": [
    "##### Naver 메일 데이터 스크래핑\n",
    "- 네이버 메일에 로그인한후 데이터 가져오기"
   ]
  },
  {
   "cell_type": "code",
   "execution_count": 6,
   "metadata": {},
   "outputs": [],
   "source": [
    "from selenium import webdriver\n",
    "import pickle\n",
    "import time"
   ]
  },
  {
   "cell_type": "code",
   "execution_count": 13,
   "metadata": {},
   "outputs": [],
   "source": [
    "# 패스워드 저장하기\n",
    "# pw = \"\"\n",
    "# file = open(\"pw.pickle\", \"wb\")\n",
    "# pickle.dump(pw, file)"
   ]
  },
  {
   "cell_type": "code",
   "execution_count": 8,
   "metadata": {},
   "outputs": [],
   "source": [
    "main_url = \"http://naver.com\" \n",
    "mail_url = \"http://mail.naver.com\""
   ]
  },
  {
   "cell_type": "code",
   "execution_count": 9,
   "metadata": {},
   "outputs": [],
   "source": [
    "# 브라우져 오픈 및 메인 사이트 이동\n",
    "driver = webdriver.Chrome()\n",
    "driver.get(main_url)"
   ]
  },
  {
   "cell_type": "code",
   "execution_count": 14,
   "metadata": {},
   "outputs": [],
   "source": [
    "# 아이디 패스워드 입력\n",
    "pw = pickle.load(open(\"pw.pickle\", \"rb\")) # pw 변수에 본인의 패스워드 입력\n",
    "driver.find_element_by_css_selector( \"#id\" ).send_keys( \"1221pdj\" )\n",
    "driver.find_element_by_css_selector( \"#pw\" ).send_keys( pw )"
   ]
  },
  {
   "cell_type": "code",
   "execution_count": 15,
   "metadata": {},
   "outputs": [],
   "source": [
    "# 로그인 버튼 클릭\n",
    "driver.find_element_by_css_selector(\"span.btn_login input[type=submit]\").click()"
   ]
  },
  {
   "cell_type": "code",
   "execution_count": 16,
   "metadata": {},
   "outputs": [],
   "source": [
    "# 메일 페이지로 이동\n",
    "driver.get(mail_url)"
   ]
  },
  {
   "cell_type": "code",
   "execution_count": 17,
   "metadata": {},
   "outputs": [
    {
     "data": {
      "text/plain": [
       "30"
      ]
     },
     "execution_count": 17,
     "metadata": {},
     "output_type": "execute_result"
    }
   ],
   "source": [
    "# 메일 갯수\n",
    "total_mail = driver.find_element_by_css_selector(\"#headTotalNum\").text\n",
    "total_mail = int(total_mail)\n",
    "total_mail"
   ]
  },
  {
   "cell_type": "code",
   "execution_count": 18,
   "metadata": {},
   "outputs": [
    {
     "data": {
      "text/plain": [
       "25"
      ]
     },
     "execution_count": 18,
     "metadata": {},
     "output_type": "execute_result"
    }
   ],
   "source": [
    "# 안읽은 메일 갯수\n",
    "not_read_mail = driver.find_element_by_css_selector(\"#headUnreadNum\").text\n",
    "not_read_mail = int(not_read_mail)\n",
    "not_read_mail"
   ]
  },
  {
   "cell_type": "code",
   "execution_count": 19,
   "metadata": {},
   "outputs": [
    {
     "name": "stdout",
     "output_type": "stream",
     "text": [
      "전체 메일수 :  30\n"
     ]
    },
    {
     "data": {
      "text/html": [
       "<div>\n",
       "<style scoped>\n",
       "    .dataframe tbody tr th:only-of-type {\n",
       "        vertical-align: middle;\n",
       "    }\n",
       "\n",
       "    .dataframe tbody tr th {\n",
       "        vertical-align: top;\n",
       "    }\n",
       "\n",
       "    .dataframe thead th {\n",
       "        text-align: right;\n",
       "    }\n",
       "</style>\n",
       "<table border=\"1\" class=\"dataframe\">\n",
       "  <thead>\n",
       "    <tr style=\"text-align: right;\">\n",
       "      <th></th>\n",
       "      <th>제목</th>\n",
       "      <th>보낸사람</th>\n",
       "      <th>메일링크</th>\n",
       "    </tr>\n",
       "  </thead>\n",
       "  <tbody>\n",
       "    <tr>\n",
       "      <th>25</th>\n",
       "      <td>SMTP Send File 테스트(제목)</td>\n",
       "      <td>utmostar0201@gmai..</td>\n",
       "      <td>https://mail.naver.com/read/popup/?nMailId=11887</td>\n",
       "    </tr>\n",
       "    <tr>\n",
       "      <th>26</th>\n",
       "      <td>SMTP Send File 테스트(제목)</td>\n",
       "      <td>radajin1224@gmail.c..</td>\n",
       "      <td>https://mail.naver.com/read/popup/?nMailId=11886</td>\n",
       "    </tr>\n",
       "    <tr>\n",
       "      <th>27</th>\n",
       "      <td>SMTP Send HTML 테스트(제목)</td>\n",
       "      <td>radajin1224@gmail.c..</td>\n",
       "      <td>https://mail.naver.com/read/popup/?nMailId=11885</td>\n",
       "    </tr>\n",
       "    <tr>\n",
       "      <th>28</th>\n",
       "      <td>SMTP Send Text 테스트(제목)</td>\n",
       "      <td>junkoo0101@gmail.co..</td>\n",
       "      <td>https://mail.naver.com/read/popup/?nMailId=11884</td>\n",
       "    </tr>\n",
       "    <tr>\n",
       "      <th>29</th>\n",
       "      <td>SMTP Send Text 테스트(제목)</td>\n",
       "      <td>radajin1224@gmail.c..</td>\n",
       "      <td>https://mail.naver.com/read/popup/?nMailId=11883</td>\n",
       "    </tr>\n",
       "  </tbody>\n",
       "</table>\n",
       "</div>"
      ],
      "text/plain": [
       "                        제목                   보낸사람  \\\n",
       "25  SMTP Send File 테스트(제목)    utmostar0201@gmai..   \n",
       "26  SMTP Send File 테스트(제목)  radajin1224@gmail.c..   \n",
       "27  SMTP Send HTML 테스트(제목)  radajin1224@gmail.c..   \n",
       "28  SMTP Send Text 테스트(제목)  junkoo0101@gmail.co..   \n",
       "29  SMTP Send Text 테스트(제목)  radajin1224@gmail.c..   \n",
       "\n",
       "                                                메일링크  \n",
       "25  https://mail.naver.com/read/popup/?nMailId=11887  \n",
       "26  https://mail.naver.com/read/popup/?nMailId=11886  \n",
       "27  https://mail.naver.com/read/popup/?nMailId=11885  \n",
       "28  https://mail.naver.com/read/popup/?nMailId=11884  \n",
       "29  https://mail.naver.com/read/popup/?nMailId=11883  "
      ]
     },
     "execution_count": 19,
     "metadata": {},
     "output_type": "execute_result"
    }
   ],
   "source": [
    "# 메일 제목, 보낸사람 이름 가져오기\n",
    "mails = driver.find_elements_by_css_selector(\".mailList.sender_context > li\")\n",
    "print(\"전체 메일수 : \", len(mails))\n",
    "df = pd.DataFrame(columns=[\"제목\",\"보낸사람\",\"메일링크\"])\n",
    "for idx, mail in enumerate(mails):\n",
    "    title = mail.find_element_by_css_selector(\".mail_title\").text\n",
    "    name = mail.find_element_by_css_selector(\".name\").text\n",
    "    link = mail.find_element_by_css_selector(\".subject > a\").get_attribute(\"href\")\n",
    "    df.loc[len(df)] = { \"제목\":title, \"보낸사람\":name, \"메일링크\":link }    \n",
    "df.tail()"
   ]
  },
  {
   "cell_type": "code",
   "execution_count": 21,
   "metadata": {},
   "outputs": [
    {
     "name": "stdout",
     "output_type": "stream",
     "text": [
      "전체 메일수 :  3\n"
     ]
    },
    {
     "data": {
      "text/html": [
       "<div>\n",
       "<style scoped>\n",
       "    .dataframe tbody tr th:only-of-type {\n",
       "        vertical-align: middle;\n",
       "    }\n",
       "\n",
       "    .dataframe tbody tr th {\n",
       "        vertical-align: top;\n",
       "    }\n",
       "\n",
       "    .dataframe thead th {\n",
       "        text-align: right;\n",
       "    }\n",
       "</style>\n",
       "<table border=\"1\" class=\"dataframe\">\n",
       "  <thead>\n",
       "    <tr style=\"text-align: right;\">\n",
       "      <th></th>\n",
       "      <th>제목</th>\n",
       "      <th>보낸사람</th>\n",
       "      <th>메일링크</th>\n",
       "    </tr>\n",
       "  </thead>\n",
       "  <tbody>\n",
       "    <tr>\n",
       "      <th>0</th>\n",
       "      <td>종로구에 있는 사람들이 \"Watch Boston Dynamics’ SpotMini ...</td>\n",
       "      <td>트위터</td>\n",
       "      <td>https://mail.naver.com/read/popup/?nMailId=11911</td>\n",
       "    </tr>\n",
       "    <tr>\n",
       "      <th>1</th>\n",
       "      <td>문성근 님이 트윗함: 너무 오래 걸렸다. '친일행위' 인촌 김성수, 56년만에 건국...</td>\n",
       "      <td>트위터</td>\n",
       "      <td>https://mail.naver.com/read/popup/?nMailId=11910</td>\n",
       "    </tr>\n",
       "    <tr>\n",
       "      <th>2</th>\n",
       "      <td>종로구에 있는 사람들이 \"People who think about leaving r...</td>\n",
       "      <td>트위터</td>\n",
       "      <td>https://mail.naver.com/read/popup/?nMailId=11907</td>\n",
       "    </tr>\n",
       "  </tbody>\n",
       "</table>\n",
       "</div>"
      ],
      "text/plain": [
       "                                                  제목 보낸사람  \\\n",
       "0  종로구에 있는 사람들이 \"Watch Boston Dynamics’ SpotMini ...  트위터   \n",
       "1  문성근 님이 트윗함: 너무 오래 걸렸다. '친일행위' 인촌 김성수, 56년만에 건국...  트위터   \n",
       "2  종로구에 있는 사람들이 \"People who think about leaving r...  트위터   \n",
       "\n",
       "                                               메일링크  \n",
       "0  https://mail.naver.com/read/popup/?nMailId=11911  \n",
       "1  https://mail.naver.com/read/popup/?nMailId=11910  \n",
       "2  https://mail.naver.com/read/popup/?nMailId=11907  "
      ]
     },
     "execution_count": 21,
     "metadata": {},
     "output_type": "execute_result"
    }
   ],
   "source": [
    "# marked 메일\n",
    "mails = driver.find_elements_by_css_selector(\".mailList.sender_context > li.mark\")\n",
    "print(\"전체 메일수 : \", len(mails))\n",
    "df = pd.DataFrame(columns=[\"제목\",\"보낸사람\",\"메일링크\"])\n",
    "for idx, mail in enumerate(mails):\n",
    "    title = mail.find_element_by_css_selector(\".mail_title\").text\n",
    "    name = mail.find_element_by_css_selector(\".name\").text\n",
    "    link = mail.find_element_by_css_selector(\".subject > a\").get_attribute(\"href\")\n",
    "    df.loc[len(df)] = { \"제목\":title, \"보낸사람\":name, \"메일링크\":link }    \n",
    "df.tail()"
   ]
  },
  {
   "cell_type": "code",
   "execution_count": 22,
   "metadata": {},
   "outputs": [
    {
     "name": "stdout",
     "output_type": "stream",
     "text": [
      "total mails:  5\n"
     ]
    },
    {
     "data": {
      "text/html": [
       "<div>\n",
       "<style scoped>\n",
       "    .dataframe tbody tr th:only-of-type {\n",
       "        vertical-align: middle;\n",
       "    }\n",
       "\n",
       "    .dataframe tbody tr th {\n",
       "        vertical-align: top;\n",
       "    }\n",
       "\n",
       "    .dataframe thead th {\n",
       "        text-align: right;\n",
       "    }\n",
       "</style>\n",
       "<table border=\"1\" class=\"dataframe\">\n",
       "  <thead>\n",
       "    <tr style=\"text-align: right;\">\n",
       "      <th></th>\n",
       "      <th>제목</th>\n",
       "      <th>보낸사람</th>\n",
       "      <th>메일링크</th>\n",
       "    </tr>\n",
       "  </thead>\n",
       "  <tbody>\n",
       "    <tr>\n",
       "      <th>0</th>\n",
       "      <td>Google SMTP로 메일 보내기</td>\n",
       "      <td>radajin1224@gmail.c..</td>\n",
       "      <td>https://mail.naver.com/read/popup/?nMailId=11893</td>\n",
       "    </tr>\n",
       "    <tr>\n",
       "      <th>1</th>\n",
       "      <td>Google SMTP로 메일 보내기</td>\n",
       "      <td>radajin1224@gmail.c..</td>\n",
       "      <td>https://mail.naver.com/read/popup/?nMailId=11890</td>\n",
       "    </tr>\n",
       "    <tr>\n",
       "      <th>2</th>\n",
       "      <td>SMTP Send File 테스트(제목)</td>\n",
       "      <td>radajin1224@gmail.c..</td>\n",
       "      <td>https://mail.naver.com/read/popup/?nMailId=11886</td>\n",
       "    </tr>\n",
       "    <tr>\n",
       "      <th>3</th>\n",
       "      <td>SMTP Send HTML 테스트(제목)</td>\n",
       "      <td>radajin1224@gmail.c..</td>\n",
       "      <td>https://mail.naver.com/read/popup/?nMailId=11885</td>\n",
       "    </tr>\n",
       "    <tr>\n",
       "      <th>4</th>\n",
       "      <td>SMTP Send Text 테스트(제목)</td>\n",
       "      <td>radajin1224@gmail.c..</td>\n",
       "      <td>https://mail.naver.com/read/popup/?nMailId=11883</td>\n",
       "    </tr>\n",
       "  </tbody>\n",
       "</table>\n",
       "</div>"
      ],
      "text/plain": [
       "                       제목                   보낸사람  \\\n",
       "0     Google SMTP로 메일 보내기  radajin1224@gmail.c..   \n",
       "1     Google SMTP로 메일 보내기  radajin1224@gmail.c..   \n",
       "2  SMTP Send File 테스트(제목)  radajin1224@gmail.c..   \n",
       "3  SMTP Send HTML 테스트(제목)  radajin1224@gmail.c..   \n",
       "4  SMTP Send Text 테스트(제목)  radajin1224@gmail.c..   \n",
       "\n",
       "                                               메일링크  \n",
       "0  https://mail.naver.com/read/popup/?nMailId=11893  \n",
       "1  https://mail.naver.com/read/popup/?nMailId=11890  \n",
       "2  https://mail.naver.com/read/popup/?nMailId=11886  \n",
       "3  https://mail.naver.com/read/popup/?nMailId=11885  \n",
       "4  https://mail.naver.com/read/popup/?nMailId=11883  "
      ]
     },
     "execution_count": 22,
     "metadata": {},
     "output_type": "execute_result"
    }
   ],
   "source": [
    "# 읽은 메일\n",
    "mails = driver.find_elements_by_css_selector(\".mailList.sender_context > li:not(.notRead)\")\n",
    "print(\"total mails: \", len(mails))\n",
    "df = pd.DataFrame(columns=[\"제목\",\"보낸사람\",\"메일링크\"])\n",
    "for idx, mail in enumerate(mails):\n",
    "    title = mail.find_element_by_css_selector(\".mail_title\").text\n",
    "    name = mail.find_element_by_css_selector(\".name\").text\n",
    "    link = mail.find_element_by_css_selector(\".subject > a\").get_attribute(\"href\")\n",
    "    df.loc[len(df)] = { \"제목\":title, \"보낸사람\":name, \"메일링크\":link }    \n",
    "df.tail()"
   ]
  },
  {
   "cell_type": "code",
   "execution_count": 23,
   "metadata": {},
   "outputs": [],
   "source": [
    "# 로그아웃\n",
    "logout_url = driver.find_element_by_css_selector(\".gnb_btn_login\").get_attribute(\"href\")\n",
    "driver.get(logout_url)"
   ]
  },
  {
   "cell_type": "code",
   "execution_count": 24,
   "metadata": {},
   "outputs": [],
   "source": [
    "# 브라우져 닫기\n",
    "driver.close()"
   ]
  },
  {
   "cell_type": "code",
   "execution_count": null,
   "metadata": {},
   "outputs": [],
   "source": []
  },
  {
   "cell_type": "code",
   "execution_count": null,
   "metadata": {},
   "outputs": [],
   "source": []
  },
  {
   "cell_type": "code",
   "execution_count": null,
   "metadata": {},
   "outputs": [],
   "source": []
  },
  {
   "cell_type": "code",
   "execution_count": null,
   "metadata": {},
   "outputs": [],
   "source": []
  },
  {
   "cell_type": "code",
   "execution_count": null,
   "metadata": {},
   "outputs": [],
   "source": []
  },
  {
   "cell_type": "code",
   "execution_count": null,
   "metadata": {},
   "outputs": [],
   "source": []
  },
  {
   "cell_type": "code",
   "execution_count": null,
   "metadata": {},
   "outputs": [],
   "source": []
  },
  {
   "cell_type": "code",
   "execution_count": null,
   "metadata": {},
   "outputs": [],
   "source": []
  }
 ],
 "metadata": {
  "kernelspec": {
   "display_name": "Python 3",
   "language": "python",
   "name": "python3"
  },
  "language_info": {
   "codemirror_mode": {
    "name": "ipython",
    "version": 3
   },
   "file_extension": ".py",
   "mimetype": "text/x-python",
   "name": "python",
   "nbconvert_exporter": "python",
   "pygments_lexer": "ipython3",
   "version": "3.6.2"
  },
  "latex_envs": {
   "LaTeX_envs_menu_present": true,
   "autocomplete": true,
   "bibliofile": "biblio.bib",
   "cite_by": "apalike",
   "current_citInitial": 1,
   "eqLabelWithNumbers": true,
   "eqNumInitial": 1,
   "hotkeys": {
    "equation": "Ctrl-E",
    "itemize": "Ctrl-I"
   },
   "labels_anchors": false,
   "latex_user_defs": false,
   "report_style_numbering": false,
   "user_envs_cfg": false
  }
 },
 "nbformat": 4,
 "nbformat_minor": 2
}
