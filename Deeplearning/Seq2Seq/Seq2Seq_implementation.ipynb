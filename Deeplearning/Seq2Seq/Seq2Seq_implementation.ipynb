{
 "cells": [
  {
   "cell_type": "code",
   "execution_count": null,
   "metadata": {},
   "outputs": [],
   "source": [
    "import numpy as np\n",
    "import tensorflow as tf\n",
    "import math\n",
    "from random import random\n",
    "import random as rand\n",
    "\n",
    "# parameters used\n",
    "MODEL_PATH = 'model/Seq2Seqmodel_CRF.ckpt'"
   ]
  },
  {
   "cell_type": "code",
   "execution_count": 1,
   "metadata": {},
   "outputs": [
    {
     "name": "stderr",
     "output_type": "stream",
     "text": [
      "/Users/MAC/.pyenv/versions/anaconda3-5.0.1/envs/python_ana/lib/python3.6/site-packages/h5py/__init__.py:36: FutureWarning: Conversion of the second argument of issubdtype from `float` to `np.floating` is deprecated. In future, it will be treated as `np.float64 == np.dtype(float).type`.\n",
      "  from ._conv import register_converters as _register_converters\n",
      "/Users/MAC/.pyenv/versions/anaconda3-5.0.1/envs/python_ana/lib/python3.6/site-packages/tensorflow/python/ops/gradients_impl.py:100: UserWarning: Converting sparse IndexedSlices to a dense Tensor of unknown shape. This may consume a large amount of memory.\n",
      "  \"Converting sparse IndexedSlices to a dense Tensor of unknown shape. \"\n"
     ]
    },
    {
     "name": "stdout",
     "output_type": "stream",
     "text": [
      "Epoch: 0, Accuracy: 62.92834890965732\n",
      "Epoch: 0, Accuracy: 63.87096774193548\n",
      "Epoch: 0, Accuracy: 58.53658536585366\n",
      "Epoch: 0, Accuracy: 70.73170731707317\n",
      "Epoch: 10, Accuracy: 91.90031152647975\n",
      "Epoch: 10, Accuracy: 89.6774193548387\n",
      "Epoch: 10, Accuracy: 91.15853658536585\n",
      "Epoch: 10, Accuracy: 87.8048780487805\n",
      "Epoch: 20, Accuracy: 94.0809968847352\n",
      "Epoch: 20, Accuracy: 90.64516129032258\n",
      "Epoch: 20, Accuracy: 93.59756097560975\n",
      "Epoch: 20, Accuracy: 87.8048780487805\n",
      "Epoch: 30, Accuracy: 95.95015576323988\n",
      "Epoch: 30, Accuracy: 92.90322580645162\n",
      "Epoch: 30, Accuracy: 95.1219512195122\n",
      "Epoch: 30, Accuracy: 92.6829268292683\n",
      "Epoch: 40, Accuracy: 94.70404984423676\n",
      "Epoch: 40, Accuracy: 93.54838709677419\n",
      "Epoch: 40, Accuracy: 95.42682926829268\n",
      "Epoch: 40, Accuracy: 95.1219512195122\n",
      "Epoch: 50, Accuracy: 95.32710280373831\n",
      "Epoch: 50, Accuracy: 94.83870967741936\n",
      "Epoch: 50, Accuracy: 94.8170731707317\n",
      "Epoch: 50, Accuracy: 95.1219512195122\n",
      "Epoch: 60, Accuracy: 96.26168224299066\n",
      "Epoch: 60, Accuracy: 94.83870967741936\n",
      "Epoch: 60, Accuracy: 94.20731707317073\n",
      "Epoch: 60, Accuracy: 100.0\n",
      "Epoch: 70, Accuracy: 96.88473520249221\n",
      "Epoch: 70, Accuracy: 94.83870967741936\n",
      "Epoch: 70, Accuracy: 95.1219512195122\n",
      "Epoch: 70, Accuracy: 100.0\n",
      "Epoch: 80, Accuracy: 97.19626168224299\n",
      "Epoch: 80, Accuracy: 95.80645161290323\n",
      "Epoch: 80, Accuracy: 94.8170731707317\n",
      "Epoch: 80, Accuracy: 100.0\n",
      "Epoch: 90, Accuracy: 96.57320872274143\n",
      "Epoch: 90, Accuracy: 96.7741935483871\n",
      "Epoch: 90, Accuracy: 93.90243902439025\n",
      "Epoch: 90, Accuracy: 100.0\n"
     ]
    }
   ],
   "source": [
    "\n",
    "# Create a sequence classification instance.\n",
    "def get_sequence(sequence_length):\n",
    "    # Create a sequence of random numbers in between 0,1\n",
    "#     X = np.random.rand(sequence_length)\n",
    "    X = np.array([random() for _ in range(sequence_length)])\n",
    "    # Calculate cut-off value to change class values.\n",
    "    limit = sequence_length / 4.0\n",
    "    # Determine the class outcome for each item in cumulative sequence \n",
    "    y = np.array([0 if x < limit else 1 for x in np.cumsum(X)])\n",
    "    \n",
    "    return X, y \n",
    "    ## ^ X = Sequence, y = sequence - both have samp dim\n",
    "\n",
    "# create n examples with random sequence lengths between 5 and 15\n",
    "def get_examples(n):\n",
    "    X_list = []\n",
    "    y_list = []\n",
    "    sequence_length_list = []\n",
    "    \n",
    "    for _ in range(n):\n",
    "#         sequence_length = np.random.randint(5, 16, 1)\n",
    "        sequence_length = rand.randrange(start=5, stop=15)\n",
    "        X, y = get_sequence(sequence_length)\n",
    "        X_list.append(X)\n",
    "        y_list.append(y)\n",
    "        sequence_length_list.append(sequence_length)\n",
    "        \n",
    "    return X_list, y_list, sequence_length_list\n",
    "    \n",
    "# Tensorflow requires that all sentences(and all lables)\n",
    "# inside the same batch have the same length, \n",
    "# so we have to pad the data(and labels) inside the batches (with 0`s, for exmaple)\n",
    "def pad(sentence, max_length):\n",
    "    pad_len = max_length - len(sentence)\n",
    "    padding = np.zeros(pad_len)\n",
    "    return np.concatenate((sentence, padding))\n",
    "\n",
    "# Create input batches\n",
    "def batch(data, labels, sequence_lengths, batch_size, input_size):\n",
    "    n_batch = int(math.ceil(len(data) / batch_size)) #올림 \n",
    "    index = 0 \n",
    "    for _ in range(n_batch):\n",
    "        batch_sequence_lengths = np.array(sequence_lengths[index: index + batch_size])\n",
    "        \n",
    "#         batch_length = np.array(tf.map_fn(max, batch_sequence_lengths, tf.int32))\n",
    "        batch_length = np.array(max(batch_sequence_lengths)) # max length in batch \n",
    "        # pad data\n",
    "        batch_data = np.array([pad(x, batch_length) for x in data[index: index + batch_size]])\n",
    "        # pad labels\n",
    "        batch_labels = np.array([pad(x, batch_length) for x in labels[index: index + batch_size]])\n",
    "        \n",
    "        index += batch_size\n",
    "        \n",
    "        # Reshape input data to be suitable for LSTMs.\n",
    "        batch_data = batch_data.reshape(-1, batch_length, input_size)\n",
    "        \n",
    "        yield batch_data, batch_labels, batch_length, batch_sequence_lengths\n",
    "        \n",
    "\n"
   ]
  },
  {
   "cell_type": "code",
   "execution_count": null,
   "metadata": {},
   "outputs": [],
   "source": [
    "# Generate train and test data. \n",
    "x_train, y_train, sequence_length_train = get_examples(100)\n",
    "x_test, y_test, sequence_length_test = get_examples(30)"
   ]
  },
  {
   "cell_type": "code",
   "execution_count": null,
   "metadata": {},
   "outputs": [],
   "source": []
  },
  {
   "cell_type": "code",
   "execution_count": null,
   "metadata": {},
   "outputs": [],
   "source": [
    "\n",
    "#### Training the model #### \n",
    "\n",
    "with tf.Session() as sess:\n",
    "    sess.run(tf.global_variables_initializer())\n",
    "    \n",
    "    for i in range(training_epochs):\n",
    "        for batch_data, batch_labels, batch_seq_len, batch_sequence_lengths in batch(x_train, y_train, sequence_length_train, batch_size, input_size):\n",
    "            \n",
    "            tf_viterbi_sequence, _ = sess.run([viterbi_sequence, train_op], \n",
    "                                             feed_dict={input_data: batch_data,\n",
    "                                                       labels: batch_labels,\n",
    "                                                       batch_sequence_length: batch_seq_len,\n",
    "                                                       original_sequence_lengths: batch_sequence_lengths})\n",
    "            # Show train accuracy \n",
    "            if i % 10 == 0 :\n",
    "                # Create a mask to fix input lengths. \n",
    "                mask = (np.expand_dims(np.arange(batch_seq_len), axis=0) < np.expand_dims(batch_sequence_lengths, axis=1))\n",
    "                total_labels = np.sum(batch_sequence_lengths)\n",
    "                correct_labels = np.sum((batch_labels == tf_viterbi_sequence) * mask)\n",
    "                accuracy = 100.0 * correct_labels / float(total_labels)\n",
    "                print(\"Epoch: {}, Accuracy: {}\".format(i, accuracy))\n",
    "                \n",
    "    saver.save(sess, MODEL_PATH)"
   ]
  },
  {
   "cell_type": "code",
   "execution_count": null,
   "metadata": {},
   "outputs": [],
   "source": []
  },
  {
   "cell_type": "code",
   "execution_count": null,
   "metadata": {},
   "outputs": [],
   "source": []
  },
  {
   "cell_type": "code",
   "execution_count": null,
   "metadata": {},
   "outputs": [],
   "source": []
  },
  {
   "cell_type": "code",
   "execution_count": null,
   "metadata": {},
   "outputs": [],
   "source": []
  }
 ],
 "metadata": {
  "kernelspec": {
   "display_name": "Python 3",
   "language": "python",
   "name": "python3"
  },
  "language_info": {
   "codemirror_mode": {
    "name": "ipython",
    "version": 3
   },
   "file_extension": ".py",
   "mimetype": "text/x-python",
   "name": "python",
   "nbconvert_exporter": "python",
   "pygments_lexer": "ipython3",
   "version": "3.6.4"
  },
  "latex_envs": {
   "LaTeX_envs_menu_present": true,
   "autoclose": false,
   "autocomplete": true,
   "bibliofile": "biblio.bib",
   "cite_by": "apalike",
   "current_citInitial": 1,
   "eqLabelWithNumbers": true,
   "eqNumInitial": 1,
   "hotkeys": {
    "equation": "Ctrl-E",
    "itemize": "Ctrl-I"
   },
   "labels_anchors": false,
   "latex_user_defs": false,
   "report_style_numbering": false,
   "user_envs_cfg": false
  },
  "toc": {
   "base_numbering": 1,
   "nav_menu": {},
   "number_sections": true,
   "sideBar": true,
   "skip_h1_title": false,
   "title_cell": "Table of Contents",
   "title_sidebar": "Contents",
   "toc_cell": false,
   "toc_position": {},
   "toc_section_display": true,
   "toc_window_display": false
  }
 },
 "nbformat": 4,
 "nbformat_minor": 2
}
