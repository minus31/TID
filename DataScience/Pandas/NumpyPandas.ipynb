{
 "cells": [
  {
   "cell_type": "markdown",
   "metadata": {},
   "source": [
    "## numpy\n",
    " - 파이썬의 대표적인 수치해석 라이브러리\n",
    " - 벡터, 행렬등의 최적화된 data structure와 다양한 연산 제공\n",
    " - 다른 많은 machine learnig, 혹은 data analysis 패키지들에서 많이 사용 됨"
   ]
  },
  {
   "cell_type": "markdown",
   "metadata": {},
   "source": [
    "* **numpy 모듈**\n",
    "  - 모듈 설치 \n",
    "    - pip install numpy\n",
    "  - 모듈 임포트\n",
    "    - import numpy as np (관례적으로 np 사용)"
   ]
  },
  {
   "cell_type": "code",
   "execution_count": null,
   "metadata": {
    "collapsed": true
   },
   "outputs": [],
   "source": [
    "import numpy as np\n",
    "print(np.__version__)"
   ]
  },
  {
   "cell_type": "markdown",
   "metadata": {},
   "source": [
    "* **ndarray**\n",
    " - numpy의 기본 타입\n",
    " - n dimentional array를 의미\n",
    " - vector, matrix를 표현\n",
    " - numpy.array([])로 생성"
   ]
  },
  {
   "cell_type": "code",
   "execution_count": null,
   "metadata": {
    "collapsed": true
   },
   "outputs": [],
   "source": [
    "arr1 = np.array([1, 3, 4, 6]) # 1차원 벡터 생성\n",
    "arr2 = np.array([[0, 1, 2], [2, 4, 6]]) # 2차원 행렬 생성\n",
    "\n",
    "print(arr1, type(arr1))\n",
    "print(arr2, type(arr2))"
   ]
  },
  {
   "cell_type": "code",
   "execution_count": null,
   "metadata": {
    "collapsed": true
   },
   "outputs": [],
   "source": [
    "pure_arrary = range(10)\n",
    "np_array = np.array([[1, 2], [3, 4]])\n",
    "np_array\n",
    "np_array.shape"
   ]
  },
  {
   "cell_type": "markdown",
   "metadata": {},
   "source": [
    "* **arange**\n",
    " - 내장 함수 range()와 동일한 기능을 수행함\n",
    " - ndarray 반환"
   ]
  },
  {
   "cell_type": "code",
   "execution_count": null,
   "metadata": {
    "collapsed": true
   },
   "outputs": [],
   "source": [
    "arr3 = np.arange(1, 11)\n",
    "print(arr3, type(arr3))\n",
    "arr3.shape"
   ]
  },
  {
   "cell_type": "markdown",
   "metadata": {},
   "source": [
    "* **linspace**\n",
    " - start, end를 n-1개의 균일한 간격으로 분할"
   ]
  },
  {
   "cell_type": "code",
   "execution_count": null,
   "metadata": {
    "collapsed": true
   },
   "outputs": [],
   "source": [
    "# 0 - 10의 범위를 n-1 등분 한다는 이야기\n",
    "arr4 = np.linspace(0, 10, 100)\n",
    "print(arr4)"
   ]
  },
  {
   "cell_type": "markdown",
   "metadata": {},
   "source": [
    "* **zeros**\n",
    " - 전달된 tuple 사이즈 행렬 반환\n",
    " - 0으로 채워짐"
   ]
  },
  {
   "cell_type": "code",
   "execution_count": null,
   "metadata": {
    "collapsed": true
   },
   "outputs": [],
   "source": [
    "print(np.zeros((2, 4)))\n",
    "print(np.zeros(4))\n",
    "\n",
    "print(np.zeros((2, 2, 2)))"
   ]
  },
  {
   "cell_type": "markdown",
   "metadata": {},
   "source": [
    "* **ones**\n",
    " - 전달된 tuple 사이즈 행렬 반환\n",
    " - 1로 채워짐"
   ]
  },
  {
   "cell_type": "code",
   "execution_count": null,
   "metadata": {
    "collapsed": true
   },
   "outputs": [],
   "source": [
    "print(np.ones((3, 3, 2, 7, 8)))\n",
    "#print np.ones(3)"
   ]
  },
  {
   "cell_type": "markdown",
   "metadata": {},
   "source": [
    "* **random sub package**\n",
    "  - 다양한 확률 분포를 이용한 랜덤 숫자로 채워진 ndarray 혹은 단일 값을 생성할 때 주로 사용"
   ]
  },
  {
   "cell_type": "code",
   "execution_count": 2,
   "metadata": {},
   "outputs": [
    {
     "name": "stdout",
     "output_type": "stream",
     "text": [
      "[[0.31043216 0.10173166]\n",
      " [0.15839393 0.03149757]\n",
      " [0.67441319 0.0817198 ]]\n",
      "[ 0.75759491  0.98177156 -0.06146685]\n"
     ]
    }
   ],
   "source": [
    "print(np.random.rand(3, 2)) # [0, 1) 사이 출력\n",
    "print(np.random.randn(3)) # 정규분포 normal distribution"
   ]
  },
  {
   "cell_type": "code",
   "execution_count": null,
   "metadata": {
    "collapsed": true
   },
   "outputs": [],
   "source": [
    "a = np.random.rand(3, 2, 2)\n",
    "a"
   ]
  },
  {
   "cell_type": "code",
   "execution_count": 7,
   "metadata": {},
   "outputs": [
    {
     "data": {
      "text/plain": [
       "5"
      ]
     },
     "execution_count": 7,
     "metadata": {},
     "output_type": "execute_result"
    }
   ],
   "source": [
    "# 임의의 정수 한개 생성 [1, 100)\n",
    "np.random.randint(1, 10)"
   ]
  },
  {
   "cell_type": "code",
   "execution_count": null,
   "metadata": {
    "collapsed": true
   },
   "outputs": [],
   "source": [
    "# 임의의 정수 tensor 생성 \n",
    "np.random.randint(1, 100, size=(4, 3))"
   ]
  },
  {
   "cell_type": "code",
   "execution_count": null,
   "metadata": {
    "collapsed": true
   },
   "outputs": [],
   "source": [
    "# 범위 지정을 원할 경우 uniform 함수 이용\n",
    "np.random.uniform(low=1.0, high=2.0, size=(4))"
   ]
  },
  {
   "cell_type": "code",
   "execution_count": null,
   "metadata": {
    "collapsed": true
   },
   "outputs": [],
   "source": [
    "# 각 확률분포에 해당하는 함수가 존재\n",
    "np.random.binomial(10, 0.9)"
   ]
  },
  {
   "cell_type": "code",
   "execution_count": null,
   "metadata": {
    "collapsed": true
   },
   "outputs": [],
   "source": [
    "# choice함수를 이용하여 샘플링 가능\n",
    "np.random.choice(range(10), size=40, replace=True)"
   ]
  },
  {
   "cell_type": "markdown",
   "metadata": {},
   "source": [
    "* **연습문제)**\n",
    " 1. 20 - 30 사이의 임의의 정수 4개를 출력하시오(중복 허용)\n",
    " 2. 20 - 30 사이의 임의의 정수 4개를 출력하시오(중복 x)\n",
    " 3. 20 - 30 사이의 임의의 실수 4개를 출력하시오\n",
    " 4. 0.01 - 1 사이의 임의의 실수 4개를 출력하시오 "
   ]
  },
  {
   "cell_type": "code",
   "execution_count": null,
   "metadata": {
    "collapsed": true
   },
   "outputs": [],
   "source": [
    "np.random.randint(20, 31, size=4)"
   ]
  },
  {
   "cell_type": "code",
   "execution_count": null,
   "metadata": {
    "collapsed": true
   },
   "outputs": [],
   "source": [
    "np.random.choice(np.arange(20, 31), size=4, replace=False)"
   ]
  },
  {
   "cell_type": "code",
   "execution_count": null,
   "metadata": {
    "collapsed": true
   },
   "outputs": [],
   "source": [
    "np.random.uniform(20, 30, size=4)"
   ]
  },
  {
   "cell_type": "code",
   "execution_count": null,
   "metadata": {
    "collapsed": true
   },
   "outputs": [],
   "source": [
    "np.random.uniform(0.01, 1, size=4)"
   ]
  },
  {
   "cell_type": "code",
   "execution_count": null,
   "metadata": {
    "collapsed": true
   },
   "outputs": [],
   "source": [
    "n = np.random.uniform(0, 2, size=4)\n",
    "10 ** -n"
   ]
  },
  {
   "cell_type": "markdown",
   "metadata": {},
   "source": [
    "* ** seed ** \n",
    " - 실험, 분석 등을 할 때, 랜덤 값 생성 시, 해당 값을 추후에 또 사용해야 할 경우가 필요\n",
    " - 해당 경우에는 seed함수를 미리 호출하여 랜덤한 값을 동일 한 값으로 유지 할 수 있음\n",
    " - seed() 함수 호출 시, 정수를 전달"
   ]
  },
  {
   "cell_type": "code",
   "execution_count": null,
   "metadata": {
    "collapsed": true
   },
   "outputs": [],
   "source": [
    "np.random.seed(100)\n",
    "print(np.random.rand(2, 3))"
   ]
  },
  {
   "cell_type": "code",
   "execution_count": null,
   "metadata": {
    "collapsed": true
   },
   "outputs": [],
   "source": [
    "np.random.randint(1, 101, 10)"
   ]
  },
  {
   "cell_type": "code",
   "execution_count": null,
   "metadata": {
    "collapsed": true
   },
   "outputs": [],
   "source": [
    "np.random.seed(0) # 랜덤한 값을 계속 유지하고 싶을 때 사용\n",
    "print(np.random.rand())\n",
    "\n",
    "np.random.seed(2) # 랜덤한 값을 계속 유지하고 싶을 때 사용\n",
    "print(np.random.rand())"
   ]
  },
  {
   "cell_type": "markdown",
   "metadata": {},
   "source": [
    "* **slicing**\n",
    " - 리스트, 문자열 slicing과 동일함\n",
    " - 단, ndarray의 차원이 높을 경우에는, 각 차원별로 slicing, indexing 가능"
   ]
  },
  {
   "cell_type": "code",
   "execution_count": null,
   "metadata": {
    "collapsed": true
   },
   "outputs": [],
   "source": [
    "arr1 = np.array([1, 3, 4, 6])\n",
    "arr2 = np.array([[0, 1, 3], [2, 4, 6], [3, 7, 8]])"
   ]
  },
  {
   "cell_type": "code",
   "execution_count": null,
   "metadata": {
    "collapsed": true
   },
   "outputs": [],
   "source": [
    "print(arr1[0])\n",
    "print(arr1[1:-1])"
   ]
  },
  {
   "cell_type": "code",
   "execution_count": null,
   "metadata": {
    "collapsed": true
   },
   "outputs": [],
   "source": [
    "arr2"
   ]
  },
  {
   "cell_type": "code",
   "execution_count": null,
   "metadata": {
    "collapsed": true
   },
   "outputs": [],
   "source": [
    "print(arr2[1, :1])\n",
    "print(arr2[1, 0])"
   ]
  },
  {
   "cell_type": "code",
   "execution_count": null,
   "metadata": {
    "collapsed": true
   },
   "outputs": [],
   "source": [
    "arr2 = np.array([[0, 1, 3], [2, 4, 6]])\n",
    "\n",
    "print(arr2[0])\n",
    "print(arr2[0, 1])\n",
    "print(arr2[1:, :2])\n",
    "print(arr2[:, 2])\n",
    "print(arr2[:, 1:])"
   ]
  },
  {
   "cell_type": "markdown",
   "metadata": {},
   "source": [
    "* **Boolean selection**\n",
    "  - bool 리스트로 해당 값이 True인 조건만 필터링"
   ]
  },
  {
   "cell_type": "code",
   "execution_count": null,
   "metadata": {
    "collapsed": true
   },
   "outputs": [],
   "source": [
    "arr = np.array([1, 2, 4, 8, 9, 6, 12, 13])\n",
    "lst = [1, 2, 4, 8, 9, 6, 12, 13]\n",
    "\n",
    "print(arr % 2 == 0)"
   ]
  },
  {
   "cell_type": "code",
   "execution_count": null,
   "metadata": {
    "collapsed": true
   },
   "outputs": [],
   "source": [
    "even_mask = (arr % 2 == 0)\n",
    "print(arr[even_mask])\n",
    "\n",
    "print(arr[arr % 2 == 0])"
   ]
  },
  {
   "cell_type": "markdown",
   "metadata": {},
   "source": [
    "* multiple conditions\n",
    " - and, or, not 키워드 사용 불가\n",
    " - & - AND \n",
    " - | - OR "
   ]
  },
  {
   "cell_type": "code",
   "execution_count": null,
   "metadata": {
    "collapsed": true
   },
   "outputs": [],
   "source": [
    "arr[(arr > 7) | (arr <= 5)]"
   ]
  },
  {
   "cell_type": "code",
   "execution_count": null,
   "metadata": {
    "collapsed": true
   },
   "outputs": [],
   "source": [
    "arr[(arr % 2 == 0) & (arr <= 8)]"
   ]
  },
  {
   "cell_type": "markdown",
   "metadata": {},
   "source": [
    "* **ndarray operations**\n",
    "  - scala와의 연산은 전체 원소에 대해 적용\n",
    "  - 다른 ndarray와의 연산은 element-wise로 적용"
   ]
  },
  {
   "cell_type": "code",
   "execution_count": null,
   "metadata": {
    "collapsed": true
   },
   "outputs": [],
   "source": [
    "arr = np.arange(1, 7) * 5\n",
    "print(arr)"
   ]
  },
  {
   "cell_type": "code",
   "execution_count": null,
   "metadata": {
    "collapsed": true
   },
   "outputs": [],
   "source": [
    "arr2 = arr ** 4\n",
    "print(arr2)\n",
    "print(arr2 ** 0.5)"
   ]
  },
  {
   "cell_type": "code",
   "execution_count": null,
   "metadata": {
    "collapsed": true
   },
   "outputs": [],
   "source": [
    "arr1 = np.arange(0, 30, 3) + 3\n",
    "arr2 = np.arange(1, 11)\n",
    "print(arr1, arr2)\n",
    "\n",
    "print(arr1 - arr2)\n",
    "print(arr1 * arr2)\n",
    "print(arr1 * arr1)\n",
    "#print arr1 ^2 \n",
    "print(arr1 ** 2)"
   ]
  },
  {
   "cell_type": "code",
   "execution_count": null,
   "metadata": {
    "collapsed": true
   },
   "outputs": [],
   "source": [
    "arr1 = np.array([[1, 1], [1, 1]])\n",
    "arr2 = np.array([[2, 2], [2, 2]])\n",
    "\n",
    "print(arr1 * arr2)  # 원소끼리의 곱\n",
    "print(arr1.dot(arr2)) # 행렬 곱"
   ]
  },
  {
   "cell_type": "markdown",
   "metadata": {},
   "source": [
    "* **logical operator**\n",
    "  - all()\n",
    "    - 모든 원소가 조건을 만족 시키면 True, 아니면 False\n",
    "  - any()\n",
    "    - 어떤 원소라도 조건을 만족 시키면 True, 아니면 False"
   ]
  },
  {
   "cell_type": "code",
   "execution_count": null,
   "metadata": {
    "collapsed": true
   },
   "outputs": [],
   "source": [
    "arr = np.random.randint(1, 10, size = (4,4))\n",
    "print(arr)"
   ]
  },
  {
   "cell_type": "code",
   "execution_count": null,
   "metadata": {
    "collapsed": true
   },
   "outputs": [],
   "source": [
    "print(np.all(arr < 7))"
   ]
  },
  {
   "cell_type": "code",
   "execution_count": null,
   "metadata": {
    "collapsed": true
   },
   "outputs": [],
   "source": [
    "print(np.any(arr == 9))"
   ]
  },
  {
   "cell_type": "markdown",
   "metadata": {},
   "source": [
    "* **ravel**\n",
    "  - 다차원배열을 1차원으로 변경"
   ]
  },
  {
   "cell_type": "code",
   "execution_count": null,
   "metadata": {
    "collapsed": true
   },
   "outputs": [],
   "source": [
    "arr = np.array([np.arange(1, 6), np.arange(10, 15)])\n",
    "print(arr)"
   ]
  },
  {
   "cell_type": "code",
   "execution_count": null,
   "metadata": {
    "collapsed": true
   },
   "outputs": [],
   "source": [
    "print(arr.ravel())"
   ]
  },
  {
   "cell_type": "markdown",
   "metadata": {},
   "source": [
    "* **flatten**\n",
    " - 다차원 배열을 1차원으로 변경\n",
    " - copy를 생성하여 변경함"
   ]
  },
  {
   "cell_type": "code",
   "execution_count": null,
   "metadata": {
    "collapsed": true
   },
   "outputs": [],
   "source": [
    "print(arr.flatten())"
   ]
  },
  {
   "cell_type": "code",
   "execution_count": null,
   "metadata": {
    "collapsed": true
   },
   "outputs": [],
   "source": [
    "print(arr.flatten('F')) # column을 우선으로 변경"
   ]
  },
  {
   "cell_type": "code",
   "execution_count": null,
   "metadata": {
    "collapsed": true
   },
   "outputs": [],
   "source": [
    "# ravel vs flatten\n",
    "f_arr = arr.flatten() # copy를 반환\n",
    "r_arr = arr.ravel() # 원본 ndarray와 메모리 공유\n",
    "\n",
    "r_arr[0] = 60\n",
    "\n",
    "print(f_arr)\n",
    "print(r_arr)\n",
    "print(arr)"
   ]
  },
  {
   "cell_type": "markdown",
   "metadata": {},
   "source": [
    "* **reshaping**\n",
    " - array의 shape을 재정렬\n",
    " - 이때, 서로의 전체 원소 개수가 맞아야 가능\n",
    " - 데이터 정제에 가장 많이 사용\n",
    "   e.g) 이미지의 경우, 2차원 픽셀로 표현되나, 이것을 ml library로 전달하기 위해 reshape하여 사용"
   ]
  },
  {
   "cell_type": "code",
   "execution_count": 4,
   "metadata": {},
   "outputs": [
    {
     "data": {
      "text/plain": [
       "array([ 1,  2,  3,  4,  5,  6,  7,  8,  9, 10, 11, 12, 13, 14, 15, 16])"
      ]
     },
     "execution_count": 4,
     "metadata": {},
     "output_type": "execute_result"
    }
   ],
   "source": [
    "np.arange(1, 17)"
   ]
  },
  {
   "cell_type": "code",
   "execution_count": 5,
   "metadata": {},
   "outputs": [
    {
     "data": {
      "text/plain": [
       "array([[[ 1,  9],\n",
       "        [ 5, 13]],\n",
       "\n",
       "       [[ 2, 10],\n",
       "        [ 6, 14]],\n",
       "\n",
       "       [[ 3, 11],\n",
       "        [ 7, 15]],\n",
       "\n",
       "       [[ 4, 12],\n",
       "        [ 8, 16]]])"
      ]
     },
     "execution_count": 5,
     "metadata": {},
     "output_type": "execute_result"
    }
   ],
   "source": [
    "np.arange(1, 17).reshape(4, 2, 2, order='F')"
   ]
  },
  {
   "cell_type": "code",
   "execution_count": 6,
   "metadata": {},
   "outputs": [
    {
     "name": "stdout",
     "output_type": "stream",
     "text": [
      "[ 1  2  3  4  5  6  7  8  9 10 11 12 13 14 15]\n",
      "[[ 1  2  3  4  5]\n",
      " [ 6  7  8  9 10]\n",
      " [11 12 13 14 15]]\n",
      "[ 1  2  3  4  5  6  7  8  9 10 11 12 13 14 15]\n"
     ]
    }
   ],
   "source": [
    "arr = np.arange(1, 16)\n",
    "print(arr)\n",
    "arr2 = arr.reshape(3, 5)\n",
    "print(arr2)\n",
    "print(arr)"
   ]
  },
  {
   "cell_type": "markdown",
   "metadata": {},
   "source": [
    "* **자주 쓰는 numpy 함수**"
   ]
  },
  {
   "cell_type": "code",
   "execution_count": 8,
   "metadata": {},
   "outputs": [
    {
     "name": "stdout",
     "output_type": "stream",
     "text": [
      "[ 1  2  3  4  5  6  7  8  9 10 11 12 13 14 15]\n",
      "1\n",
      "\n",
      "\n",
      "8.0\n",
      "8.0\n",
      "\n",
      "\n",
      "15\n",
      "[99  2  3  4  5  6  7  8  9 10 20 21 22 23 24]\n",
      "\n",
      "\n",
      "4.320493798938574\n",
      "0\n",
      "\n",
      "\n",
      "14\n",
      "120\n",
      "\n",
      "\n",
      "[1.         1.41421356 1.73205081 2.         2.23606798 2.44948974\n",
      " 2.64575131 2.82842712 3.         3.16227766 3.31662479 3.46410162\n",
      " 3.60555128 3.74165739 3.87298335]\n"
     ]
    }
   ],
   "source": [
    "print(arr)\n",
    "print(np.min(arr))\n",
    "print(\"\\n\")\n",
    "print(np.mean(arr))\n",
    "print(np.median(arr))\n",
    "print(\"\\n\")\n",
    "print(np.max(arr))\n",
    "print(np.maximum(arr, np.array([99, 1, 2, 3, 4, 5, 6, 7, 8, 9, 20, 21, 22, 23, 24])))\n",
    "print(\"\\n\")\n",
    "print(np.std(arr))\n",
    "print(np.argmin(arr)) # return index \n",
    "print(\"\\n\")\n",
    "print(np.argmax(arr))\n",
    "print(np.sum(arr))\n",
    "print(\"\\n\")\n",
    "print(np.sqrt(arr))"
   ]
  },
  {
   "cell_type": "markdown",
   "metadata": {},
   "source": [
    "* **axis**\n",
    " - 몇몇 함수에는 axis keyword 파라미터가 존재\n",
    " - axis값이 없는 경우에는 전체 데이터에 대해 적용\n",
    " - axis값이 있는 경우에는, 해당 axis를 **따라서** 연산 적용"
   ]
  },
  {
   "cell_type": "code",
   "execution_count": 9,
   "metadata": {},
   "outputs": [
    {
     "name": "stdout",
     "output_type": "stream",
     "text": [
      "21\n"
     ]
    }
   ],
   "source": [
    "arr2 = np.array([[1, 2, 3], [4, 5, 6]])\n",
    "print(np.sum(arr2))"
   ]
  },
  {
   "cell_type": "code",
   "execution_count": 10,
   "metadata": {},
   "outputs": [
    {
     "name": "stdout",
     "output_type": "stream",
     "text": [
      "6\n"
     ]
    }
   ],
   "source": [
    "# 1차원 적용\n",
    "arr2 = np.array([1, 2, 3])\n",
    "print(np.sum(arr2, axis=0))"
   ]
  },
  {
   "cell_type": "code",
   "execution_count": 11,
   "metadata": {},
   "outputs": [
    {
     "name": "stdout",
     "output_type": "stream",
     "text": [
      "[[1 2 3]\n",
      " [4 5 6]]\n"
     ]
    }
   ],
   "source": [
    "arr2 = np.array([[1, 2, 3], [4, 5, 6]])\n",
    "print(arr2)"
   ]
  },
  {
   "cell_type": "code",
   "execution_count": 12,
   "metadata": {},
   "outputs": [
    {
     "name": "stdout",
     "output_type": "stream",
     "text": [
      "[5 7 9]\n",
      "[ 6 15]\n"
     ]
    }
   ],
   "source": [
    "# 2차원 적용\n",
    "\n",
    "print(np.sum(arr2, axis=0))\n",
    "print(np.sum(arr2, axis=1))"
   ]
  },
  {
   "cell_type": "code",
   "execution_count": null,
   "metadata": {
    "collapsed": true
   },
   "outputs": [],
   "source": [
    "# 3차원 적용\n",
    "arr2 = np.array([[[1, 2, 3], [4, 5, 6]], \n",
    "                 \n",
    "                 [[1, 1, 1], [2, 2, 2]]] )\n",
    "print(np.sum(arr2, axis=0))\n",
    "print(np.sum(arr2, axis=1))\n",
    "print(np.sum(arr2, axis=2))"
   ]
  },
  {
   "cell_type": "markdown",
   "metadata": {},
   "source": [
    " * **numpy broadcasting**\n",
    "  - 연산시, 차원이 맞지 않은 경우, 적은 차원의 ndarray를 상위 차원으로 broadcast하여 연산 진행"
   ]
  },
  {
   "cell_type": "code",
   "execution_count": null,
   "metadata": {
    "collapsed": true
   },
   "outputs": [],
   "source": [
    "arr = np.arange(10)\n",
    "arr2 = np.arange(2, 12)\n",
    "arr3 = np.arange(10).reshape(2, 5)\n",
    "\n",
    "arr + arr2 # 기본적으로 element-wise 연산"
   ]
  },
  {
   "cell_type": "code",
   "execution_count": null,
   "metadata": {
    "collapsed": true
   },
   "outputs": [],
   "source": [
    "arr + 1"
   ]
  },
  {
   "cell_type": "code",
   "execution_count": null,
   "metadata": {
    "collapsed": true
   },
   "outputs": [],
   "source": [
    "2 ** arr "
   ]
  },
  {
   "cell_type": "code",
   "execution_count": null,
   "metadata": {
    "collapsed": true
   },
   "outputs": [],
   "source": [
    "arr ** 2"
   ]
  },
  {
   "cell_type": "code",
   "execution_count": null,
   "metadata": {
    "collapsed": true
   },
   "outputs": [],
   "source": [
    "arr3"
   ]
  },
  {
   "cell_type": "code",
   "execution_count": null,
   "metadata": {
    "collapsed": true
   },
   "outputs": [],
   "source": [
    "arr3 + arr[1:6]"
   ]
  },
  {
   "cell_type": "code",
   "execution_count": null,
   "metadata": {
    "collapsed": true
   },
   "outputs": [],
   "source": [
    "arr3.shape, arr[1:6].shape"
   ]
  },
  {
   "cell_type": "code",
   "execution_count": null,
   "metadata": {
    "collapsed": true
   },
   "outputs": [],
   "source": [
    "arr3 + 3"
   ]
  },
  {
   "cell_type": "markdown",
   "metadata": {},
   "source": [
    "* **where 함수**\n",
    " - condition에 따라 x, y선별적으로 선택"
   ]
  },
  {
   "cell_type": "code",
   "execution_count": null,
   "metadata": {
    "collapsed": true
   },
   "outputs": [],
   "source": [
    "a = np.array([1, 2, 4, 9, 10])\n",
    "b = np.array([0, 4, 9, 8, 7])\n",
    "a, b"
   ]
  },
  {
   "cell_type": "code",
   "execution_count": null,
   "metadata": {
    "collapsed": true
   },
   "outputs": [],
   "source": [
    "# 조건이 참이면 a, 거짓이면 b에서 선택\n",
    "np.where(a > 7, a, b) "
   ]
  },
  {
   "cell_type": "code",
   "execution_count": null,
   "metadata": {
    "collapsed": true
   },
   "outputs": [],
   "source": [
    "np.where([True, False, True, True, True], a, b)"
   ]
  },
  {
   "cell_type": "code",
   "execution_count": null,
   "metadata": {
    "collapsed": true
   },
   "outputs": [],
   "source": [
    "# 조건이 참이면 a, 거짓이면 1로 선택\n",
    "np.where(a > 7, a, 1)"
   ]
  },
  {
   "cell_type": "markdown",
   "metadata": {},
   "source": [
    "* **연습문제**\n",
    " 1. np.random.randn(5, 5)로 생성된 행렬에서 음수값을 0으로 변경하세요\n",
    " 2. numpy를 이용하여 Math.pi 값을 다시 구해봅시다.\n",
    " 3. python 기본 리스트 객체로 만든 두 행렬을 곱하는 코드를 작성하시오."
   ]
  },
  {
   "cell_type": "code",
   "execution_count": null,
   "metadata": {
    "collapsed": true
   },
   "outputs": [],
   "source": [
    "a = np.random.randn(5, 5)\n",
    "a, np.where(a > 0, a, 0)"
   ]
  },
  {
   "cell_type": "code",
   "execution_count": null,
   "metadata": {
    "collapsed": true
   },
   "outputs": [],
   "source": [
    "total = int(1e7)\n",
    "point_sum = np.sum(np.random.rand(total, 2) ** 2, axis=1)\n",
    "4.0 * np.sum(point_sum <= 1) / total"
   ]
  },
  {
   "cell_type": "code",
   "execution_count": null,
   "metadata": {
    "collapsed": true
   },
   "outputs": [],
   "source": [
    "[0] * 4\n",
    "[[0] * 4 for _ in range(3)]"
   ]
  },
  {
   "cell_type": "code",
   "execution_count": null,
   "metadata": {
    "collapsed": true
   },
   "outputs": [],
   "source": [
    "a = [[2, 3, 2], [1, 2, 2]]\n",
    "b = [[2, 2], [1, 3], [2, 1]]\n",
    "\n",
    "def mat_mult(a, b):\n",
    "    if len(a[0]) != len(b):\n",
    "        raise Exception(\"invalid operation\")\n",
    "    \n",
    "    m, n, l = len(a), len(a[0]), len(b[0])\n",
    "    rs = [[0] * l for _ in range(m)]\n",
    "    \n",
    "    for i in range(m):\n",
    "        for j in range(l):\n",
    "            for k in range(n):\n",
    "                rs[i][j] += a[i][k] * b[k][j]\n",
    "                \n",
    "    return rs\n",
    "\n",
    "mat_mult(a, b)\n",
    "        "
   ]
  },
  {
   "cell_type": "markdown",
   "metadata": {},
   "source": [
    "### **linear regression 실습**"
   ]
  },
  {
   "cell_type": "markdown",
   "metadata": {},
   "source": [
    "* **generate random data**\n",
    " - random package 활용하여 feature와 target 생성"
   ]
  },
  {
   "cell_type": "code",
   "execution_count": null,
   "metadata": {
    "collapsed": true
   },
   "outputs": [],
   "source": [
    "x = np.random.randn(100)\n",
    "x.shape, x"
   ]
  },
  {
   "cell_type": "code",
   "execution_count": null,
   "metadata": {
    "collapsed": true
   },
   "outputs": [],
   "source": [
    "y = 4 * x + 30 + 1.1 * np.random.randn(100)\n",
    "y.shape, y"
   ]
  },
  {
   "cell_type": "markdown",
   "metadata": {},
   "source": [
    "* **plot data**\n",
    "  - matplotlib package \n",
    "  - %matplotlib inline - visualization 결과가 notebook 내에 포함 됨"
   ]
  },
  {
   "cell_type": "code",
   "execution_count": null,
   "metadata": {
    "collapsed": true
   },
   "outputs": [],
   "source": [
    "import matplotlib.pyplot as plt\n",
    "%matplotlib inline "
   ]
  },
  {
   "cell_type": "code",
   "execution_count": null,
   "metadata": {
    "collapsed": true
   },
   "outputs": [],
   "source": [
    "plt.scatter(x, y, c='r', marker='o')"
   ]
  },
  {
   "cell_type": "markdown",
   "metadata": {},
   "source": [
    "* **create a model**\n",
    " - 각 알고리즘을 수행하는 객체 생성 후, fit 함수를 이용하여 model training"
   ]
  },
  {
   "cell_type": "code",
   "execution_count": null,
   "metadata": {
    "collapsed": true
   },
   "outputs": [],
   "source": [
    "x = x.reshape(100, 1)"
   ]
  },
  {
   "cell_type": "code",
   "execution_count": null,
   "metadata": {
    "collapsed": true
   },
   "outputs": [],
   "source": [
    "from sklearn.linear_model import LinearRegression\n",
    "\n",
    "model = LinearRegression()\n",
    "model.fit(x, y)"
   ]
  },
  {
   "cell_type": "markdown",
   "metadata": {},
   "source": [
    "* **check coefficient, bias(intercept)**\n",
    " - coefficient와 bias값 확인"
   ]
  },
  {
   "cell_type": "code",
   "execution_count": null,
   "metadata": {
    "collapsed": true
   },
   "outputs": [],
   "source": [
    "w = model.coef_\n",
    "b = model.intercept_\n",
    "\n",
    "w, b"
   ]
  },
  {
   "cell_type": "markdown",
   "metadata": {},
   "source": [
    "* **plot data with our model**"
   ]
  },
  {
   "cell_type": "code",
   "execution_count": null,
   "metadata": {
    "collapsed": true
   },
   "outputs": [],
   "source": [
    "plt.scatter(x, y, c='r', marker='o')\n",
    "plt.plot(x, w * x + b, 'g-')\n",
    "plt.plot(x, 2 * x + 30, 'b-')"
   ]
  },
  {
   "cell_type": "markdown",
   "metadata": {},
   "source": [
    "* **pandas**\n",
    "  - http://pandas.pydata.org/\n",
    "  - Opensource python 고성능 데이터 분석 라이브러리\n",
    "  - DataFrame, Series 객체가 가장 많이 사용\n",
    "  - ML library인 scikit-learn과 함께 ML 분석에 많이 사용 됨\n",
    "  - pip install pandas로 설치\n",
    "  - 관례적으로 pd 로 임포트"
   ]
  },
  {
   "cell_type": "code",
   "execution_count": null,
   "metadata": {
    "collapsed": true
   },
   "outputs": [],
   "source": [
    "import numpy as np\n",
    "import pandas as pd"
   ]
  },
  {
   "cell_type": "markdown",
   "metadata": {},
   "source": [
    " * **Series**\n",
    "  - pandas의 기본 객체 중 하나\n",
    "  - numpy의 ndarray를 기반으로 인덱싱을 기능을 추가하여 1차원 배열을 나타냄\n",
    "  - index를 지정하지 않을 시, 기본적으로 ndarray와 같이 0-based 인덱스 생성\n",
    "  - 같은 타입의 0개 이상의 데이터를 가질 수 있음"
   ]
  },
  {
   "cell_type": "code",
   "execution_count": null,
   "metadata": {
    "collapsed": true
   },
   "outputs": [],
   "source": [
    "s1 = pd.Series([1, 2, 20])\n",
    "print(s1)"
   ]
  },
  {
   "cell_type": "code",
   "execution_count": null,
   "metadata": {
    "collapsed": true
   },
   "outputs": [],
   "source": [
    "# indexing 가능\n",
    "print(s1[0])"
   ]
  },
  {
   "cell_type": "code",
   "execution_count": null,
   "metadata": {
    "collapsed": true
   },
   "outputs": [],
   "source": [
    "s2 = pd.Series(list(range(1, 6)))\n",
    "print(s2)"
   ]
  },
  {
   "cell_type": "markdown",
   "metadata": {},
   "source": [
    " * **값 및 인덱스 접근**\n",
    "  - 각가 values, index 속성"
   ]
  },
  {
   "cell_type": "code",
   "execution_count": null,
   "metadata": {
    "collapsed": true
   },
   "outputs": [],
   "source": [
    "print(s2.values)"
   ]
  },
  {
   "cell_type": "code",
   "execution_count": null,
   "metadata": {
    "collapsed": true
   },
   "outputs": [],
   "source": [
    "print(s2.index)"
   ]
  },
  {
   "cell_type": "markdown",
   "metadata": {},
   "source": [
    "* **index 지정하기**"
   ]
  },
  {
   "cell_type": "code",
   "execution_count": null,
   "metadata": {
    "collapsed": true
   },
   "outputs": [],
   "source": [
    "s3 = pd.Series(list(range(1, 4)), \n",
    "               index = [chr(i) for i in range(97, 100)])\n",
    "print(s3)\n",
    "print(s3.values)\n",
    "print(s3.index)"
   ]
  },
  {
   "cell_type": "markdown",
   "metadata": {},
   "source": [
    "* ** chr, ord 함수**\n",
    " - chr : unicode point -> 문자\n",
    " - ord : 문자 -> unicode point"
   ]
  },
  {
   "cell_type": "code",
   "execution_count": null,
   "metadata": {
    "collapsed": true
   },
   "outputs": [],
   "source": [
    "chr(97), chr(65), chr(48)"
   ]
  },
  {
   "cell_type": "code",
   "execution_count": null,
   "metadata": {
    "collapsed": true,
    "scrolled": true
   },
   "outputs": [],
   "source": [
    "ord('a'), ord('A'), ord('0')"
   ]
  },
  {
   "cell_type": "code",
   "execution_count": null,
   "metadata": {
    "collapsed": true
   },
   "outputs": [],
   "source": [
    "# 인덱스를 새로 지정한 경우, 기본 인덱스도 동시에 사용 가능\n",
    "# 단, 지정한 인덱스가 정수인 경우에는, 해당되지 않음\n",
    "print(s3[1], s3['b']) \n",
    "print(s3['c'])"
   ]
  },
  {
   "cell_type": "code",
   "execution_count": null,
   "metadata": {
    "collapsed": true
   },
   "outputs": [],
   "source": [
    "s4 = pd.Series(range(1, 4), index=[100, 101, 102])\n",
    "\n",
    "print(s4[100])\n",
    "print(s4[0])"
   ]
  },
  {
   "cell_type": "markdown",
   "metadata": {},
   "source": [
    "* **index가 없는 경우**"
   ]
  },
  {
   "cell_type": "code",
   "execution_count": null,
   "metadata": {
    "collapsed": true
   },
   "outputs": [],
   "source": [
    "print(s3['d'])\n",
    "print(s3[4])"
   ]
  },
  {
   "cell_type": "markdown",
   "metadata": {},
   "source": [
    "* **index 재사용**\n",
    " - 기존 series나 dataframe의 인덱스를 재사용 가능\n",
    " - .index 속성 이용"
   ]
  },
  {
   "cell_type": "code",
   "execution_count": null,
   "metadata": {
    "collapsed": true
   },
   "outputs": [],
   "source": [
    "s4 = pd.Series(2, index = s3.index)\n",
    "print(s4)"
   ]
  },
  {
   "cell_type": "code",
   "execution_count": null,
   "metadata": {
    "collapsed": true
   },
   "outputs": [],
   "source": [
    "s5 = pd.Series(np.random.randn(5), index=np.arange(10, 15))\n",
    "print(s5)"
   ]
  },
  {
   "cell_type": "code",
   "execution_count": null,
   "metadata": {
    "collapsed": true
   },
   "outputs": [],
   "source": [
    "s6 = pd.Series(np.arange(1, 6), s5.index)\n",
    "print(s6)"
   ]
  },
  {
   "cell_type": "code",
   "execution_count": null,
   "metadata": {
    "collapsed": true
   },
   "outputs": [],
   "source": [
    "s7 = pd.Series({'a' : 100, 'b' : 1000, 'c' : 2, 'd' : 6})\n",
    "print(s7)\n",
    "print(s7['b'])\n",
    "\n",
    "s8 = pd.Series(np.arange(4), index=s7.index)\n",
    "print(s8)"
   ]
  },
  {
   "cell_type": "markdown",
   "metadata": {},
   "source": [
    "* **Series size, shape, unique, count, value_counts**\n",
    " - size : 개수 반환\n",
    " - shape : 튜플형태로 shape반환\n",
    " - unique: 유일한 값만 ndarray로 반환\n",
    " - count : NaN을 제외한 개수를 반환\n",
    " - value_counts: NaN을 제외하고 각 값들의 빈도를 반환 "
   ]
  },
  {
   "cell_type": "code",
   "execution_count": null,
   "metadata": {
    "collapsed": true
   },
   "outputs": [],
   "source": [
    "s = pd.Series([0, 1, 1, 2, 3, 4, 5, 6, 7, np.nan])\n",
    "print(s)"
   ]
  },
  {
   "cell_type": "code",
   "execution_count": null,
   "metadata": {
    "collapsed": true
   },
   "outputs": [],
   "source": [
    "print(len(s))"
   ]
  },
  {
   "cell_type": "code",
   "execution_count": null,
   "metadata": {
    "collapsed": true
   },
   "outputs": [],
   "source": [
    "print(s.size)"
   ]
  },
  {
   "cell_type": "code",
   "execution_count": null,
   "metadata": {
    "collapsed": true
   },
   "outputs": [],
   "source": [
    "print(s.shape)"
   ]
  },
  {
   "cell_type": "code",
   "execution_count": null,
   "metadata": {
    "collapsed": true
   },
   "outputs": [],
   "source": [
    "print(s.count()) # NaN을 제외한 값을 카운팅"
   ]
  },
  {
   "cell_type": "code",
   "execution_count": null,
   "metadata": {
    "collapsed": true
   },
   "outputs": [],
   "source": [
    "print(s.unique())"
   ]
  },
  {
   "cell_type": "code",
   "execution_count": null,
   "metadata": {
    "collapsed": true
   },
   "outputs": [],
   "source": [
    "print(s.value_counts()) # NaN 제외하고 값들을 카운팅 함\n",
    "type(s.value_counts()) # value_counts의 타입 역시 pd.Series"
   ]
  },
  {
   "cell_type": "markdown",
   "metadata": {},
   "source": [
    "* **head, tail, take**\n",
    " - head : 상위 n개 출력 기본 5개\n",
    " - tail : 하위 n개 출력 기본 5개\n",
    " - take : 주어진 인덱스 리스트와 매칭되는 원소만 추출"
   ]
  },
  {
   "cell_type": "code",
   "execution_count": null,
   "metadata": {
    "collapsed": true
   },
   "outputs": [],
   "source": [
    "s.head() # 상위 5개 출력"
   ]
  },
  {
   "cell_type": "code",
   "execution_count": null,
   "metadata": {
    "collapsed": true
   },
   "outputs": [],
   "source": [
    "s.head(n = 3)"
   ]
  },
  {
   "cell_type": "code",
   "execution_count": null,
   "metadata": {
    "collapsed": true
   },
   "outputs": [],
   "source": [
    "s.tail()"
   ]
  },
  {
   "cell_type": "code",
   "execution_count": null,
   "metadata": {
    "collapsed": true
   },
   "outputs": [],
   "source": [
    "s.tail(n = 2)"
   ]
  },
  {
   "cell_type": "code",
   "execution_count": null,
   "metadata": {
    "collapsed": true
   },
   "outputs": [],
   "source": [
    "print(s)\n",
    "print()\n",
    "print(s.take([0, 4, 3, 9]))"
   ]
  },
  {
   "cell_type": "code",
   "execution_count": null,
   "metadata": {
    "collapsed": true
   },
   "outputs": [],
   "source": [
    "s = pd.Series(np.arange(1, 4), index = ['x', 'y', 'z'])\n",
    "s.take([0, 2])\n",
    "#s.take(['x', 'z']) #0 - based index만 가능"
   ]
  },
  {
   "cell_type": "markdown",
   "metadata": {},
   "source": [
    " * **single value accessing**\n",
    "  - 인덱스를 이용하여 값 접근 가능\n",
    "  - 문자열 인덱스가 주어진 경우, 0-based index도 사용 가능\n",
    "  "
   ]
  },
  {
   "cell_type": "code",
   "execution_count": null,
   "metadata": {
    "collapsed": true
   },
   "outputs": [],
   "source": [
    "print(s['x']) # 인덱스로 가능"
   ]
  },
  {
   "cell_type": "code",
   "execution_count": null,
   "metadata": {
    "collapsed": true
   },
   "outputs": [],
   "source": [
    "print(s[1]) # 숫자 인덱스도 가능"
   ]
  },
  {
   "cell_type": "code",
   "execution_count": null,
   "metadata": {
    "collapsed": true
   },
   "outputs": [],
   "source": [
    "s = pd.Series(np.arange(1, 4), index = [100, 101, 102])\n",
    "print(s[100])\n",
    "print(s[0]) # 에러"
   ]
  },
  {
   "cell_type": "markdown",
   "metadata": {},
   "source": [
    "* **multiple values accessing**\n",
    " - 인덱스 리스트, ndarray로 여러 값에 접근 가능"
   ]
  },
  {
   "cell_type": "code",
   "execution_count": null,
   "metadata": {
    "collapsed": true
   },
   "outputs": [],
   "source": [
    "print(s[100])\n",
    "print(s[[100, 102]])"
   ]
  },
  {
   "cell_type": "markdown",
   "metadata": {},
   "source": [
    "* **loc , iloc**\n",
    "  - loc[] : index로 값 접근\n",
    "  - iloc[] : 0 based index로 값 접근"
   ]
  },
  {
   "cell_type": "code",
   "execution_count": null,
   "metadata": {
    "collapsed": true
   },
   "outputs": [],
   "source": [
    "print(s)"
   ]
  },
  {
   "cell_type": "code",
   "execution_count": null,
   "metadata": {
    "collapsed": true
   },
   "outputs": [],
   "source": [
    "print(s.loc[100])"
   ]
  },
  {
   "cell_type": "code",
   "execution_count": null,
   "metadata": {
    "collapsed": true
   },
   "outputs": [],
   "source": [
    "print(s.iloc[0])"
   ]
  },
  {
   "cell_type": "code",
   "execution_count": null,
   "metadata": {
    "collapsed": true
   },
   "outputs": [],
   "source": [
    "print(s.loc[[100, 102]])"
   ]
  },
  {
   "cell_type": "code",
   "execution_count": null,
   "metadata": {
    "collapsed": true
   },
   "outputs": [],
   "source": [
    "print(s.iloc[[0, 2]])"
   ]
  },
  {
   "cell_type": "markdown",
   "metadata": {},
   "source": [
    "* ** index값이 없는 경우**\n",
    " - loc : NaN으로 대체\n",
    " - iloc : 에러 발생"
   ]
  },
  {
   "cell_type": "code",
   "execution_count": null,
   "metadata": {
    "collapsed": true
   },
   "outputs": [],
   "source": [
    "s.loc[[100, 102, 104, 105]]"
   ]
  },
  {
   "cell_type": "code",
   "execution_count": null,
   "metadata": {
    "collapsed": true
   },
   "outputs": [],
   "source": [
    "# 에러 발생\n",
    "# 인덱스 4가 없기 때문\n",
    "s.iloc[[0, 2, 1, 4]] "
   ]
  },
  {
   "cell_type": "markdown",
   "metadata": {},
   "source": [
    "* **index를 기준으로 더하기**"
   ]
  },
  {
   "cell_type": "code",
   "execution_count": null,
   "metadata": {
    "collapsed": true
   },
   "outputs": [],
   "source": [
    "s1 = pd.Series([1, 2, 3, 4], index=['a', 'b', 'c', 'd'])\n",
    "print(s1)"
   ]
  },
  {
   "cell_type": "code",
   "execution_count": null,
   "metadata": {
    "collapsed": true
   },
   "outputs": [],
   "source": [
    "s2 = pd.Series([4, 3, 2, 1], index=['d', 'c', 'b', 'a'])\n",
    "s2"
   ]
  },
  {
   "cell_type": "code",
   "execution_count": null,
   "metadata": {
    "collapsed": true
   },
   "outputs": [],
   "source": [
    "print(s1 + s2)"
   ]
  },
  {
   "cell_type": "markdown",
   "metadata": {},
   "source": [
    "* numpy와 비교\n",
    " - index 지정이 불가한 numpy는 0-based index로 연산"
   ]
  },
  {
   "cell_type": "code",
   "execution_count": null,
   "metadata": {
    "collapsed": true
   },
   "outputs": [],
   "source": [
    "a1 = np.array([1, 2, 3, 4])\n",
    "a2 = np.array([4, 3, 2, 1])\n",
    "a1 + a2"
   ]
  },
  {
   "cell_type": "markdown",
   "metadata": {},
   "source": [
    "* **산술연산**\n",
    " - Series의 경우에도 스칼라와의 연산은 각 원소별로 스칼라와의 연산이 적용\n",
    " - Series와의 연산은 각 인덱스에 맞는 값끼리 연산이 적용\n",
    "   - 이때, 인덱스의 pair가 맞지 않으면, 결과는 NaN "
   ]
  },
  {
   "cell_type": "code",
   "execution_count": null,
   "metadata": {
    "collapsed": true
   },
   "outputs": [],
   "source": [
    "print(s1)"
   ]
  },
  {
   "cell_type": "code",
   "execution_count": null,
   "metadata": {
    "collapsed": true
   },
   "outputs": [],
   "source": [
    "print(s1 ** 2)"
   ]
  },
  {
   "cell_type": "code",
   "execution_count": null,
   "metadata": {
    "collapsed": true
   },
   "outputs": [],
   "source": [
    "exp = pd.Series(2, s1.index)\n",
    "print(s1 ** exp)"
   ]
  },
  {
   "cell_type": "markdown",
   "metadata": {},
   "source": [
    "* **index pair가 안맞는 경우**\n",
    " - 해당 index에 대해선 NaN 값 생성"
   ]
  },
  {
   "cell_type": "code",
   "execution_count": null,
   "metadata": {
    "collapsed": true
   },
   "outputs": [],
   "source": [
    "s1 = pd.Series({'a': 1, 'b': 2, 'c': 3, 'd': 5})\n",
    "s2 = pd.Series({'b': 6, 'c': 7, 'd': 9, 'e': 10})\n",
    "\n",
    "print(s1 + s2)"
   ]
  },
  {
   "cell_type": "markdown",
   "metadata": {},
   "source": [
    " * **NaN (Not a Number)**\n",
    "  - numpy와 비교"
   ]
  },
  {
   "cell_type": "code",
   "execution_count": null,
   "metadata": {
    "collapsed": true
   },
   "outputs": [],
   "source": [
    "nda = np.array([1, 2, 3, 4, 5])\n",
    "\n",
    "# 일반적으로 np 모듈의 함수나 Series혹은 DataFrame의 멤버함수 중 하나를 사용\n",
    "nda.mean(), np.mean(nda)\n"
   ]
  },
  {
   "cell_type": "code",
   "execution_count": null,
   "metadata": {
    "collapsed": true
   },
   "outputs": [],
   "source": [
    "# NaN이 있는 경우, 연산 불가능\n",
    "nda = np.array([1, 2, 3, 4, np.NaN])\n",
    "nda.mean()"
   ]
  },
  {
   "cell_type": "code",
   "execution_count": null,
   "metadata": {
    "collapsed": true
   },
   "outputs": [],
   "source": [
    "# Series는 NaN을 무시하고 연산\n",
    "s = pd.Series([1, 2, 3, 4, np.NaN])\n",
    "print(s.mean())\n",
    "print(s.mean(skipna=False))"
   ]
  },
  {
   "cell_type": "markdown",
   "metadata": {},
   "source": [
    " * **Boolean selection**\n",
    "  - boolean Series가 []와 함께 사용되면 True 값에 해당하는 값만 새로 반환되는 Series객체에 포함됨"
   ]
  },
  {
   "cell_type": "code",
   "execution_count": null,
   "metadata": {
    "collapsed": true
   },
   "outputs": [],
   "source": [
    "s = pd.Series(np.arange(1, 10))\n",
    "s"
   ]
  },
  {
   "cell_type": "code",
   "execution_count": null,
   "metadata": {
    "collapsed": true
   },
   "outputs": [],
   "source": [
    "my_logic = s.index > 5\n",
    "print(my_logic)"
   ]
  },
  {
   "cell_type": "code",
   "execution_count": null,
   "metadata": {
    "collapsed": true
   },
   "outputs": [],
   "source": [
    "print(s[my_logic])"
   ]
  },
  {
   "cell_type": "code",
   "execution_count": null,
   "metadata": {
    "collapsed": true
   },
   "outputs": [],
   "source": [
    "# 한번에!\n",
    "print(s[s.index > 5])\n",
    "print(s[s > 5])"
   ]
  },
  {
   "cell_type": "code",
   "execution_count": null,
   "metadata": {
    "collapsed": true
   },
   "outputs": [],
   "source": [
    "#print s > 5 and s < 8\n",
    "#print s[s > 5 and s < 8]\n",
    "print(s[(s > 5) & (s < 8)]) # & and , | or"
   ]
  },
  {
   "cell_type": "markdown",
   "metadata": {},
   "source": [
    "* 연습문제) 아래 연산의 각가의 결과는?"
   ]
  },
  {
   "cell_type": "code",
   "execution_count": null,
   "metadata": {
    "collapsed": true
   },
   "outputs": [],
   "source": [
    "s"
   ]
  },
  {
   "cell_type": "code",
   "execution_count": null,
   "metadata": {
    "collapsed": true
   },
   "outputs": [],
   "source": [
    "print(s[s >= 7].sum())\n",
    "print((s >= 7).sum())"
   ]
  },
  {
   "cell_type": "markdown",
   "metadata": {},
   "source": [
    "* **Series 값 변경**\n",
    "  - 인덱스를 이용하여 변경  \n"
   ]
  },
  {
   "cell_type": "code",
   "execution_count": null,
   "metadata": {
    "collapsed": true
   },
   "outputs": [],
   "source": [
    "s = pd.Series([1, 10, 100], index = ['a', 'b', 'c'])\n",
    "\n",
    "s['d'] = 1000\n",
    "print(s)\n",
    "\n",
    "s['d'] = 10000\n",
    "print(s)"
   ]
  },
  {
   "cell_type": "code",
   "execution_count": null,
   "metadata": {
    "collapsed": true
   },
   "outputs": [],
   "source": [
    "del s['a']\n",
    "print(s)"
   ]
  },
  {
   "cell_type": "markdown",
   "metadata": {},
   "source": [
    "* **Slicing**\n",
    " - 리스트, ndarray와 동일하게 적용"
   ]
  },
  {
   "cell_type": "code",
   "execution_count": null,
   "metadata": {
    "collapsed": true
   },
   "outputs": [],
   "source": [
    "s.value_counts()"
   ]
  },
  {
   "cell_type": "code",
   "execution_count": null,
   "metadata": {
    "collapsed": true
   },
   "outputs": [],
   "source": [
    "s = pd.Series(np.arange(100, 110), index=np.arange(10, 20))\n",
    "print(s[0:5], '\\n')\n",
    "print(s[:5], '\\n')\n",
    "print(s[5:], '\\n')\n",
    "print(s[-3:], '\\n')"
   ]
  },
  {
   "cell_type": "markdown",
   "metadata": {},
   "source": [
    "* **DataFrame**\n",
    "  - Series가 1차원이라면 DataFrame은 2차원으로 확대된 버젼\n",
    "  - Excel spreadsheet이라고 생각하면 이해하기 쉬움\n",
    "  - 2차원이기 때문에 인덱스가 row, column로 구성됨\n",
    "  - Data Analysis, Machine Learning에서 data 변형을 위해 가장 많이 사용"
   ]
  },
  {
   "cell_type": "code",
   "execution_count": null,
   "metadata": {
    "collapsed": true
   },
   "outputs": [],
   "source": [
    "df = pd.DataFrame(np.array([[10, 11], [20, 22]]))\n",
    "print(df)"
   ]
  },
  {
   "cell_type": "code",
   "execution_count": null,
   "metadata": {
    "collapsed": true
   },
   "outputs": [],
   "source": [
    "df = pd.DataFrame(np.array([2, 1, 2, 3]))\n",
    "print(df)\n",
    "\n",
    "type(df)"
   ]
  },
  {
   "cell_type": "markdown",
   "metadata": {},
   "source": [
    "* **shape**\n",
    " - row, column"
   ]
  },
  {
   "cell_type": "code",
   "execution_count": null,
   "metadata": {
    "collapsed": true
   },
   "outputs": [],
   "source": [
    "df1 = pd.DataFrame([pd.Series(np.arange(10, 15)) ,\n",
    "                pd.Series(np.arange(20, 25)),             \n",
    "                pd.Series(np.arange(20, 25))])\n",
    "print(df1, '\\n')\n",
    "print(df1.shape) # dataframe의 경우 항상 크기가 2인 튜플"
   ]
  },
  {
   "cell_type": "markdown",
   "metadata": {},
   "source": [
    "* ** dataframe 살펴보기**\n",
    " - shape           : row, column 개수 확인\n",
    " - head(), tail()  : 데이터 확인\n",
    " - describe()      : 각 column별 간략한 통계정보 \n",
    " - info()          : 각 column별 타입 정보"
   ]
  },
  {
   "cell_type": "code",
   "execution_count": null,
   "metadata": {
    "collapsed": true
   },
   "outputs": [],
   "source": [
    "df.shape"
   ]
  },
  {
   "cell_type": "code",
   "execution_count": null,
   "metadata": {
    "collapsed": true
   },
   "outputs": [],
   "source": [
    "len(df) # row 갯수"
   ]
  },
  {
   "cell_type": "code",
   "execution_count": null,
   "metadata": {
    "collapsed": true
   },
   "outputs": [],
   "source": [
    "df.head()"
   ]
  },
  {
   "cell_type": "code",
   "execution_count": null,
   "metadata": {
    "collapsed": true
   },
   "outputs": [],
   "source": [
    "df.describe()"
   ]
  },
  {
   "cell_type": "code",
   "execution_count": null,
   "metadata": {
    "collapsed": true
   },
   "outputs": [],
   "source": [
    "df.info()"
   ]
  },
  {
   "cell_type": "markdown",
   "metadata": {},
   "source": [
    "* **column 초기화**\n",
    " - Series의 경우 1차원 타입이기 때문에 index만 존재\n",
    " - Dataframe의 경우, index와 column을 모두 명시"
   ]
  },
  {
   "cell_type": "code",
   "execution_count": null,
   "metadata": {
    "collapsed": true
   },
   "outputs": [],
   "source": [
    "df = pd.DataFrame(np.array([[10, 20], [20, 30]]), \n",
    "                  columns = ['Age', 'Height'], index = ['d1', 'd2'])\n",
    "print(df)\n",
    "df.index, df.columns"
   ]
  },
  {
   "cell_type": "code",
   "execution_count": null,
   "metadata": {
    "collapsed": true
   },
   "outputs": [],
   "source": [
    "df = pd.DataFrame(np.array([[10, 20], [20, 30]]), \n",
    "                  columns = ['a', 'b'])\n",
    "print(df.columns)\n",
    "print(df, '\\n')\n",
    "\n",
    "df.columns = ['t1', 't2']\n",
    "print(df)"
   ]
  },
  {
   "cell_type": "markdown",
   "metadata": {},
   "source": [
    "* **Series dictionary로 부터 생성**"
   ]
  },
  {
   "cell_type": "code",
   "execution_count": null,
   "metadata": {
    "collapsed": true
   },
   "outputs": [],
   "source": [
    "s1 = pd.Series(np.arange(1, 6, 1))\n",
    "s2 = pd.Series(np.arange(6, 11, 1))\n",
    "df = pd.DataFrame({'c1': s1, 'c2': s2})\n",
    "\n",
    "print(df)"
   ]
  },
  {
   "cell_type": "markdown",
   "metadata": {},
   "source": [
    "* **csv 데이터로 부터 dataframe 생성**\n",
    "  - 데이터 분석을 위해, dataframe을 생성하는 가장 일반적인 방법\n",
    "  - 데이터 소스로부터 추출된 csv(comma separated values) 파일로부터 생성"
   ]
  },
  {
   "cell_type": "markdown",
   "metadata": {},
   "source": [
    "* 각 제품별 가격에 관한 정보 데이터"
   ]
  },
  {
   "cell_type": "code",
   "execution_count": 2,
   "metadata": {},
   "outputs": [],
   "source": [
    "sample_file = 'data/sample.csv'"
   ]
  },
  {
   "cell_type": "code",
   "execution_count": 3,
   "metadata": {},
   "outputs": [
    {
     "data": {
      "text/html": [
       "<div>\n",
       "<style scoped>\n",
       "    .dataframe tbody tr th:only-of-type {\n",
       "        vertical-align: middle;\n",
       "    }\n",
       "\n",
       "    .dataframe tbody tr th {\n",
       "        vertical-align: top;\n",
       "    }\n",
       "\n",
       "    .dataframe thead th {\n",
       "        text-align: right;\n",
       "    }\n",
       "</style>\n",
       "<table border=\"1\" class=\"dataframe\">\n",
       "  <thead>\n",
       "    <tr style=\"text-align: right;\">\n",
       "      <th></th>\n",
       "      <th>Symbol</th>\n",
       "      <th>Name</th>\n",
       "      <th>Sector</th>\n",
       "      <th>Price</th>\n",
       "      <th>Dividend Yield</th>\n",
       "      <th>Price/Earnings</th>\n",
       "      <th>Earnings/Share</th>\n",
       "      <th>Book Value</th>\n",
       "      <th>52 week low</th>\n",
       "      <th>52 week high</th>\n",
       "      <th>Market Cap</th>\n",
       "      <th>EBITDA</th>\n",
       "      <th>Price/Sales</th>\n",
       "      <th>Price/Book</th>\n",
       "      <th>SEC Filings</th>\n",
       "    </tr>\n",
       "  </thead>\n",
       "  <tbody>\n",
       "    <tr>\n",
       "      <th>0</th>\n",
       "      <td>MMM</td>\n",
       "      <td>3M Company</td>\n",
       "      <td>Industrials</td>\n",
       "      <td>177.12</td>\n",
       "      <td>2.53</td>\n",
       "      <td>22.77</td>\n",
       "      <td>7.78</td>\n",
       "      <td>19.34</td>\n",
       "      <td>134.00</td>\n",
       "      <td>177.79</td>\n",
       "      <td>107.43</td>\n",
       "      <td>8.57</td>\n",
       "      <td>3.52</td>\n",
       "      <td>9.04</td>\n",
       "      <td>http://www.sec.gov/cgi-bin/browse-edgar?action...</td>\n",
       "    </tr>\n",
       "    <tr>\n",
       "      <th>1</th>\n",
       "      <td>ABT</td>\n",
       "      <td>Abbott Laboratories</td>\n",
       "      <td>Health Care</td>\n",
       "      <td>41.89</td>\n",
       "      <td>2.55</td>\n",
       "      <td>25.79</td>\n",
       "      <td>1.62</td>\n",
       "      <td>14.10</td>\n",
       "      <td>36.00</td>\n",
       "      <td>51.74</td>\n",
       "      <td>61.54</td>\n",
       "      <td>4.40</td>\n",
       "      <td>2.98</td>\n",
       "      <td>2.93</td>\n",
       "      <td>http://www.sec.gov/cgi-bin/browse-edgar?action...</td>\n",
       "    </tr>\n",
       "    <tr>\n",
       "      <th>2</th>\n",
       "      <td>ABBV</td>\n",
       "      <td>AbbVie</td>\n",
       "      <td>Health Care</td>\n",
       "      <td>64.16</td>\n",
       "      <td>3.60</td>\n",
       "      <td>19.29</td>\n",
       "      <td>3.33</td>\n",
       "      <td>2.87</td>\n",
       "      <td>45.45</td>\n",
       "      <td>71.60</td>\n",
       "      <td>103.77</td>\n",
       "      <td>10.30</td>\n",
       "      <td>4.31</td>\n",
       "      <td>22.09</td>\n",
       "      <td>http://www.sec.gov/cgi-bin/browse-edgar?action...</td>\n",
       "    </tr>\n",
       "    <tr>\n",
       "      <th>3</th>\n",
       "      <td>ACN</td>\n",
       "      <td>Accenture plc</td>\n",
       "      <td>Information Technology</td>\n",
       "      <td>115.11</td>\n",
       "      <td>1.94</td>\n",
       "      <td>19.45</td>\n",
       "      <td>5.92</td>\n",
       "      <td>11.45</td>\n",
       "      <td>88.43</td>\n",
       "      <td>120.78</td>\n",
       "      <td>71.66</td>\n",
       "      <td>5.42</td>\n",
       "      <td>2.17</td>\n",
       "      <td>9.84</td>\n",
       "      <td>http://www.sec.gov/cgi-bin/browse-edgar?action...</td>\n",
       "    </tr>\n",
       "    <tr>\n",
       "      <th>4</th>\n",
       "      <td>ATVI</td>\n",
       "      <td>Activision Blizzard</td>\n",
       "      <td>Information Technology</td>\n",
       "      <td>41.29</td>\n",
       "      <td>0.64</td>\n",
       "      <td>37.06</td>\n",
       "      <td>1.11</td>\n",
       "      <td>11.31</td>\n",
       "      <td>24.04</td>\n",
       "      <td>41.32</td>\n",
       "      <td>30.48</td>\n",
       "      <td>1.59</td>\n",
       "      <td>6.16</td>\n",
       "      <td>3.57</td>\n",
       "      <td>http://www.sec.gov/cgi-bin/browse-edgar?action...</td>\n",
       "    </tr>\n",
       "  </tbody>\n",
       "</table>\n",
       "</div>"
      ],
      "text/plain": [
       "  Symbol                 Name                  Sector   Price  Dividend Yield  \\\n",
       "0    MMM           3M Company             Industrials  177.12            2.53   \n",
       "1    ABT  Abbott Laboratories             Health Care   41.89            2.55   \n",
       "2   ABBV               AbbVie             Health Care   64.16            3.60   \n",
       "3    ACN        Accenture plc  Information Technology  115.11            1.94   \n",
       "4   ATVI  Activision Blizzard  Information Technology   41.29            0.64   \n",
       "\n",
       "   Price/Earnings  Earnings/Share  Book Value  52 week low  52 week high  \\\n",
       "0           22.77            7.78       19.34       134.00        177.79   \n",
       "1           25.79            1.62       14.10        36.00         51.74   \n",
       "2           19.29            3.33        2.87        45.45         71.60   \n",
       "3           19.45            5.92       11.45        88.43        120.78   \n",
       "4           37.06            1.11       11.31        24.04         41.32   \n",
       "\n",
       "   Market Cap  EBITDA  Price/Sales  Price/Book  \\\n",
       "0      107.43    8.57         3.52        9.04   \n",
       "1       61.54    4.40         2.98        2.93   \n",
       "2      103.77   10.30         4.31       22.09   \n",
       "3       71.66    5.42         2.17        9.84   \n",
       "4       30.48    1.59         6.16        3.57   \n",
       "\n",
       "                                         SEC Filings  \n",
       "0  http://www.sec.gov/cgi-bin/browse-edgar?action...  \n",
       "1  http://www.sec.gov/cgi-bin/browse-edgar?action...  \n",
       "2  http://www.sec.gov/cgi-bin/browse-edgar?action...  \n",
       "3  http://www.sec.gov/cgi-bin/browse-edgar?action...  \n",
       "4  http://www.sec.gov/cgi-bin/browse-edgar?action...  "
      ]
     },
     "execution_count": 3,
     "metadata": {},
     "output_type": "execute_result"
    }
   ],
   "source": [
    "sample_df = pd.read_csv(sample_file)\n",
    "sample_df.head()"
   ]
  },
  {
   "cell_type": "code",
   "execution_count": null,
   "metadata": {
    "collapsed": true
   },
   "outputs": [],
   "source": [
    "sample_df.info()"
   ]
  },
  {
   "cell_type": "code",
   "execution_count": null,
   "metadata": {
    "collapsed": true
   },
   "outputs": [],
   "source": [
    "sample_df = pd.read_csv(sample_file, usecols = [0, 1, 2, 3, 7])\n",
    "sample_df.head()"
   ]
  },
  {
   "cell_type": "code",
   "execution_count": null,
   "metadata": {
    "collapsed": true
   },
   "outputs": [],
   "source": [
    "sample_df = pd.read_csv(sample_file, index_col = 'Symbol', \n",
    "                        usecols = [0, 1, 2, 3, 7])\n",
    "sample_df.head()"
   ]
  },
  {
   "cell_type": "code",
   "execution_count": null,
   "metadata": {
    "collapsed": true
   },
   "outputs": [],
   "source": [
    "sample_df = pd.read_csv(sample_file, index_col = 'Symbol', \n",
    "                        usecols=['Name', 'Symbol', 'Price'])\n",
    "sample_df.head()"
   ]
  },
  {
   "cell_type": "markdown",
   "metadata": {},
   "source": [
    "* **dataframe slicing**\n",
    "  - dataframe의 경우 기본적으로 [] 연산자가 **column 선택**에 사용\n",
    "  - 따라서 [0], ['some val'] 과 같이 하면 column 레벨의 데이터 추출\n",
    "  - 하지만, 유일하게 slicing은 row 레벨로 지원"
   ]
  },
  {
   "cell_type": "code",
   "execution_count": null,
   "metadata": {
    "collapsed": true
   },
   "outputs": [],
   "source": [
    "apple_df = pd.read_csv('data/apple.csv')\n",
    "apple_df.head()"
   ]
  },
  {
   "cell_type": "code",
   "execution_count": null,
   "metadata": {
    "collapsed": true
   },
   "outputs": [],
   "source": [
    "# header = None으로 .csv 파일의 header가 없다는 것을 명시\n",
    "apple_df = pd.read_csv('data/apple.csv', header = None)\n",
    "apple_df.head()"
   ]
  },
  {
   "cell_type": "code",
   "execution_count": null,
   "metadata": {
    "collapsed": true
   },
   "outputs": [],
   "source": [
    "apple_df['Open']"
   ]
  },
  {
   "cell_type": "code",
   "execution_count": null,
   "metadata": {
    "collapsed": true
   },
   "outputs": [],
   "source": [
    "apple_df[:6]"
   ]
  },
  {
   "cell_type": "code",
   "execution_count": null,
   "metadata": {
    "collapsed": true
   },
   "outputs": [],
   "source": [
    "apple_df[3:7]"
   ]
  },
  {
   "cell_type": "markdown",
   "metadata": {},
   "source": [
    "* **연습문제** \n",
    " - 아래 코드의 결과는?"
   ]
  },
  {
   "cell_type": "code",
   "execution_count": null,
   "metadata": {
    "collapsed": true
   },
   "outputs": [],
   "source": [
    "apple_df[0]"
   ]
  },
  {
   "cell_type": "code",
   "execution_count": null,
   "metadata": {
    "collapsed": true
   },
   "outputs": [],
   "source": [
    "apple_df[[1, 2]]"
   ]
  },
  {
   "cell_type": "code",
   "execution_count": null,
   "metadata": {
    "collapsed": true
   },
   "outputs": [],
   "source": [
    "apple_df['Date'], apple_df['Open']"
   ]
  },
  {
   "cell_type": "markdown",
   "metadata": {},
   "source": [
    "* **column 선택하기**\n",
    "  - 기본적으로 **[ ]는 column을 추출 **\n",
    "  - 컬럼 이름일 경우 이름만 사용 가능\n",
    "  - 컬럼 인덱스일 경우 인덱스의 리스트 사용 가능"
   ]
  },
  {
   "cell_type": "code",
   "execution_count": null,
   "metadata": {
    "collapsed": true
   },
   "outputs": [],
   "source": [
    "# 숫자 인덱스로 컬럼 셀렉션 확인 할 것 \n",
    "apple_df[['Date', 'Close', 'Volume']] # 인덱스로도 가능"
   ]
  },
  {
   "cell_type": "code",
   "execution_count": null,
   "metadata": {
    "collapsed": true
   },
   "outputs": [],
   "source": [
    "print(type(apple_df[['Date']]))\n",
    "print(type(apple_df[['Date', 'Close']]))\n",
    "print(type(apple_df['Date']))"
   ]
  },
  {
   "cell_type": "markdown",
   "metadata": {},
   "source": [
    "* **row 선택하기**\n",
    "  - Seires의 경우 []로 row 선택이 가능하나, **DataFrame의 경우는 기본적으로 column을 선택하도록 설계**\n",
    "  - [:10]과 같이 slicing의 경우에는 row 선택 가능\n",
    "  - **.loc, .iloc함수**로 row 선택 가능"
   ]
  },
  {
   "cell_type": "code",
   "execution_count": null,
   "metadata": {
    "collapsed": true
   },
   "outputs": [],
   "source": [
    "sample_df = pd.read_csv('data/sample.csv', index_col='Symbol')\n",
    "sample_df.head()"
   ]
  },
  {
   "cell_type": "code",
   "execution_count": null,
   "metadata": {
    "collapsed": true
   },
   "outputs": [],
   "source": [
    "# slicing을 사용하면 row선택\n",
    "print(sample_df[1:10])"
   ]
  },
  {
   "cell_type": "code",
   "execution_count": null,
   "metadata": {
    "collapsed": true
   },
   "outputs": [],
   "source": [
    "print(sample_df.loc['ABT'])"
   ]
  },
  {
   "cell_type": "code",
   "execution_count": null,
   "metadata": {
    "collapsed": true
   },
   "outputs": [],
   "source": [
    "sample_df.iloc[0]"
   ]
  },
  {
   "cell_type": "code",
   "execution_count": null,
   "metadata": {
    "collapsed": true
   },
   "outputs": [],
   "source": [
    "sample_df.loc[['MMM', 'MSFT']][['Name', 'Price']]"
   ]
  },
  {
   "cell_type": "code",
   "execution_count": null,
   "metadata": {
    "collapsed": true
   },
   "outputs": [],
   "source": [
    "print(sample_df.iloc[[0, 1, 2]])\n",
    "print(type(sample_df.iloc[[0, 1, 2]]))\n",
    "\n",
    "print()\n",
    "\n",
    "print(sample_df.iloc[0]) \n",
    "print(type(sample_df.iloc[0]))"
   ]
  },
  {
   "cell_type": "markdown",
   "metadata": {},
   "source": [
    "* **boolean selection으로 row 선택하기**"
   ]
  },
  {
   "cell_type": "code",
   "execution_count": null,
   "metadata": {
    "collapsed": true
   },
   "outputs": [],
   "source": [
    "print(sample_df['Price'] > 100)"
   ]
  },
  {
   "cell_type": "code",
   "execution_count": null,
   "metadata": {
    "collapsed": true
   },
   "outputs": [],
   "source": [
    "sample_df[(sample_df['Price'] > 100) & (sample_df['EBITDA'] > 5)]"
   ]
  },
  {
   "cell_type": "code",
   "execution_count": null,
   "metadata": {
    "collapsed": true
   },
   "outputs": [],
   "source": [
    "# selection 결과에 다시 column선택하기\n",
    "sample_df[sample_df['Price'] > 100][['Name', 'Price']]"
   ]
  },
  {
   "cell_type": "markdown",
   "metadata": {},
   "source": [
    "* **새 column 추가하기**"
   ]
  },
  {
   "cell_type": "code",
   "execution_count": null,
   "metadata": {
    "collapsed": true
   },
   "outputs": [],
   "source": [
    "# 새로운 dataframe 생성\n",
    "copy = sample_df.copy()\n",
    "copy.head()"
   ]
  },
  {
   "cell_type": "code",
   "execution_count": null,
   "metadata": {
    "collapsed": true
   },
   "outputs": [],
   "source": [
    "# 새로 생성된 프레임에 새로운 컬럼 추가 (기존 컬럼 이용)\n",
    "copy['TwicePrice'] = copy['Price'] * 2\n",
    "copy.head()"
   ]
  },
  {
   "cell_type": "code",
   "execution_count": null,
   "metadata": {
    "collapsed": true
   },
   "outputs": [],
   "source": [
    "copy['ratio'] = copy['Price'] / copy['Book Value']\n",
    "copy.head()"
   ]
  },
  {
   "cell_type": "code",
   "execution_count": null,
   "metadata": {
    "collapsed": true
   },
   "outputs": [],
   "source": [
    "# insert 함수를 이용하여 원하는 컬럼 위치에 삽입 가능\n",
    "copy.insert(1, 'TriplePrice', sample_df['Price'] * 3)\n",
    "copy.head()"
   ]
  },
  {
   "cell_type": "markdown",
   "metadata": {
    "collapsed": true
   },
   "source": [
    " * **column 삭제하기**"
   ]
  },
  {
   "cell_type": "code",
   "execution_count": null,
   "metadata": {
    "collapsed": true
   },
   "outputs": [],
   "source": [
    "# del 키워드로 삭제\n",
    "del copy['TriplePrice']\n",
    "copy.head()"
   ]
  },
  {
   "cell_type": "markdown",
   "metadata": {},
   "source": [
    " * **row 추가/삭제하기**"
   ]
  },
  {
   "cell_type": "code",
   "execution_count": null,
   "metadata": {
    "collapsed": true
   },
   "outputs": [],
   "source": [
    "df1 = copy.iloc[0:3].copy()\n",
    "print(df1)\n",
    "\n",
    "# append 함수 사용\n",
    "copy = copy.append(df1)\n",
    "print(copy.tail())"
   ]
  },
  {
   "cell_type": "code",
   "execution_count": null,
   "metadata": {
    "collapsed": true
   },
   "outputs": [],
   "source": [
    "# drop 함수를 사용하여 해당 row 제거\n",
    "copy = copy.drop(['ABBV'])\n",
    "copy.tail()"
   ]
  },
  {
   "cell_type": "code",
   "execution_count": null,
   "metadata": {},
   "outputs": [],
   "source": [
    " "
   ]
  }
 ],
 "metadata": {
  "kernelspec": {
   "display_name": "Python 3",
   "language": "python",
   "name": "python3"
  },
  "language_info": {
   "codemirror_mode": {
    "name": "ipython",
    "version": 3
   },
   "file_extension": ".py",
   "mimetype": "text/x-python",
   "name": "python",
   "nbconvert_exporter": "python",
   "pygments_lexer": "ipython3",
   "version": "3.6.4"
  },
  "latex_envs": {
   "LaTeX_envs_menu_present": true,
   "autoclose": false,
   "autocomplete": true,
   "bibliofile": "biblio.bib",
   "cite_by": "apalike",
   "current_citInitial": 1,
   "eqLabelWithNumbers": true,
   "eqNumInitial": 1,
   "hotkeys": {
    "equation": "Ctrl-E",
    "itemize": "Ctrl-I"
   },
   "labels_anchors": false,
   "latex_user_defs": false,
   "report_style_numbering": false,
   "user_envs_cfg": false
  },
  "toc": {
   "base_numbering": 1,
   "nav_menu": {},
   "number_sections": true,
   "sideBar": true,
   "skip_h1_title": false,
   "title_cell": "Table of Contents",
   "title_sidebar": "Contents",
   "toc_cell": false,
   "toc_position": {},
   "toc_section_display": true,
   "toc_window_display": false
  }
 },
 "nbformat": 4,
 "nbformat_minor": 2
}
