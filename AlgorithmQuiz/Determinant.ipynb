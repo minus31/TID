{
 "cells": [
  {
   "cell_type": "code",
   "execution_count": null,
   "metadata": {},
   "outputs": [],
   "source": [
    "#\n",
    "# Determinant\n",
    "\n",
    "def determinant(A):\n",
    "    \n",
    "    # A = NxN의 정방행렬 ; \n",
    "    N = len(A)\n",
    "    A = np.array(A)\n",
    "    # determinant = det\n",
    "    \n",
    "#   j_0 = int(input(\"put the number of axis between 1 and N\"))\n",
    "    j_0 = 0\n",
    "    \n",
    "    if N == 1 :\n",
    "        det = A[0]\n",
    "        return det \n",
    "\n",
    "    det = []\n",
    "    for r in range(N):\n",
    "\n",
    "        Minor = A[[x for x in range(N) if x != r], [y for y in range(N) if y != j_0]]\n",
    "        det.append(((-1)**(r+j_0) * determinant(Minor)) * A[r][j_0])\n",
    "    \n",
    "    det = sum(det)\n",
    "        \n",
    "        \n",
    "    return det \n",
    "\n",
    "A = np.array([[1, 2], [3, 4]])\n",
    "determinant(A)"
   ]
  }
 ],
 "metadata": {
  "kernelspec": {
   "display_name": "Python 3",
   "language": "python",
   "name": "python3"
  },
  "language_info": {
   "codemirror_mode": {
    "name": "ipython",
    "version": 3
   },
   "file_extension": ".py",
   "mimetype": "text/x-python",
   "name": "python",
   "nbconvert_exporter": "python",
   "pygments_lexer": "ipython3",
   "version": "3.6.2"
  }
 },
 "nbformat": 4,
 "nbformat_minor": 2
}
