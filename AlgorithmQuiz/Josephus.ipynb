{
 "cells": [
  {
   "cell_type": "markdown",
   "metadata": {},
   "source": [
    "#### Josephus problem \n",
    "\n",
    "- 조세퍼스 문제는 다음과 같다.\n",
    "\n",
    "1번부터 N번까지 N명의 사람이 원을 이루면서 앉아있고, 양의 정수 M(≤ N)이 주어진다. 이제 순서대로 M번째 사람을 제거한다. 한 사람이 제거되면 남은 사람들로 이루어진 원을 따라 이 과정을 계속해 나간다. 이 과정은 N명의 사람이 모두 제거될 때까지 계속된다. 원에서 사람들이 제거되는 순서를 (N, M)-조세퍼스 순열이라고 한다. 예를 들어 (7, 3)-조세퍼스 순열은 <3, 6, 2, 7, 5, 1, 4>이다.\n",
    "\n",
    "N과 M이 주어지면 (N,M)-조세퍼스 순열을 구하는 프로그램을 작성하시오.\n",
    "\n",
    "입력\n",
    "첫째 줄에 N과 M이 빈 칸을 사이에 두고 순서대로 주어진다. (1 ≤ M ≤ N ≤ 5,000)\n",
    "\n",
    "출력\n",
    "\n",
    "예제와 같이 조세퍼스 순열을 출력한다."
   ]
  },
  {
   "cell_type": "code",
   "execution_count": 32,
   "metadata": {},
   "outputs": [
    {
     "name": "stdout",
     "output_type": "stream",
     "text": [
      "<3, 6, 2, 7, 5, 1, 4>\n"
     ]
    }
   ],
   "source": [
    "def josephus(N, M):\n",
    "    \"\"\"\n",
    "    N : The number of people \n",
    "    M : The Stride \n",
    "    \n",
    "    return : \n",
    "        Josephus permutation in list \n",
    "    \"\"\"\n",
    "    result = []\n",
    "    ls = list(range(1, N+1))\n",
    "    stride = M - 1\n",
    "    while True : \n",
    "        if len(ls) == 1:\n",
    "            result.append(ls[0])\n",
    "            break\n",
    "        ls = ls[stride:] + ls[:stride]\n",
    "        \n",
    "        turn = ls.pop(0)\n",
    "        result.append(turn)\n",
    "\n",
    "    return result \n",
    "    \n",
    "data = input(\"N M\")\n",
    "N = int(data[0])\n",
    "M = int(data[-1])\n",
    "\n",
    "print(\"<\" + (\", \").join([str(s) for s in josephus(N, M)]) + \">\")"
   ]
  }
 ],
 "metadata": {
  "kernelspec": {
   "display_name": "Python 3",
   "language": "python",
   "name": "python3"
  },
  "language_info": {
   "codemirror_mode": {
    "name": "ipython",
    "version": 3
   },
   "file_extension": ".py",
   "mimetype": "text/x-python",
   "name": "python",
   "nbconvert_exporter": "python",
   "pygments_lexer": "ipython3",
   "version": "3.6.5"
  }
 },
 "nbformat": 4,
 "nbformat_minor": 2
}
