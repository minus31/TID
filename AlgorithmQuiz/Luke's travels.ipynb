{
 "cells": [
  {
   "cell_type": "markdown",
   "metadata": {},
   "source": [
    "## Luke's travels\n",
    "\n",
    "인턴 사원(주명)은 여자친구가 없다. 이번 주말은 LOL의 점검일이라 할일이 없어진 그는, 게임을 하지 않는 특별한 주말을 보내게 되었다. 많은 고민을 거듭한 끝에, 23년만에 처음으로 나홀로 여행을 가기로 하였다.\n",
    "\n",
    "1번부터 N번까지 번호가 매겨져 있는 도시들이 있고, 도시들 사이에는 도로가 있다. 이제 인턴 사원(주명)이 어느 도시에서 출발해 N개의 도시를 모두 거쳐 다시 원래의 도시로 돌아오는 여행을 계획하려고 한다. 단, 한번 갔던 도시로는 다시 가지 않는다. (맨 마지막에 여행을 출발했던 도시로 돌아오는 것은 예외) 아직 가난한 인턴이기에 가장 적은 비용을 들이는 여행 계획을 세우고자 한다.\n",
    "\n",
    "각 도시간에 이동하는데 드는 비용은 행렬 M[i][j]형태로 주어진다. M[i][j]는 도시 i에서 도시 j로 가기 위한 비용을 나타낸다. 비용은 대칭적이지 않으며 항상 양의 정수이다. 즉, M[i][j] 는 M[j][i]와 다를 수 있다. 모든 도시간의 비용은 양의 정수이다. 이동할때에는 출발지와 목적지가 항상 달라야 한다. 경우에 따라서 도로가 없는 경우도 있으며 이럴 경우 편의상 비용을 0이라 한다.\n",
    "\n",
    "도시의 갯수(N)와 비용에 대한 행렬이 주어졌을 때, 가장 적은 비용을 들이는 인턴 사원(주명)의 여행 경로를 구하는 프로그램을 작성하시오.\n",
    "\n",
    "입력\n",
    "첫째 줄에 도시의 수 N이 주어진다. (2<=N<=16) 다음 N개의 줄에는 비용 행렬이 주어진다. 각 행렬의 성분은 1,000,000 이하의 양의 정수이며, 갈 수 없는 경우는 0이 주어진다. W[i][j]는 도시 i에서 j로 가기 위한 비용을 나타낸다.\n",
    "\n",
    "항상 여행이 가능한 경우만 입력으로 주어진다.\n",
    "\n",
    "출력\n",
    "첫째 줄에 여행에 필요한 최소 비용을 출력한다."
   ]
  },
  {
   "cell_type": "markdown",
   "metadata": {},
   "source": [
    "[예제 입력]\n",
    "\n",
    "4<br>\n",
    "0 10 15 20<br>\n",
    "5 0 9 10<br>\n",
    "6 13 0 12<br>\n",
    "8 8 9 0<br>\n",
    "\n",
    "[예제 출력]\n",
    "\n",
    "35"
   ]
  },
  {
   "cell_type": "markdown",
   "metadata": {},
   "source": [
    "#### Python Bit operation "
   ]
  },
  {
   "cell_type": "code",
   "execution_count": 115,
   "metadata": {},
   "outputs": [
    {
     "data": {
      "text/plain": [
       "32"
      ]
     },
     "execution_count": 115,
     "metadata": {},
     "output_type": "execute_result"
    }
   ],
   "source": [
    "1 << 5 # = 10000(2) = 2^5"
   ]
  },
  {
   "cell_type": "code",
   "execution_count": 117,
   "metadata": {},
   "outputs": [
    {
     "data": {
      "text/plain": [
       "33"
      ]
     },
     "execution_count": 117,
     "metadata": {},
     "output_type": "execute_result"
    }
   ],
   "source": [
    "1 | (1 << 5) # activate 5th value = 10001 = 2^5 + 1"
   ]
  },
  {
   "cell_type": "code",
   "execution_count": 120,
   "metadata": {},
   "outputs": [
    {
     "data": {
      "text/plain": [
       "32"
      ]
     },
     "execution_count": 120,
     "metadata": {},
     "output_type": "execute_result"
    }
   ],
   "source": [
    "34 & (1 << 5) # if 5th value is activated, return 1 << 5 else 0"
   ]
  },
  {
   "cell_type": "code",
   "execution_count": 121,
   "metadata": {},
   "outputs": [
    {
     "data": {
      "text/plain": [
       "0"
      ]
     },
     "execution_count": 121,
     "metadata": {},
     "output_type": "execute_result"
    }
   ],
   "source": [
    "34 & (1 << 4)"
   ]
  },
  {
   "cell_type": "code",
   "execution_count": 123,
   "metadata": {},
   "outputs": [
    {
     "data": {
      "text/plain": [
       "1"
      ]
     },
     "execution_count": 123,
     "metadata": {},
     "output_type": "execute_result"
    }
   ],
   "source": [
    "33 - (1 << 5) # deactivate 5th value, 10001 -> 00001"
   ]
  },
  {
   "cell_type": "code",
   "execution_count": 125,
   "metadata": {},
   "outputs": [
    {
     "data": {
      "text/plain": [
       "49"
      ]
     },
     "execution_count": 125,
     "metadata": {},
     "output_type": "execute_result"
    }
   ],
   "source": [
    "33 ^ (1 << 4) # turn on if the value in activatedm or turn off"
   ]
  },
  {
   "cell_type": "code",
   "execution_count": 126,
   "metadata": {},
   "outputs": [
    {
     "data": {
      "text/plain": [
       "1"
      ]
     },
     "execution_count": 126,
     "metadata": {},
     "output_type": "execute_result"
    }
   ],
   "source": [
    "33 ^ (1 << 5)"
   ]
  },
  {
   "cell_type": "code",
   "execution_count": 124,
   "metadata": {},
   "outputs": [
    {
     "name": "stdout",
     "output_type": "stream",
     "text": [
      "4\n",
      "0 10 15 20\n",
      "5 0 9 10\n",
      "6 13 0 12\n",
      "8 8 9 0\n",
      "35\n"
     ]
    }
   ],
   "source": [
    "# Input processing\n",
    "n = int(input().strip())\n",
    "M = [list(map(int, input().split())) for _ in range(n)]\n",
    "\n",
    "db = [[0 for _ in range(1 << n)] for __ in range(n)]\n",
    "\n",
    "def TSP(cur, v):\n",
    "    \n",
    "    ret = db[cur][v]\n",
    "    \n",
    "    if ret != 0:\n",
    "        return ret\n",
    "    \n",
    "    if v == (1 << n) - 1:\n",
    "        \n",
    "        return M[cur][0]\n",
    "    \n",
    "    ret = 1000001\n",
    "    \n",
    "    for i in range(n):\n",
    "        \n",
    "        if (v & (1 << i)) or M[cur][i] == 0:\n",
    "            continue\n",
    "            \n",
    "        result = TSP(i ,(v | 1 << i)) + M[cur][i]\n",
    "\n",
    "        if result < ret :\n",
    "            ret = result\n",
    "        \n",
    "    db[cur][v] = ret\n",
    "    \n",
    "    return ret\n",
    "\n",
    "print(TSP(0, 1))"
   ]
  }
 ],
 "metadata": {
  "kernelspec": {
   "display_name": "Python 3",
   "language": "python",
   "name": "python3"
  },
  "language_info": {
   "codemirror_mode": {
    "name": "ipython",
    "version": 3
   },
   "file_extension": ".py",
   "mimetype": "text/x-python",
   "name": "python",
   "nbconvert_exporter": "python",
   "pygments_lexer": "ipython3",
   "version": "3.6.8"
  }
 },
 "nbformat": 4,
 "nbformat_minor": 2
}
