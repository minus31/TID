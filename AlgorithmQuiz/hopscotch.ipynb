{
 "cells": [
  {
   "cell_type": "markdown",
   "metadata": {},
   "source": [
    "# 땅따먹기 놀이 \n",
    "\n",
    "영희는 땅따먹기 게임에 푹 빠졌습니다. 땅따먹기 게임의 땅은 총 N행 4열로 나누어져 있고, \n",
    "\n",
    "모든 칸에는 점수가 쓰여 있습니다. 땅을 밟으면서 한 행씩 내려올 때, \n",
    "\n",
    "영희는 각 행의 4칸 중 1칸만 밟으면서 내려올 수 있습니다. \n",
    "\n",
    "땅따먹기 게임에는 같은 열을 연속해서 밟을 수가 없는 특수 규칙이 있습니다.\n",
    "\n",
    "즉, 1행에서 (5)를 밟았다면, 2행의 (8)은 밟을 수가 없게 됩니다. \n",
    "\n",
    "마지막 행까지 모두 내려왔을 때, 점수가 가장 높은 사람이 게임의 승자가 됩니다. \n",
    "\n",
    "여러분이 hopscotch 함수를 제작하여 영희가 최대 몇 점을 얻을 수 있는지 알려주세요. 예를 들어\n",
    "1 2 3 5\n",
    "5 6 7 8\n",
    "4 3 2 1\n",
    "의 땅이 있다면, 영희는 각 줄에서 (5), (7), (4) 땅을 밟아 16점을 최고점으로 받을 수 있으며, hopscotch 함수에서는 16을 반환해주면 됩니다.\n"
   ]
  },
  {
   "cell_type": "code",
   "execution_count": 22,
   "metadata": {},
   "outputs": [
    {
     "name": "stdout",
     "output_type": "stream",
     "text": [
      "16\n"
     ]
    }
   ],
   "source": [
    "def hopscotch(board, size):\n",
    "    result = 0\n",
    "    # 땅따먹기 게임으로 얻을 수 있는 최대 점수는?\n",
    "    for i in range(size):\n",
    "        sorted_board_row = sorted(board[i], reverse=True)\n",
    "        \n",
    "        if i == 0 :\n",
    "           \n",
    "            lar = sorted_board_row[0]\n",
    "            result += lar\n",
    "        \n",
    "        elif board[i-1].index(lar) == board[i].index(sorted_board_row[0]):\n",
    "    \n",
    "            lar = sorted_board_row[1]\n",
    "            result += lar\n",
    "            \n",
    "        else:\n",
    "            \n",
    "            lar = max(board[i])\n",
    "            result += lar\n",
    "        \n",
    "    return result\n",
    "\n",
    "\n",
    "#아래는 테스트로 출력해 보기 위한 코드입니다.\n",
    "board =  [[ 1, 2, 3, 5 ], [ 5, 6, 7, 8 ], [4, 3, 2, 1]]\n",
    "print(hopscotch(board, 3))"
   ]
  },
  {
   "cell_type": "code",
   "execution_count": null,
   "metadata": {},
   "outputs": [],
   "source": []
  },
  {
   "cell_type": "code",
   "execution_count": 3,
   "metadata": {},
   "outputs": [
    {
     "data": {
      "text/plain": [
       "3"
      ]
     },
     "execution_count": 3,
     "metadata": {},
     "output_type": "execute_result"
    }
   ],
   "source": [
    "board[0].index(5)"
   ]
  },
  {
   "cell_type": "code",
   "execution_count": null,
   "metadata": {},
   "outputs": [],
   "source": []
  },
  {
   "cell_type": "code",
   "execution_count": null,
   "metadata": {},
   "outputs": [],
   "source": []
  },
  {
   "cell_type": "code",
   "execution_count": null,
   "metadata": {},
   "outputs": [],
   "source": []
  },
  {
   "cell_type": "code",
   "execution_count": null,
   "metadata": {},
   "outputs": [],
   "source": []
  }
 ],
 "metadata": {
  "kernelspec": {
   "display_name": "Python 3",
   "language": "python",
   "name": "python3"
  },
  "language_info": {
   "codemirror_mode": {
    "name": "ipython",
    "version": 3
   },
   "file_extension": ".py",
   "mimetype": "text/x-python",
   "name": "python",
   "nbconvert_exporter": "python",
   "pygments_lexer": "ipython3",
   "version": "3.6.2"
  }
 },
 "nbformat": 4,
 "nbformat_minor": 2
}
