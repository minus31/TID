{
 "cells": [
  {
   "cell_type": "markdown",
   "metadata": {},
   "source": [
    "## 줌마의 초콜릿 / Chocolates\n",
    "\n",
    "선행기술개발실은 현재 10명이다. 카자흐스탄에서 온 줌마는 이름 외우기가 귀찮아 각 사원들에게 1번부터 10번까지의 번호를 부여하고 준비해온 초콜릿뇌물을 선물하려고 한다. 숫자를 좋아하는 줌마는 각 초콜릿마다 고유번호를 매겨두었다.\n",
    "\n",
    "1번 초콜릿은 1번 사원이, 2번 초콜릿은 2번 사원이, 3번 초콜릿은 3번 사원이, ... ,\n",
    "\n",
    "10번 초콜릿은 10번 사원이, 11번 초콜릿은 1번 사원이, 12번 초콜릿은 2번 사원이, ...\n",
    "\n",
    "총 초콜릿의 개수는 항상 a^b개의 형태로 주어진다. 줌마는 문득 마지막 초콜릿을 먹게될 사원의 번호가 궁금해졌다. 이를 수행해주는 프로그램을 작성하라.\n",
    "\n",
    "입력\n",
    "입력의 첫 줄에는 테스트 케이스의 개수 T가 주어진다. 그 다음 줄부터 각각의 테스트 케이스에 대해 정수 a와 b가 주어진다. (1 ≤ a < 100, 1 ≤ b < 1,000,000)\n",
    "\n",
    "출력\n",
    "각 테스트 케이스에 대해 마지막 초콜릿을 먹게되는 사원의 번호를 출력한다."
   ]
  },
  {
   "cell_type": "markdown",
   "metadata": {},
   "source": [
    "[예제 입력]\n",
    "\n",
    "5 <br>\n",
    "1 6<br>\n",
    "3 7<br>\n",
    "6 2<br>\n",
    "7 100<br>\n",
    "9 635<br>\n",
    "\n",
    "[예제 출력]\n",
    "\n",
    "1<br>\n",
    "7<br>\n",
    "6<br>\n",
    "1<br>\n",
    "9<br>"
   ]
  },
  {
   "cell_type": "markdown",
   "metadata": {},
   "source": [
    "* Notes\n",
    " - at first, i didn't read the quiz carefully, then I missed that 0 should be 10\n",
    " - power operation is expansive, thus I needed to find a simplified rule. "
   ]
  },
  {
   "cell_type": "code",
   "execution_count": 35,
   "metadata": {},
   "outputs": [
    {
     "name": "stdout",
     "output_type": "stream",
     "text": [
      "2\n",
      "9 1\n",
      "12 1000\n",
      "9\n",
      "6\n"
     ]
    }
   ],
   "source": [
    "num_of_test = int(input().strip())\n",
    "test_list = [input() for _ in range(num_of_test)]\n",
    "\n",
    "for test in test_list:\n",
    "    a, b = tuple(map(int, test.split()))\n",
    "    res = a**(b % 4 + 4) % 10\n",
    "    if not res:\n",
    "        print(10, end=\"\\n\")\n",
    "    else:\n",
    "        print(res, end=\"\\n\")"
   ]
  }
 ],
 "metadata": {
  "kernelspec": {
   "display_name": "Python 3",
   "language": "python",
   "name": "python3"
  },
  "language_info": {
   "codemirror_mode": {
    "name": "ipython",
    "version": 3
   },
   "file_extension": ".py",
   "mimetype": "text/x-python",
   "name": "python",
   "nbconvert_exporter": "python",
   "pygments_lexer": "ipython3",
   "version": "3.6.8"
  }
 },
 "nbformat": 4,
 "nbformat_minor": 2
}
