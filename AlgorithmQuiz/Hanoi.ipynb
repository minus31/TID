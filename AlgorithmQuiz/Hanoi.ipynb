{
 "cells": [
  {
   "cell_type": "markdown",
   "metadata": {},
   "source": [
    "### 하노이의 탑 Level 5\n",
    "하노이의 탑은 대표적인 퍼즐의 일종입니다. 세 개의 기둥이 있고 맨 왼쪽의 기둥에는 원판의 크기 순서대로 N개가 쌓여 있습니다.\n",
    "\n",
    "\n",
    "![](http://mathworld.wolfram.com/images/eps-gif/TowersOfHanoi_1000.gif)\n",
    "\n",
    "이렇게 쌓여 있는 원판을 가장 오른쪽 기둥으로 모두 옮겨야 합니다.\n",
    "단, 한 번에 원판을 하나씩 이동시킬 수 있고, 큰 원판을 작은 원판 위에 쌓을 수 없습니다.\n",
    "\n",
    "N개의 원판은 총 $2^N$ -1 번의 과정을 거쳐 이동할 수 있습니다. 하지만 어떠한 과정으로 원판을 옮겨야  $2^N$ -1 번만에 옮길 수 있는지는 아직 모릅니다. 원판이 N개 있을 때, Hanoi 함수에서 어떠한 과정으로 $2^N$ -1 번만에 옮길 수 있는지 과정을 리턴하세요.\n",
    "\n",
    "리턴값의 표기 방법은 다음과 같습니다.\n",
    "\n",
    "3개의 기둥은 순서대로 각각 1, 2, 3번으로 표기합니다.\n",
    "원판을 기둥1에서 기둥3으로 이동했다면 [1, 3]으로 표기합니다.\n",
    "원판을 기둥3에서 기둥1로 이동했다면 [3, 1]로 표기합니다.\n",
    "이러한 이동 순서를 담는 배열을 리턴하면 됩니다. 예를들어 N이 2라면 아래 그림과 같이 옮길 수 있으므로\n",
    "\n",
    "<img src=\"http://mathforum.org/dr.math/faq/faq.disk2.gif\" alt=\"hanoi\">\n",
    "\n",
    "리턴값은 [ [1,2], [1,3], [2,3] ]입니다.\n"
   ]
  },
  {
   "cell_type": "code",
   "execution_count": null,
   "metadata": {},
   "outputs": [],
   "source": [
    "omega - {12 13 23 21 31 32 }\n",
    "\n",
    "1 - 13\n",
    "2 - 12 13 23 \n",
    "3 - 13 12 32 13 21 23 13 \n",
    "4 - 12 13 23 12 31 32 12 13 23 21 31 23 12 13 23\n",
    "5 - 13 12 32 13 21 23 13 \n",
    "\n",
    "\n",
    " N - 1 개의 원반을 -> 2 + 1 3 + N - 1 개의 원반을 -> 3\n",
    "\n"
   ]
  },
  {
   "cell_type": "code",
   "execution_count": 4,
   "metadata": {},
   "outputs": [
    {
     "name": "stdout",
     "output_type": "stream",
     "text": [
      "[[[1, 2], [1, 3], [2, 3]]]\n"
     ]
    }
   ],
   "source": [
    "def hanoi(n):\n",
    "    answer = []\n",
    "    \n",
    "    if n == 1 :\n",
    "        answer.append([1, 3])\n",
    "    if n == 2 : \n",
    "        answer.append([[1, 2], [1, 3], [2, 3]])\n",
    "    \n",
    "    return answer  # 2차원 배열을 반환해 주어야 합니다.\n",
    "\n",
    "\n",
    "# 아래는 테스트로 출력해 보기 위한 코드입니다.\n",
    "\n",
    "print(hanoi(2))\n"
   ]
  }
 ],
 "metadata": {
  "kernelspec": {
   "display_name": "Python 3",
   "language": "python",
   "name": "python3"
  },
  "language_info": {
   "codemirror_mode": {
    "name": "ipython",
    "version": 3
   },
   "file_extension": ".py",
   "mimetype": "text/x-python",
   "name": "python",
   "nbconvert_exporter": "python",
   "pygments_lexer": "ipython3",
   "version": "3.6.2"
  }
 },
 "nbformat": 4,
 "nbformat_minor": 2
}
