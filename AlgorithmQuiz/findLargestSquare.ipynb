{
 "cells": [
  {
   "cell_type": "markdown",
   "metadata": {},
   "source": [
    "## 가장 큰 정사각형 찾기 - 6시간... \n",
    "> Numpy indexing에 익숙해져 있어서, 시행착오가 많았다. 넘파이의 소중함을 다시금 느꼈다. \n",
    "\n",
    "O와 X로 채워진 표가 있습니다. 표 1칸은 1 x 1 의 정사각형으로 이루어져 있습니다. 표에서 O로 이루어진 가장 큰 정사각형을 찾아 넓이를 반환하는 findLargestSquare 함수를 완성하세요. 예를 들어\n",
    "\n",
    "1\t2\t3\t4\t5 \n",
    "\n",
    "X\tO\tO\tO\tX  \n",
    "\n",
    "X\tO\tO\tO\tO \n",
    "\n",
    "X\tX\tO\tO\tO\n",
    "\n",
    "X\tX\tO\tO\tO\n",
    "\n",
    "X\tX\tX\tX\tX\n",
    "\n",
    "가 있다면 정답은 9를 반환해 주면 됩니다."
   ]
  },
  {
   "cell_type": "code",
   "execution_count": 59,
   "metadata": {},
   "outputs": [
    {
     "name": "stdout",
     "output_type": "stream",
     "text": [
      "9\n"
     ]
    }
   ],
   "source": [
    "def findLargestSquare(board):\n",
    "    height = len(board)\n",
    "    width = len(board[0])\n",
    "    temp = 0\n",
    "    answer = 0\n",
    "    for i in range(height):\n",
    "        for j in range(width):\n",
    "            if board[i][j] == 'O':\n",
    "\n",
    "                for f in range(1, height + 1):\n",
    "                    if i + f >= height or j + f >= width:\n",
    "                        continue\n",
    "                    if 'X' not in board[i][j:(j+f)+1]  and 'X' not in board[i+f][j:(j+f)+1]:\n",
    "\n",
    "                        if (f + 1)**2 > answer:\n",
    "                            answer = (f + 1)**2\n",
    "                        continue\n",
    "                    else : \n",
    "                        break \n",
    "                \n",
    "    return answer    \n",
    "testBoard = [['X','O','O','O','X'],['X','O','O','O','O'],['X','X','O','O','O'],['X','X','O','O','O'],['X','X','X','X','X']]\n",
    "print(findLargestSquare(testBoard))"
   ]
  }
 ],
 "metadata": {
  "kernelspec": {
   "display_name": "Python 3",
   "language": "python",
   "name": "python3"
  },
  "language_info": {
   "codemirror_mode": {
    "name": "ipython",
    "version": 3
   },
   "file_extension": ".py",
   "mimetype": "text/x-python",
   "name": "python",
   "nbconvert_exporter": "python",
   "pygments_lexer": "ipython3",
   "version": "3.6.2"
  }
 },
 "nbformat": 4,
 "nbformat_minor": 2
}
