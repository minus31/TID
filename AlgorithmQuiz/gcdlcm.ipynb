{
 "cells": [
  {
   "cell_type": "code",
   "execution_count": 1,
   "metadata": {},
   "outputs": [
    {
     "data": {
      "text/plain": [
       "[1, 1222]"
      ]
     },
     "execution_count": 1,
     "metadata": {},
     "output_type": "execute_result"
    }
   ],
   "source": [
    "def gcdlcm(a, b):\n",
    "    answer = []\n",
    "    if a == b:\n",
    "        answer = [a, a]\n",
    "        return answer \n",
    "    elif a > b:\n",
    "        g, l = a, b\n",
    "    else :\n",
    "        g, l = b, a        \n",
    "    # gcd\n",
    "\n",
    "    while g % l != 0 :\n",
    "        g, l = l, g % l\n",
    "    answer.append(l)\n",
    "    # lcm\n",
    "    answer.append(int((a * b) / l))\n",
    "    return answer\n",
    "\n",
    "gcdlcm(47, 26)"
   ]
  }
 ],
 "metadata": {
  "kernelspec": {
   "display_name": "Python 3",
   "language": "python",
   "name": "python3"
  },
  "language_info": {
   "codemirror_mode": {
    "name": "ipython",
    "version": 3
   },
   "file_extension": ".py",
   "mimetype": "text/x-python",
   "name": "python",
   "nbconvert_exporter": "python",
   "pygments_lexer": "ipython3",
   "version": "3.6.2"
  }
 },
 "nbformat": 4,
 "nbformat_minor": 2
}
