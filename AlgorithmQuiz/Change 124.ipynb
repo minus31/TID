{
 "cells": [
  {
   "cell_type": "markdown",
   "metadata": {},
   "source": [
    "# Change 124\n",
    "\n",
    "1,2,4 세 개의 숫자만 쓰는 124나라가 있습니다.\n",
    "\n",
    "124나라에서 사용하는 숫자는 다음과 같이 변환됩니다.\n",
    "\n",
    "- 10진법의 1 → 1\n",
    "- 10진법의 2 → 2\n",
    "- 10진법의 3 → 4\n",
    "- 10진법의 4 → 11\n",
    "- 10진법의 5 → 12\n",
    "- 10진법의 6 → 14\n",
    "- 10진법의 7 → 21\n",
    "- 10진법의 8 → 22\n",
    "- 10진법의 9 → 24\n",
    "- 10진법의 10 → 41\n",
    "- 10진법의 11 → 42\n",
    "- 10진법의 12 → 44\n",
    "- 10진법의 13 → 111\n",
    "- 10진법의 14 → 112\n",
    "- 10진법의 15 → 114\n",
    "- 10진법의 16 → 121 \n",
    "              \n",
    "- 10진법의 수 N이 입력될 때, 124나라에서 쓰는 숫자로 변환하여 반환해주는 change124 함수를 완성해 보세요. 예를 들어 N = 10이면 “41”를 반환해주면 됩니다.\n",
    "\n",
    "> 리턴 타입은 문자열입니다."
   ]
  },
  {
   "cell_type": "code",
   "execution_count": 45,
   "metadata": {},
   "outputs": [
    {
     "name": "stdout",
     "output_type": "stream",
     "text": [
      "CPU times: user 2 µs, sys: 1 µs, total: 3 µs\n",
      "Wall time: 7.15 µs\n",
      "111\n"
     ]
    }
   ],
   "source": [
    "def change124(n):\n",
    "    \n",
    "    answer = \"\"\n",
    "    hashtable = {1:\"1\", 2:\"2\", 0:\"4\"}\n",
    "    z = 1\n",
    "    i = n - 3**z\n",
    "    while i > 0:\n",
    "        z += 1\n",
    "        i = i - 3**z\n",
    "        \n",
    "    numofnum = z \n",
    "    lasted = i + 3**z\n",
    "    \n",
    "    for k in range(numofnum, 0, -1):\n",
    "        if lasted <= 3**(k-1):\n",
    "            answer += \"1\"\n",
    "\n",
    "        elif lasted <= 3**(k-1) * 2:\n",
    "            answer += \"2\"\n",
    "            lasted = lasted - 3**(k-1)\n",
    "\n",
    "        else : \n",
    "            answer += \"4\"\n",
    "            lasted = lasted - 3**(k-1) * 2\n",
    "\n",
    "    return answer\n",
    "%time\n",
    "print(change124(13))"
   ]
  },
  {
   "cell_type": "code",
   "execution_count": 44,
   "metadata": {},
   "outputs": [
    {
     "name": "stdout",
     "output_type": "stream",
     "text": [
      "CPU times: user 2 µs, sys: 0 ns, total: 2 µs\n",
      "Wall time: 6.91 µs\n",
      "41\n"
     ]
    }
   ],
   "source": [
    "# 다른 멋있는 풀이 \n",
    "\n",
    "def change124(n):\n",
    "    num = ['1','2','4']\n",
    "    answer = \"\"\n",
    "\n",
    "\n",
    "    while n > 0:\n",
    "        n -= 1\n",
    "        answer = num[n % 3] + answer\n",
    "        n //= 3\n",
    "\n",
    "    return answer\n",
    "\n",
    "%time\n",
    "# 아래는 테스트로 출력해 보기 위한 코드입니다.\n",
    "print(change124(10))"
   ]
  }
 ],
 "metadata": {
  "kernelspec": {
   "display_name": "Python 3",
   "language": "python",
   "name": "python3"
  },
  "language_info": {
   "codemirror_mode": {
    "name": "ipython",
    "version": 3
   },
   "file_extension": ".py",
   "mimetype": "text/x-python",
   "name": "python",
   "nbconvert_exporter": "python",
   "pygments_lexer": "ipython3",
   "version": "3.6.2"
  }
 },
 "nbformat": 4,
 "nbformat_minor": 2
}
