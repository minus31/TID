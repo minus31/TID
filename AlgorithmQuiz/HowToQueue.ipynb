{
 "cells": [
  {
   "cell_type": "markdown",
   "metadata": {},
   "source": [
    "##### 문제 설명\n",
    "\n",
    "n명의 사람이 일렬로 줄을 서고 있습니다. n명의 사람들에게는 각각 1번부터 n번까지 번호가 매겨져 있습니다. n명이 사람을 줄을 서는 방법은 여러가지 방법이 있습니다. 예를 들어서 3명의 사람이 있다면 다음과 같이 6개의 방법이 있습니다.\n",
    "```\n",
    "[1, 2, 3]\n",
    "[1, 3, 2] \n",
    "[2, 1, 3] \n",
    "[2, 3, 1]\n",
    "[3, 1, 2]\n",
    "[3, 2, 1]\n",
    "```\n",
    "사람의 수 n과, 자연수 k가 주어질 때, 사람을 나열 하는 방법을 사전 순으로 나열 했을 때, k번째 방법을 return하는 solution 함수를 완성해주세요.\n",
    "\n",
    "제한사항\n",
    "n은 20이하의 자연수 입니다.\n",
    "k는 n! 이하의 자연수 입니다.\n"
   ]
  },
  {
   "cell_type": "code",
   "execution_count": 68,
   "metadata": {
    "ExecuteTime": {
     "end_time": "2018-08-05T18:23:44.973909Z",
     "start_time": "2018-08-05T18:23:44.944694Z"
    }
   },
   "outputs": [
    {
     "name": "stdout",
     "output_type": "stream",
     "text": [
      "[3, 1, 2]\n",
      "CPU times: user 67 µs, sys: 33 µs, total: 100 µs\n",
      "Wall time: 90.8 µs\n"
     ]
    }
   ],
   "source": [
    "%%time\n",
    "def solution(n, k):\n",
    "    answer = []\n",
    "    ## 1 ~ n 까지의 리스트 생성\n",
    "    ori_list = [i for i in range(1, n+1)]\n",
    "    for _ in ori_list:\n",
    "        \n",
    "        #줄에 서지 않은 사람들의 숫자를 리스트 업\n",
    "        temp_list = [item for item in ori_list if item not in answer]\n",
    "        \n",
    "        # 이때 numofcases는 남은 줄에 한 사람이 최대로 설 수 있는 경우의 수의 갯수이다. \n",
    "        numofcases = 1\n",
    "        for i in range(1, len(temp_list)):\n",
    "            numofcases *= i\n",
    "            \n",
    "        ## numofcases = reduce(lambda x, y : x*y, range(1, len(temp_list)))\n",
    "        \n",
    "        # temp_list의 마지막 숫자는 answer의 마지막 숫자\n",
    "        if len(temp_list) == 1:\n",
    "            answer.append(temp_list[0])\n",
    "            return answer\n",
    "        \n",
    "        for i in range(1, len(temp_list) + 1):\n",
    "            if k <= numofcases * i: \n",
    "            ## k가 경우의 수의 i 번째 배수 보다 작으면 다음 줄 서는 사람은temp_list의 i번째 숫자\n",
    "                answer.append(temp_list[i-1])\n",
    "                if k <= numofcases:\n",
    "                    break\n",
    "                #k가 경우에 수 보다 크다면 i-1째의 배수를 빼준다.\n",
    "                k -= numofcases * (i-1) \n",
    "                break\n",
    "print(solution(3, 5))"
   ]
  },
  {
   "cell_type": "markdown",
   "metadata": {},
   "source": [
    "#### 다른 사람의 풀이 "
   ]
  },
  {
   "cell_type": "code",
   "execution_count": 51,
   "metadata": {
    "ExecuteTime": {
     "end_time": "2018-08-05T18:23:37.965724Z",
     "start_time": "2018-08-05T18:23:37.954206Z"
    }
   },
   "outputs": [
    {
     "name": "stdout",
     "output_type": "stream",
     "text": [
      "[3, 1, 2]\n",
      "CPU times: user 254 µs, sys: 138 µs, total: 392 µs\n",
      "Wall time: 319 µs\n"
     ]
    }
   ],
   "source": [
    "%%time\n",
    "def setAlign(n, k):\n",
    "    from math import factorial\n",
    "    answer = []\n",
    "    order = list(range(1,n+1))\n",
    "    while n!=0 :\n",
    "        fact = factorial(n-1)\n",
    "        #answer.append(order.pop(k//fact-1 if k%fact ==0 else k//fact))\n",
    "        answer.append(order.pop((k-1)//fact))\n",
    "        n,k = n-1, k%fact\n",
    "    return answer\n",
    "\n",
    "# 아래는 테스트로 출력해 보기 위한 코드입니다.\n",
    "print(setAlign(3, 5))\n"
   ]
  }
 ],
 "metadata": {
  "kernelspec": {
   "display_name": "Python 3",
   "language": "python",
   "name": "python3"
  },
  "language_info": {
   "codemirror_mode": {
    "name": "ipython",
    "version": 3
   },
   "file_extension": ".py",
   "mimetype": "text/x-python",
   "name": "python",
   "nbconvert_exporter": "python",
   "pygments_lexer": "ipython3",
   "version": "3.6.4"
  },
  "latex_envs": {
   "LaTeX_envs_menu_present": true,
   "autoclose": false,
   "autocomplete": true,
   "bibliofile": "biblio.bib",
   "cite_by": "apalike",
   "current_citInitial": 1,
   "eqLabelWithNumbers": true,
   "eqNumInitial": 1,
   "hotkeys": {
    "equation": "Ctrl-E",
    "itemize": "Ctrl-I"
   },
   "labels_anchors": false,
   "latex_user_defs": false,
   "report_style_numbering": false,
   "user_envs_cfg": false
  },
  "toc": {
   "base_numbering": 1,
   "nav_menu": {},
   "number_sections": true,
   "sideBar": true,
   "skip_h1_title": false,
   "title_cell": "Table of Contents",
   "title_sidebar": "Contents",
   "toc_cell": false,
   "toc_position": {},
   "toc_section_display": true,
   "toc_window_display": false
  }
 },
 "nbformat": 4,
 "nbformat_minor": 2
}
