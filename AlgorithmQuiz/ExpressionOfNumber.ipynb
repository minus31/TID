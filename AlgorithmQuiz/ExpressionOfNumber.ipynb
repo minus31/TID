{
 "cells": [
  {
   "cell_type": "markdown",
   "metadata": {},
   "source": [
    "\n",
    "수학을 공부하던 민지는 재미있는 사실을 발견하였습니다. 그 사실은 바로 연속된 자연수의 합으로 어떤 숫자를 표현하는 방법이 여러 가지라는 것입니다. 예를 들어, 15를 표현하는 방법은\n",
    "(1+2+3+4+5)\n",
    "(4+5+6)\n",
    "(7+8)\n",
    "(15)\n",
    "로 총 4가지가 존재합니다. 숫자를 입력받아 연속된 수로 표현하는 방법을 반환하는 expressions 함수를 만들어 민지를 도와주세요. 예를 들어 15가 입력된다면 4를 반환해 주면 됩니다.\n",
    "\n",
    "**Level 4** from. (https://programmers.co.kr/learn/challenge_codes/41)"
   ]
  },
  {
   "cell_type": "code",
   "execution_count": 2,
   "metadata": {},
   "outputs": [
    {
     "name": "stdout",
     "output_type": "stream",
     "text": [
      "4\n"
     ]
    },
    {
     "data": {
      "text/plain": [
       "2"
      ]
     },
     "execution_count": 2,
     "metadata": {},
     "output_type": "execute_result"
    }
   ],
   "source": [
    "def expressions(num):\n",
    "    answer = 0\n",
    "    temp_ls = list(range(1, num+1))\n",
    "    \n",
    "    for i in temp_ls:\n",
    "        temp = 0\n",
    "        for j in temp_ls[i-1:]:\n",
    "            temp += j\n",
    "            if temp > num:\n",
    "                break\n",
    "            elif temp == num:\n",
    "                answer += 1 \n",
    "                break\n",
    "            else : \n",
    "                continue\n",
    "            \n",
    "    return answer\n",
    "\n",
    "\n",
    "# 아래는 테스트로 출력해 보기 위한 코드입니다.\n",
    "print(expressions(15));\n",
    "expressions(20)"
   ]
  }
 ],
 "metadata": {
  "kernelspec": {
   "display_name": "Python 3",
   "language": "python",
   "name": "python3"
  },
  "language_info": {
   "codemirror_mode": {
    "name": "ipython",
    "version": 3
   },
   "file_extension": ".py",
   "mimetype": "text/x-python",
   "name": "python",
   "nbconvert_exporter": "python",
   "pygments_lexer": "ipython3",
   "version": "3.6.1"
  }
 },
 "nbformat": 4,
 "nbformat_minor": 2
}
