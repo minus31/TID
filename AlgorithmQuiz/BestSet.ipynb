{
 "cells": [
  {
   "cell_type": "markdown",
   "metadata": {},
   "source": [
    "### The Best Set\n",
    "\n",
    "자연수 N개로 이루어진 집합 중에, 각 원소의 합이 S가 되는 수의 집합은 여러 가지가 존재합니다. \n",
    "최고의 집합은, 위의 조건을 만족하는 집합 중 각 원소의 곱이 최대가 되는 집합을 의미합니다. \n",
    "집합 원소의 개수 n과 원소들의 합 s가 주어지면, 최고의 집합을 찾아 원소를 오름차순으로 반환해주는 bestSet 함수를 만들어 보세요.\n",
    "만약 조건을 만족하는 집합이 없을 때는 배열 맨 앞에 –1을 담아 반환하면 됩니다. \n",
    "예를 들어 n=3, s=13이면 [4,4,5]가 반환됩니다.\n",
    "\n",
    "Level4 from https://programmers.co.kr/learn/challenge_codes/38"
   ]
  },
  {
   "cell_type": "code",
   "execution_count": 2,
   "metadata": {},
   "outputs": [
    {
     "name": "stdout",
     "output_type": "stream",
     "text": [
      "[4, 4, 5]\n"
     ]
    },
    {
     "data": {
      "text/plain": [
       "[28, 29, 29, 29]"
      ]
     },
     "execution_count": 2,
     "metadata": {},
     "output_type": "execute_result"
    }
   ],
   "source": [
    "def bestSet(n, s):\n",
    "    answer = []\n",
    "    if n > s:\n",
    "        answer.append(-1)\n",
    "        return answer\n",
    "    for i in range(n - 1):\n",
    "        temp = s - sum(answer)\n",
    "        answer.append(temp // (n - i))\n",
    "    temp = s - sum(answer)\n",
    "    answer.append(temp)\n",
    "    answer = sorted(answer)\n",
    "    return answer\n",
    "\n",
    "# 아래는 테스트로 출력해 보기 위한 코드입니다.\n",
    "print(bestSet(3,13))\n",
    "bestSet(4, 115)"
   ]
  }
 ],
 "metadata": {
  "kernelspec": {
   "display_name": "Python 3",
   "language": "python",
   "name": "python3"
  },
  "language_info": {
   "codemirror_mode": {
    "name": "ipython",
    "version": 3
   },
   "file_extension": ".py",
   "mimetype": "text/x-python",
   "name": "python",
   "nbconvert_exporter": "python",
   "pygments_lexer": "ipython3",
   "version": "3.6.2"
  }
 },
 "nbformat": 4,
 "nbformat_minor": 2
}
