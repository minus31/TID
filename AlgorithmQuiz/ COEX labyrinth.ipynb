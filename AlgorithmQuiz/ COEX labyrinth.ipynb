{
 "cells": [
  {
   "cell_type": "markdown",
   "metadata": {},
   "source": [
    "##  COEX labyrinth\n",
    "\n",
    "코엑스는 미궁이다. 길을 헤매기로 유명한 상필이는 가장 빠른 경로로 코엑스를 벗어나고자 한다.\n",
    "\n",
    "NxN으로 이루어진 코엑스 지도가 주어지고, 지도상에서 1이 이동가능한 칸, 0이 이동불가능한 칸을 뜻한다.\n",
    "\n",
    "(1,1)에서 시작하여 상하좌우로만 이동이 가능할때, 상필이는 최소 몇번의 이동만으로 (N,N)에 도착할 수 있을까?\n",
    "\n",
    "입력\n",
    "첫째 줄에 두 정수 N, M(2≤N≤100)이 주어진다. 다음 N개의 줄에는 N개의 정수로 이루어진 지도가 주어진다. 각각의 수들은 붙어서 입력으로 주어진다. (1,1)은 항상 1로 주어진다.\n",
    "\n",
    "출력\n",
    "첫째 줄에 최소의 이동횟수를 출력한다. (N,N)에 도착이 불가능한 경우는 주어지지 않는다.\n",
    "\n",
    "예시\n",
    "아래의 지도는 (1,1)에서 시작하여 최소 16번만에 (N,N)에 도착이 가능하다.\n",
    "\n",
    "시작점인 (1,1)은 이동횟수에 포함되지 않음을 주의하자."
   ]
  },
  {
   "cell_type": "markdown",
   "metadata": {},
   "source": [
    "[예제 입력]\n",
    "\n",
    "5<br>\n",
    "10111<br>\n",
    "10101<br>\n",
    "10101<br>\n",
    "10101<br>\n",
    "11101<br>\n",
    "\n",
    "[예제 출력]\n",
    "\n",
    "16"
   ]
  },
  {
   "cell_type": "markdown",
   "metadata": {},
   "source": [
    "각 i, j 쌍들을 다니면서 거기까지 도달하는 최소걸음으로 값을 바꾼다."
   ]
  },
  {
   "cell_type": "code",
   "execution_count": 1,
   "metadata": {},
   "outputs": [
    {
     "name": "stdout",
     "output_type": "stream",
     "text": [
      "5\n",
      "10111\n",
      "10101\n",
      "10101\n",
      "10101\n",
      "11101\n",
      "16\n"
     ]
    }
   ],
   "source": [
    "# Input processing\n",
    "n = int(input().strip())\n",
    "M = [[int(i) for i in input()] for _ in range(n)]\n",
    "\n",
    "# queue\n",
    "q = [\"0 0\"]\n",
    "\n",
    "while True:\n",
    "    ij = q.pop(0)\n",
    "    i, j = tuple(map(int, ij.split()))\n",
    "    \n",
    "    if i + 1 == n and j + 1 == n:\n",
    "        minimum_step = M[i][j] - 1\n",
    "        break\n",
    "\n",
    "    if i - 1 >= 0:\n",
    "        if M[i - 1][j] == 1:\n",
    "            q.append(\"{} {}\".format(i - 1, j))\n",
    "            M[i - 1][j] += M[i][j]\n",
    "\n",
    "    if i + 1 < n:\n",
    "        if M[i + 1][j] == 1:\n",
    "            q.append(\"{} {}\".format(i + 1, j))\n",
    "            M[i + 1][j] += M[i][j]\n",
    "\n",
    "    if j - 1 >= 0:\n",
    "        if M[i][j - 1] == 1:\n",
    "            q.append(\"{} {}\".format(i, j - 1))\n",
    "            M[i][j - 1] += M[i][j]\n",
    "            \n",
    "    if j + 1 < n:\n",
    "        if M[i][j + 1] == 1:\n",
    "            q.append(\"{} {}\".format(i, j + 1))\n",
    "            M[i][j + 1] += M[i][j]\n",
    "            \n",
    "print(minimum_step)"
   ]
  },
  {
   "cell_type": "code",
   "execution_count": null,
   "metadata": {},
   "outputs": [],
   "source": []
  }
 ],
 "metadata": {
  "kernelspec": {
   "display_name": "Python 3",
   "language": "python",
   "name": "python3"
  },
  "language_info": {
   "codemirror_mode": {
    "name": "ipython",
    "version": 3
   },
   "file_extension": ".py",
   "mimetype": "text/x-python",
   "name": "python",
   "nbconvert_exporter": "python",
   "pygments_lexer": "ipython3",
   "version": "3.6.8"
  }
 },
 "nbformat": 4,
 "nbformat_minor": 2
}
