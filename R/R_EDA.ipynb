{
 "cells": [
  {
   "cell_type": "markdown",
   "metadata": {},
   "source": [
    "# Data type에 따른 기본적인 분석 \n",
    "- learning by implementation \n",
    "- 데이터 준비"
   ]
  },
  {
   "cell_type": "code",
   "execution_count": 18,
   "metadata": {},
   "outputs": [
    {
     "name": "stderr",
     "output_type": "stream",
     "text": [
      "Updating HTML index of packages in '.Library'\n",
      "Making 'packages.html' ... done\n"
     ]
    }
   ],
   "source": [
    "install.packages('tidyverse')"
   ]
  },
  {
   "cell_type": "code",
   "execution_count": 1,
   "metadata": {},
   "outputs": [
    {
     "name": "stderr",
     "output_type": "stream",
     "text": [
      "\n",
      "Attaching package: ‘dplyr’\n",
      "\n",
      "The following objects are masked from ‘package:stats’:\n",
      "\n",
      "    filter, lag\n",
      "\n",
      "The following objects are masked from ‘package:base’:\n",
      "\n",
      "    intersect, setdiff, setequal, union\n",
      "\n",
      "── Attaching packages ─────────────────────────────────────── tidyverse 1.2.1 ──\n",
      "✔ ggplot2 2.2.1     ✔ readr   1.1.1\n",
      "✔ tibble  1.4.1     ✔ purrr   0.2.4\n",
      "✔ tidyr   0.7.2     ✔ stringr 1.2.0\n",
      "✔ ggplot2 2.2.1     ✔ forcats 0.2.0\n",
      "── Conflicts ────────────────────────────────────────── tidyverse_conflicts() ──\n",
      "✖ dplyr::filter() masks stats::filter()\n",
      "✖ dplyr::lag()    masks stats::lag()\n"
     ]
    }
   ],
   "source": [
    "library(dplyr)\n",
    "library(tidyverse)"
   ]
  },
  {
   "cell_type": "code",
   "execution_count": 6,
   "metadata": {},
   "outputs": [
    {
     "data": {
      "text/html": [
       "<table>\n",
       "<thead><tr><th scope=col>manufacturer</th><th scope=col>model</th><th scope=col>displ</th><th scope=col>year</th><th scope=col>cyl</th><th scope=col>trans</th><th scope=col>drv</th><th scope=col>cty</th><th scope=col>hwy</th><th scope=col>fl</th><th scope=col>class</th></tr></thead>\n",
       "<tbody>\n",
       "\t<tr><td>audi      </td><td>a4        </td><td>1.8       </td><td>1999      </td><td>4         </td><td>auto(l5)  </td><td>f         </td><td>18        </td><td>29        </td><td>p         </td><td>compact   </td></tr>\n",
       "\t<tr><td>audi      </td><td>a4        </td><td>1.8       </td><td>1999      </td><td>4         </td><td>manual(m5)</td><td>f         </td><td>21        </td><td>29        </td><td>p         </td><td>compact   </td></tr>\n",
       "\t<tr><td>audi      </td><td>a4        </td><td>2.0       </td><td>2008      </td><td>4         </td><td>manual(m6)</td><td>f         </td><td>20        </td><td>31        </td><td>p         </td><td>compact   </td></tr>\n",
       "\t<tr><td>audi      </td><td>a4        </td><td>2.0       </td><td>2008      </td><td>4         </td><td>auto(av)  </td><td>f         </td><td>21        </td><td>30        </td><td>p         </td><td>compact   </td></tr>\n",
       "\t<tr><td>audi      </td><td>a4        </td><td>2.8       </td><td>1999      </td><td>6         </td><td>auto(l5)  </td><td>f         </td><td>16        </td><td>26        </td><td>p         </td><td>compact   </td></tr>\n",
       "\t<tr><td>audi      </td><td>a4        </td><td>2.8       </td><td>1999      </td><td>6         </td><td>manual(m5)</td><td>f         </td><td>18        </td><td>26        </td><td>p         </td><td>compact   </td></tr>\n",
       "</tbody>\n",
       "</table>\n"
      ],
      "text/latex": [
       "\\begin{tabular}{r|lllllllllll}\n",
       " manufacturer & model & displ & year & cyl & trans & drv & cty & hwy & fl & class\\\\\n",
       "\\hline\n",
       "\t audi       & a4         & 1.8        & 1999       & 4          & auto(l5)   & f          & 18         & 29         & p          & compact   \\\\\n",
       "\t audi       & a4         & 1.8        & 1999       & 4          & manual(m5) & f          & 21         & 29         & p          & compact   \\\\\n",
       "\t audi       & a4         & 2.0        & 2008       & 4          & manual(m6) & f          & 20         & 31         & p          & compact   \\\\\n",
       "\t audi       & a4         & 2.0        & 2008       & 4          & auto(av)   & f          & 21         & 30         & p          & compact   \\\\\n",
       "\t audi       & a4         & 2.8        & 1999       & 6          & auto(l5)   & f          & 16         & 26         & p          & compact   \\\\\n",
       "\t audi       & a4         & 2.8        & 1999       & 6          & manual(m5) & f          & 18         & 26         & p          & compact   \\\\\n",
       "\\end{tabular}\n"
      ],
      "text/markdown": [
       "\n",
       "manufacturer | model | displ | year | cyl | trans | drv | cty | hwy | fl | class | \n",
       "|---|---|---|---|---|---|\n",
       "| audi       | a4         | 1.8        | 1999       | 4          | auto(l5)   | f          | 18         | 29         | p          | compact    | \n",
       "| audi       | a4         | 1.8        | 1999       | 4          | manual(m5) | f          | 21         | 29         | p          | compact    | \n",
       "| audi       | a4         | 2.0        | 2008       | 4          | manual(m6) | f          | 20         | 31         | p          | compact    | \n",
       "| audi       | a4         | 2.0        | 2008       | 4          | auto(av)   | f          | 21         | 30         | p          | compact    | \n",
       "| audi       | a4         | 2.8        | 1999       | 6          | auto(l5)   | f          | 16         | 26         | p          | compact    | \n",
       "| audi       | a4         | 2.8        | 1999       | 6          | manual(m5) | f          | 18         | 26         | p          | compact    | \n",
       "\n",
       "\n"
      ],
      "text/plain": [
       "  manufacturer model displ year cyl trans      drv cty hwy fl class  \n",
       "1 audi         a4    1.8   1999 4   auto(l5)   f   18  29  p  compact\n",
       "2 audi         a4    1.8   1999 4   manual(m5) f   21  29  p  compact\n",
       "3 audi         a4    2.0   2008 4   manual(m6) f   20  31  p  compact\n",
       "4 audi         a4    2.0   2008 4   auto(av)   f   21  30  p  compact\n",
       "5 audi         a4    2.8   1999 6   auto(l5)   f   16  26  p  compact\n",
       "6 audi         a4    2.8   1999 6   manual(m5) f   18  26  p  compact"
      ]
     },
     "metadata": {},
     "output_type": "display_data"
    }
   ],
   "source": [
    "# 모든 데이터는 데이터 프레임인 것을 가정 했고, dplyr패키지으 tbl_df()함수를 이용하여 \n",
    "# 보기 좋은 형태로 변환 할 것 \n",
    "mpg <- tbl_df(mpg)\n",
    "head(mpg)"
   ]
  },
  {
   "cell_type": "markdown",
   "metadata": {},
   "source": [
    "##### Data description \n",
    "    -manufacturer: Manufacturer/brand name\n",
    "    -model: Car model name\n",
    "    -displ: Engine displacement, in litres\n",
    "    -year: Year of manufacture\n",
    "    -cyl: Number of cylinders\n",
    "    -trans: Type of transmission\n",
    "    -drv: f = front-wheel drive, r = rear wheel drive, 4 = 4wd\n",
    "    -cty: City miles per gallon\n",
    "    -hwy: Highway miles per gallon\n",
    "    -fl: Fuel type. e = ethanol, d = diesel, r = regular, p =\n",
    "    -premium, c = natural gas\n",
    "    -class: The 'type' of car"
   ]
  },
  {
   "cell_type": "markdown",
   "metadata": {},
   "source": [
    "### 모든 데이터에 행해야 할 분석 \n",
    "1. 데이터 내용, 구조, 타입을 파악한다. dplyr::glimpse()함수가 유용하다. 이와 더불어, 데이터 구조를 파악 할 수 있는 str(), 데이터 앞부분을 보여주는 head() 등이 유용하다. \n",
    "2. 데이터의 summary()를 파악해본다. (Missing value또한 파악 할 수 있다.)\n",
    "3. 무작정 시각화를 해본다. plot(), pairs() 등, 데이터가 많을 때는 실행시간이 오래 걸리니, dplyr::sample_n() 함수 등을 사용해 표본화한다. 데이터의 변수가 10개 이상 많을 때는 10열 씩 구분하여 살펴보는 것도 유용하다. "
   ]
  },
  {
   "cell_type": "code",
   "execution_count": 7,
   "metadata": {},
   "outputs": [
    {
     "name": "stdout",
     "output_type": "stream",
     "text": [
      "Observations: 234\n",
      "Variables: 11\n",
      "$ manufacturer <chr> \"audi\", \"audi\", \"audi\", \"audi\", \"audi\", \"audi\", \"audi\"...\n",
      "$ model        <chr> \"a4\", \"a4\", \"a4\", \"a4\", \"a4\", \"a4\", \"a4\", \"a4 quattro\"...\n",
      "$ displ        <dbl> 1.8, 1.8, 2.0, 2.0, 2.8, 2.8, 3.1, 1.8, 1.8, 2.0, 2.0,...\n",
      "$ year         <int> 1999, 1999, 2008, 2008, 1999, 1999, 2008, 1999, 1999, ...\n",
      "$ cyl          <int> 4, 4, 4, 4, 6, 6, 6, 4, 4, 4, 4, 6, 6, 6, 6, 6, 6, 8, ...\n",
      "$ trans        <chr> \"auto(l5)\", \"manual(m5)\", \"manual(m6)\", \"auto(av)\", \"a...\n",
      "$ drv          <chr> \"f\", \"f\", \"f\", \"f\", \"f\", \"f\", \"f\", \"4\", \"4\", \"4\", \"4\",...\n",
      "$ cty          <int> 18, 21, 20, 21, 16, 18, 18, 18, 16, 20, 19, 15, 17, 17...\n",
      "$ hwy          <int> 29, 29, 31, 30, 26, 26, 27, 26, 25, 28, 27, 25, 25, 25...\n",
      "$ fl           <chr> \"p\", \"p\", \"p\", \"p\", \"p\", \"p\", \"p\", \"p\", \"p\", \"p\", \"p\",...\n",
      "$ class        <chr> \"compact\", \"compact\", \"compact\", \"compact\", \"compact\",...\n"
     ]
    }
   ],
   "source": [
    "glimpse(mpg)"
   ]
  },
  {
   "cell_type": "code",
   "execution_count": 12,
   "metadata": {},
   "outputs": [
    {
     "name": "stdout",
     "output_type": "stream",
     "text": [
      "Classes ‘tbl_df’, ‘tbl’ and 'data.frame':\t234 obs. of  11 variables:\n",
      " $ manufacturer: chr  \"audi\" \"audi\" \"audi\" \"audi\" ...\n",
      " $ model       : chr  \"a4\" \"a4\" \"a4\" \"a4\" ...\n",
      " $ displ       : num  1.8 1.8 2 2 2.8 2.8 3.1 1.8 1.8 2 ...\n",
      " $ year        : int  1999 1999 2008 2008 1999 1999 2008 1999 1999 2008 ...\n",
      " $ cyl         : int  4 4 4 4 6 6 6 4 4 4 ...\n",
      " $ trans       : chr  \"auto(l5)\" \"manual(m5)\" \"manual(m6)\" \"auto(av)\" ...\n",
      " $ drv         : chr  \"f\" \"f\" \"f\" \"f\" ...\n",
      " $ cty         : int  18 21 20 21 16 18 18 18 16 20 ...\n",
      " $ hwy         : int  29 29 31 30 26 26 27 26 25 28 ...\n",
      " $ fl          : chr  \"p\" \"p\" \"p\" \"p\" ...\n",
      " $ class       : chr  \"compact\" \"compact\" \"compact\" \"compact\" ...\n"
     ]
    }
   ],
   "source": [
    "str(mpg)"
   ]
  },
  {
   "cell_type": "code",
   "execution_count": 14,
   "metadata": {},
   "outputs": [
    {
     "data": {
      "text/plain": [
       " manufacturer          model               displ            year     \n",
       " Length:234         Length:234         Min.   :1.600   Min.   :1999  \n",
       " Class :character   Class :character   1st Qu.:2.400   1st Qu.:1999  \n",
       " Mode  :character   Mode  :character   Median :3.300   Median :2004  \n",
       "                                       Mean   :3.472   Mean   :2004  \n",
       "                                       3rd Qu.:4.600   3rd Qu.:2008  \n",
       "                                       Max.   :7.000   Max.   :2008  \n",
       "      cyl           trans               drv                 cty       \n",
       " Min.   :4.000   Length:234         Length:234         Min.   : 9.00  \n",
       " 1st Qu.:4.000   Class :character   Class :character   1st Qu.:14.00  \n",
       " Median :6.000   Mode  :character   Mode  :character   Median :17.00  \n",
       " Mean   :5.889                                         Mean   :16.86  \n",
       " 3rd Qu.:8.000                                         3rd Qu.:19.00  \n",
       " Max.   :8.000                                         Max.   :35.00  \n",
       "      hwy             fl               class          \n",
       " Min.   :12.00   Length:234         Length:234        \n",
       " 1st Qu.:18.00   Class :character   Class :character  \n",
       " Median :24.00   Mode  :character   Mode  :character  \n",
       " Mean   :23.44                                        \n",
       " 3rd Qu.:27.00                                        \n",
       " Max.   :44.00                                        "
      ]
     },
     "metadata": {},
     "output_type": "display_data"
    }
   ],
   "source": [
    "summary(mpg)"
   ]
  },
  {
   "cell_type": "markdown",
   "metadata": {},
   "source": [
    "### 수량형 변수의 분석 \n",
    "- `데이터 분포의 시각화` : histogram, boxplot, pdf/pmf 등의 시각화를 시도 해본다. \n",
    " > ggplot() + geom_{histogram, density}() 함수를 추천\n",
    "- 요약 통계량 계산 : summary, mean, median, var, sd, mad, quantile 사용 \n",
    "- 데이터 정규성 검정 : qqplot, qqline 함수로 분포가 정규분포와 얼마나 비슷한지 눈으로 볼 수 있다. \n",
    "- 이상점 찾아보기 : Robust 통계량 계산 "
   ]
  },
  {
   "cell_type": "code",
   "execution_count": 37,
   "metadata": {},
   "outputs": [
    {
     "data": {
      "text/plain": [
       "   Min. 1st Qu.  Median    Mean 3rd Qu.    Max. \n",
       "  12.00   18.00   24.00   23.44   27.00   44.00 "
      ]
     },
     "metadata": {},
     "output_type": "display_data"
    },
    {
     "name": "stdout",
     "output_type": "stream",
     "text": [
      "[1] \"mean\"\n"
     ]
    },
    {
     "data": {
      "text/html": [
       "23.4401709401709"
      ],
      "text/latex": [
       "23.4401709401709"
      ],
      "text/markdown": [
       "23.4401709401709"
      ],
      "text/plain": [
       "[1] 23.44017"
      ]
     },
     "metadata": {},
     "output_type": "display_data"
    },
    {
     "name": "stdout",
     "output_type": "stream",
     "text": [
      "[1] \"median\"\n"
     ]
    },
    {
     "data": {
      "text/html": [
       "24"
      ],
      "text/latex": [
       "24"
      ],
      "text/markdown": [
       "24"
      ],
      "text/plain": [
       "[1] 24"
      ]
     },
     "metadata": {},
     "output_type": "display_data"
    },
    {
     "name": "stdout",
     "output_type": "stream",
     "text": [
      "[1] \"range\"\n"
     ]
    },
    {
     "data": {
      "text/html": [
       "<ol class=list-inline>\n",
       "\t<li>12</li>\n",
       "\t<li>44</li>\n",
       "</ol>\n"
      ],
      "text/latex": [
       "\\begin{enumerate*}\n",
       "\\item 12\n",
       "\\item 44\n",
       "\\end{enumerate*}\n"
      ],
      "text/markdown": [
       "1. 12\n",
       "2. 44\n",
       "\n",
       "\n"
      ],
      "text/plain": [
       "[1] 12 44"
      ]
     },
     "metadata": {},
     "output_type": "display_data"
    },
    {
     "data": {
      "text/html": [
       "<dl class=dl-horizontal>\n",
       "\t<dt>0%</dt>\n",
       "\t\t<dd>12</dd>\n",
       "\t<dt>25%</dt>\n",
       "\t\t<dd>18</dd>\n",
       "\t<dt>50%</dt>\n",
       "\t\t<dd>24</dd>\n",
       "\t<dt>75%</dt>\n",
       "\t\t<dd>27</dd>\n",
       "\t<dt>100%</dt>\n",
       "\t\t<dd>44</dd>\n",
       "</dl>\n"
      ],
      "text/latex": [
       "\\begin{description*}\n",
       "\\item[0\\textbackslash{}\\%] 12\n",
       "\\item[25\\textbackslash{}\\%] 18\n",
       "\\item[50\\textbackslash{}\\%] 24\n",
       "\\item[75\\textbackslash{}\\%] 27\n",
       "\\item[100\\textbackslash{}\\%] 44\n",
       "\\end{description*}\n"
      ],
      "text/markdown": [
       "0%\n",
       ":   1225%\n",
       ":   1850%\n",
       ":   2475%\n",
       ":   27100%\n",
       ":   44\n",
       "\n"
      ],
      "text/plain": [
       "  0%  25%  50%  75% 100% \n",
       "  12   18   24   27   44 "
      ]
     },
     "metadata": {},
     "output_type": "display_data"
    }
   ],
   "source": [
    "#  통계량 계산\n",
    "summary(mpg$hwy)\n",
    "print('mean')\n",
    "mean(mpg$hwy)\n",
    "print('median')\n",
    "median(mpg$hwy)\n",
    "print('range')\n",
    "range(mpg$hwy)\n",
    "quantile(mpg$hwy)"
   ]
  },
  {
   "cell_type": "code",
   "execution_count": 30,
   "metadata": {},
   "outputs": [
    {
     "data": {
      "image/png": "[encoded data removed]",
      "text/plain": [
       "Plot with title “Normal Q-Q Plot”"
      ]
     },
     "metadata": {},
     "output_type": "display_data"
    }
   ],
   "source": [
    "# 시각화 \n",
    "opar <- par(mfrow=c(2,2))\n",
    "hist(mpg$hwy) # histogram\n",
    "boxplot(mpg$hwy) # boxplot\n",
    "qqnorm(mpg$hwy) # qqplot\n",
    "qqline(mpg$hwy) # 기준 선 \n",
    "par(opar)"
   ]
  },
  {
   "cell_type": "markdown",
   "metadata": {},
   "source": [
    "#### One sample t-test\n",
    "ex> \n",
    "$ H_0 : \\mu \\leq 22.9 , H_1 : \\mu \\gt 22.9$"
   ]
  },
  {
   "cell_type": "code",
   "execution_count": 38,
   "metadata": {},
   "outputs": [
    {
     "data": {
      "text/plain": [
       "\n",
       "\tOne Sample t-test\n",
       "\n",
       "data:  hwy\n",
       "t = 1.3877, df = 233, p-value = 0.08328\n",
       "alternative hypothesis: true mean is greater than 22.9\n",
       "95 percent confidence interval:\n",
       " 22.79733      Inf\n",
       "sample estimates:\n",
       "mean of x \n",
       " 23.44017 \n"
      ]
     },
     "metadata": {},
     "output_type": "display_data"
    }
   ],
   "source": [
    "# One side test\n",
    "hwy <- mpg$hwy\n",
    "n <- length(hwy)\n",
    "mu_0 <- 22.9\n",
    "t.test(hwy, mu = mu_0, alternative=\"greater\")"
   ]
  },
  {
   "cell_type": "code",
   "execution_count": 43,
   "metadata": {},
   "outputs": [
    {
     "data": {
      "text/plain": [
       "\n",
       "\tOne Sample t-test\n",
       "\n",
       "data:  hwy\n",
       "t = 1.3877, df = 233, p-value = 0.1666\n",
       "alternative hypothesis: true mean is not equal to 22.9\n",
       "95 percent confidence interval:\n",
       " 22.67324 24.20710\n",
       "sample estimates:\n",
       "mean of x \n",
       " 23.44017 \n"
      ]
     },
     "metadata": {},
     "output_type": "display_data"
    }
   ],
   "source": [
    "# Two side test\n",
    "t.test(hwy, mu=mu_0)"
   ]
  },
  {
   "cell_type": "markdown",
   "metadata": {},
   "source": [
    "#### Outliers와 Robust 통계 방법 \n",
    "- 이상치를 확인 하는 가장 기초적인 방법은 boxplot을 그려보는 것 이다. \n",
    "\n",
    "> Boxplot에서 outliers는 [Q1 - 1.5 * IQR, Q3 + 1.5 * IRQ] (1.5는 R에서 그려줄 때 계산하는 값, \n",
    "꼭 1.5일 필요는 없다. )\n",
    "\n",
    "- Robust 통계방법은 이상치의 영향을 적게 받는 절차라고 할 수 있다. 기본적으로 평균 대신, 중앙값, 표준편차 대신 MAD(Median Absolute Deviance)를 사용하면 된다. "
   ]
  },
  {
   "cell_type": "code",
   "execution_count": 51,
   "metadata": {},
   "outputs": [
    {
     "data": {
      "image/png": "[encoded data removed]",
      "text/plain": [
       "plot without title"
      ]
     },
     "metadata": {},
     "output_type": "display_data"
    }
   ],
   "source": [
    "boxplot(hwy)"
   ]
  },
  {
   "cell_type": "code",
   "execution_count": 53,
   "metadata": {},
   "outputs": [
    {
     "data": {
      "text/html": [
       "<ol class=list-inline>\n",
       "\t<li>23.4401709401709</li>\n",
       "\t<li>5.95464344116645</li>\n",
       "</ol>\n"
      ],
      "text/latex": [
       "\\begin{enumerate*}\n",
       "\\item 23.4401709401709\n",
       "\\item 5.95464344116645\n",
       "\\end{enumerate*}\n"
      ],
      "text/markdown": [
       "1. 23.4401709401709\n",
       "2. 5.95464344116645\n",
       "\n",
       "\n"
      ],
      "text/plain": [
       "[1] 23.440171  5.954643"
      ]
     },
     "metadata": {},
     "output_type": "display_data"
    },
    {
     "data": {
      "text/html": [
       "<ol class=list-inline>\n",
       "\t<li>24</li>\n",
       "\t<li>7.413</li>\n",
       "</ol>\n"
      ],
      "text/latex": [
       "\\begin{enumerate*}\n",
       "\\item 24\n",
       "\\item 7.413\n",
       "\\end{enumerate*}\n"
      ],
      "text/markdown": [
       "1. 24\n",
       "2. 7.413\n",
       "\n",
       "\n"
      ],
      "text/plain": [
       "[1] 24.000  7.413"
      ]
     },
     "metadata": {},
     "output_type": "display_data"
    }
   ],
   "source": [
    "# Robust 통계량 계산 \n",
    "c(mean(hwy), sd(hwy))\n",
    "c(median(hwy), mad(hwy))"
   ]
  },
  {
   "cell_type": "markdown",
   "metadata": {},
   "source": [
    "### Binary Categorical Data Analysis\n",
    "\n",
    "- summary 계산 : table(), xtab() 등이 있다.  prob.table()함수는 도수를 상대도수로 바꿔준다. table() 함수는 도수 분포를 계산해준다. 결과는 xtabs 클래스 속성도 가지게 된다. \n",
    "- 데이터 분포의 시각화를 위해서는 boxplot()이 유용핟. \n",
    "- 가설검정과  신뢰구간 : binnorm.test()함수를 이용하면 이항 검정과 신뢰구간을 구할 수 있다. "
   ]
  },
  {
   "cell_type": "code",
   "execution_count": 57,
   "metadata": {},
   "outputs": [
    {
     "data": {
      "text/html": [
       "<ol class=list-inline>\n",
       "\t<li>yes</li>\n",
       "\t<li>no</li>\n",
       "\t<li>no</li>\n",
       "\t<li>yes</li>\n",
       "\t<li>yes</li>\n",
       "\t<li>no</li>\n",
       "\t<li>no</li>\n",
       "\t<li>no</li>\n",
       "\t<li>yes</li>\n",
       "\t<li>no</li>\n",
       "\t<li>yes</li>\n",
       "\t<li>yes</li>\n",
       "\t<li>yes</li>\n",
       "\t<li>yes</li>\n",
       "\t<li>yes</li>\n",
       "\t<li>no</li>\n",
       "\t<li>no</li>\n",
       "\t<li>yes</li>\n",
       "\t<li>no</li>\n",
       "\t<li>no</li>\n",
       "\t<li>no</li>\n",
       "\t<li>yes</li>\n",
       "\t<li>yes</li>\n",
       "\t<li>no</li>\n",
       "\t<li>no</li>\n",
       "\t<li>yes</li>\n",
       "\t<li>no</li>\n",
       "\t<li>yes</li>\n",
       "\t<li>yes</li>\n",
       "\t<li>yes</li>\n",
       "\t<li>yes</li>\n",
       "\t<li>yes</li>\n",
       "\t<li>yes</li>\n",
       "\t<li>no</li>\n",
       "\t<li>no</li>\n",
       "\t<li>no</li>\n",
       "\t<li>yes</li>\n",
       "\t<li>no</li>\n",
       "\t<li>yes</li>\n",
       "\t<li>yes</li>\n",
       "\t<li>no</li>\n",
       "\t<li>no</li>\n",
       "\t<li>yes</li>\n",
       "\t<li>no</li>\n",
       "\t<li>no</li>\n",
       "\t<li>yes</li>\n",
       "\t<li>yes</li>\n",
       "\t<li>yes</li>\n",
       "\t<li>yes</li>\n",
       "\t<li>no</li>\n",
       "\t<li>yes</li>\n",
       "\t<li>no</li>\n",
       "\t<li>no</li>\n",
       "\t<li>no</li>\n",
       "\t<li>no</li>\n",
       "\t<li>no</li>\n",
       "\t<li>no</li>\n",
       "\t<li>yes</li>\n",
       "\t<li>no</li>\n",
       "\t<li>no</li>\n",
       "\t<li>yes</li>\n",
       "\t<li>no</li>\n",
       "\t<li>yes</li>\n",
       "\t<li>no</li>\n",
       "\t<li>yes</li>\n",
       "\t<li>no</li>\n",
       "\t<li>no</li>\n",
       "\t<li>no</li>\n",
       "\t<li>yes</li>\n",
       "\t<li>yes</li>\n",
       "\t<li>no</li>\n",
       "\t<li>yes</li>\n",
       "\t<li>yes</li>\n",
       "\t<li>no</li>\n",
       "\t<li>no</li>\n",
       "\t<li>yes</li>\n",
       "\t<li>no</li>\n",
       "\t<li>yes</li>\n",
       "\t<li>yes</li>\n",
       "\t<li>no</li>\n",
       "\t<li>no</li>\n",
       "\t<li>no</li>\n",
       "\t<li>no</li>\n",
       "\t<li>no</li>\n",
       "\t<li>no</li>\n",
       "\t<li>no</li>\n",
       "\t<li>no</li>\n",
       "\t<li>no</li>\n",
       "\t<li>yes</li>\n",
       "\t<li>yes</li>\n",
       "\t<li>yes</li>\n",
       "\t<li>no</li>\n",
       "\t<li>no</li>\n",
       "\t<li>yes</li>\n",
       "\t<li>no</li>\n",
       "\t<li>yes</li>\n",
       "\t<li>no</li>\n",
       "\t<li>no</li>\n",
       "\t<li>yes</li>\n",
       "\t<li>yes</li>\n",
       "</ol>\n",
       "\n",
       "<details>\n",
       "\t<summary style=display:list-item;cursor:pointer>\n",
       "\t\t<strong>Levels</strong>:\n",
       "\t</summary>\n",
       "\t<ol class=list-inline>\n",
       "\t\t<li>'no'</li>\n",
       "\t\t<li>'yes'</li>\n",
       "\t</ol>\n",
       "</details>"
      ],
      "text/latex": [
       "\\begin{enumerate*}\n",
       "\\item yes\n",
       "\\item no\n",
       "\\item no\n",
       "\\item yes\n",
       "\\item yes\n",
       "\\item no\n",
       "\\item no\n",
       "\\item no\n",
       "\\item yes\n",
       "\\item no\n",
       "\\item yes\n",
       "\\item yes\n",
       "\\item yes\n",
       "\\item yes\n",
       "\\item yes\n",
       "\\item no\n",
       "\\item no\n",
       "\\item yes\n",
       "\\item no\n",
       "\\item no\n",
       "\\item no\n",
       "\\item yes\n",
       "\\item yes\n",
       "\\item no\n",
       "\\item no\n",
       "\\item yes\n",
       "\\item no\n",
       "\\item yes\n",
       "\\item yes\n",
       "\\item yes\n",
       "\\item yes\n",
       "\\item yes\n",
       "\\item yes\n",
       "\\item no\n",
       "\\item no\n",
       "\\item no\n",
       "\\item yes\n",
       "\\item no\n",
       "\\item yes\n",
       "\\item yes\n",
       "\\item no\n",
       "\\item no\n",
       "\\item yes\n",
       "\\item no\n",
       "\\item no\n",
       "\\item yes\n",
       "\\item yes\n",
       "\\item yes\n",
       "\\item yes\n",
       "\\item no\n",
       "\\item yes\n",
       "\\item no\n",
       "\\item no\n",
       "\\item no\n",
       "\\item no\n",
       "\\item no\n",
       "\\item no\n",
       "\\item yes\n",
       "\\item no\n",
       "\\item no\n",
       "\\item yes\n",
       "\\item no\n",
       "\\item yes\n",
       "\\item no\n",
       "\\item yes\n",
       "\\item no\n",
       "\\item no\n",
       "\\item no\n",
       "\\item yes\n",
       "\\item yes\n",
       "\\item no\n",
       "\\item yes\n",
       "\\item yes\n",
       "\\item no\n",
       "\\item no\n",
       "\\item yes\n",
       "\\item no\n",
       "\\item yes\n",
       "\\item yes\n",
       "\\item no\n",
       "\\item no\n",
       "\\item no\n",
       "\\item no\n",
       "\\item no\n",
       "\\item no\n",
       "\\item no\n",
       "\\item no\n",
       "\\item no\n",
       "\\item yes\n",
       "\\item yes\n",
       "\\item yes\n",
       "\\item no\n",
       "\\item no\n",
       "\\item yes\n",
       "\\item no\n",
       "\\item yes\n",
       "\\item no\n",
       "\\item no\n",
       "\\item yes\n",
       "\\item yes\n",
       "\\end{enumerate*}\n",
       "\n",
       "\\emph{Levels}: \\begin{enumerate*}\n",
       "\\item 'no'\n",
       "\\item 'yes'\n",
       "\\end{enumerate*}\n"
      ],
      "text/markdown": [
       "1. yes\n",
       "2. no\n",
       "3. no\n",
       "4. yes\n",
       "5. yes\n",
       "6. no\n",
       "7. no\n",
       "8. no\n",
       "9. yes\n",
       "10. no\n",
       "11. yes\n",
       "12. yes\n",
       "13. yes\n",
       "14. yes\n",
       "15. yes\n",
       "16. no\n",
       "17. no\n",
       "18. yes\n",
       "19. no\n",
       "20. no\n",
       "21. no\n",
       "22. yes\n",
       "23. yes\n",
       "24. no\n",
       "25. no\n",
       "26. yes\n",
       "27. no\n",
       "28. yes\n",
       "29. yes\n",
       "30. yes\n",
       "31. yes\n",
       "32. yes\n",
       "33. yes\n",
       "34. no\n",
       "35. no\n",
       "36. no\n",
       "37. yes\n",
       "38. no\n",
       "39. yes\n",
       "40. yes\n",
       "41. no\n",
       "42. no\n",
       "43. yes\n",
       "44. no\n",
       "45. no\n",
       "46. yes\n",
       "47. yes\n",
       "48. yes\n",
       "49. yes\n",
       "50. no\n",
       "51. yes\n",
       "52. no\n",
       "53. no\n",
       "54. no\n",
       "55. no\n",
       "56. no\n",
       "57. no\n",
       "58. yes\n",
       "59. no\n",
       "60. no\n",
       "61. yes\n",
       "62. no\n",
       "63. yes\n",
       "64. no\n",
       "65. yes\n",
       "66. no\n",
       "67. no\n",
       "68. no\n",
       "69. yes\n",
       "70. yes\n",
       "71. no\n",
       "72. yes\n",
       "73. yes\n",
       "74. no\n",
       "75. no\n",
       "76. yes\n",
       "77. no\n",
       "78. yes\n",
       "79. yes\n",
       "80. no\n",
       "81. no\n",
       "82. no\n",
       "83. no\n",
       "84. no\n",
       "85. no\n",
       "86. no\n",
       "87. no\n",
       "88. no\n",
       "89. yes\n",
       "90. yes\n",
       "91. yes\n",
       "92. no\n",
       "93. no\n",
       "94. yes\n",
       "95. no\n",
       "96. yes\n",
       "97. no\n",
       "98. no\n",
       "99. yes\n",
       "100. yes\n",
       "\n",
       "\n",
       "\n",
       "**Levels**: 1. 'no'\n",
       "2. 'yes'\n",
       "\n",
       "\n"
      ],
      "text/plain": [
       "  [1] yes no  no  yes yes no  no  no  yes no  yes yes yes yes yes no  no  yes\n",
       " [19] no  no  no  yes yes no  no  yes no  yes yes yes yes yes yes no  no  no \n",
       " [37] yes no  yes yes no  no  yes no  no  yes yes yes yes no  yes no  no  no \n",
       " [55] no  no  no  yes no  no  yes no  yes no  yes no  no  no  yes yes no  yes\n",
       " [73] yes no  no  yes no  yes yes no  no  no  no  no  no  no  no  no  yes yes\n",
       " [91] yes no  no  yes no  yes no  no  yes yes\n",
       "Levels: no yes"
      ]
     },
     "metadata": {},
     "output_type": "display_data"
    }
   ],
   "source": [
    "set.seed(777)\n",
    "n <- 100 \n",
    "p <- 0.5\n",
    "x <- rbinom(n, 1, p)\n",
    "x <- factor(x, levels=c(0,1), labels=c('no', 'yes'))\n",
    "x"
   ]
  },
  {
   "cell_type": "code",
   "execution_count": 61,
   "metadata": {},
   "outputs": [
    {
     "data": {
      "text/plain": [
       "x\n",
       " no yes \n",
       " 54  46 "
      ]
     },
     "metadata": {},
     "output_type": "display_data"
    },
    {
     "data": {
      "text/plain": [
       "x\n",
       "  no  yes \n",
       "0.54 0.46 "
      ]
     },
     "metadata": {},
     "output_type": "display_data"
    }
   ],
   "source": [
    "table(x)\n",
    "prop.table(table(x))"
   ]
  },
  {
   "cell_type": "markdown",
   "metadata": {},
   "source": [
    "**가설 **\n",
    "$H_0 : p = 0.5 , H_1 : p \\neq 0.5$"
   ]
  },
  {
   "cell_type": "code",
   "execution_count": 62,
   "metadata": {},
   "outputs": [
    {
     "data": {
      "text/plain": [
       "\n",
       "\tExact binomial test\n",
       "\n",
       "data:  length(x[x == \"yes\"]) and length(x)\n",
       "number of successes = 46, number of trials = 100, p-value = 0.4841\n",
       "alternative hypothesis: true probability of success is not equal to 0.5\n",
       "95 percent confidence interval:\n",
       " 0.3598434 0.5625884\n",
       "sample estimates:\n",
       "probability of success \n",
       "                  0.46 \n"
      ]
     },
     "metadata": {},
     "output_type": "display_data"
    }
   ],
   "source": [
    "binom.test(x=length(x[x==\"yes\"]), n=length(x), p=0.5, alternative='two.sided')"
   ]
  }
 ],
 "metadata": {
  "kernelspec": {
   "display_name": "R",
   "language": "R",
   "name": "ir"
  },
  "language_info": {
   "codemirror_mode": "r",
   "file_extension": ".r",
   "mimetype": "text/x-r-source",
   "name": "R",
   "pygments_lexer": "r",
   "version": "3.4.3"
  },
  "latex_envs": {
   "LaTeX_envs_menu_present": true,
   "autoclose": false,
   "autocomplete": true,
   "bibliofile": "biblio.bib",
   "cite_by": "apalike",
   "current_citInitial": 1,
   "eqLabelWithNumbers": true,
   "eqNumInitial": 1,
   "hotkeys": {
    "equation": "Ctrl-E",
    "itemize": "Ctrl-I"
   },
   "labels_anchors": false,
   "latex_user_defs": false,
   "report_style_numbering": false,
   "user_envs_cfg": false
  },
  "toc": {
   "base_numbering": 1,
   "nav_menu": {},
   "number_sections": true,
   "sideBar": true,
   "skip_h1_title": false,
   "title_cell": "Table of Contents",
   "title_sidebar": "Contents",
   "toc_cell": false,
   "toc_position": {},
   "toc_section_display": true,
   "toc_window_display": false
  }
 },
 "nbformat": 4,
 "nbformat_minor": 2
}
